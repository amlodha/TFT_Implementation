{
 "cells": [
  {
   "cell_type": "code",
   "execution_count": 6,
   "metadata": {},
   "outputs": [],
   "source": [
    "# %pip install wget\n",
    "# %pip install pyunpack"
   ]
  },
  {
   "cell_type": "code",
   "execution_count": 7,
   "metadata": {},
   "outputs": [],
   "source": [
    "import os\n",
    "import pandas as pd\n",
    "import numpy as np\n",
    "import wget\n",
    "import shutil\n",
    "from pyunpack import Archive\n",
    "\n",
    "# General functions for data downloading & aggregation.\n",
    "def download_from_url(url, output_path):\n",
    "    \"\"\"Downloads a file from a URL.\"\"\"\n",
    "    print('Pulling data from {} to {}'.format(url, output_path))\n",
    "    wget.download(url, output_path)\n",
    "    print('\\nDownload complete.')\n",
    "\n",
    "def unzip(zip_path, output_file, data_folder):\n",
    "    \"\"\"Unzips files and checks successful completion.\"\"\"\n",
    "    print('Unzipping file: {}'.format(zip_path))\n",
    "    Archive(zip_path).extractall(data_folder)\n",
    "\n",
    "    # Check if unzip was successful\n",
    "    if not os.path.exists(output_file):\n",
    "        raise ValueError('Error in unzipping process! {} not found.'.format(output_file))\n",
    "\n",
    "def download_and_unzip(url, zip_path, csv_path, data_folder):\n",
    "    \"\"\"Downloads and unzips an online CSV file.\"\"\"\n",
    "    download_from_url(url, zip_path)\n",
    "    unzip(zip_path, csv_path, data_folder)\n",
    "    print('File successfully unzipped.')\n",
    "\n",
    "def download_electricity():\n",
    "    \"\"\"Downloads electricity dataset, processes it, and saves to CSV.\"\"\"\n",
    "    # Define local paths\n",
    "    url = 'https://archive.ics.uci.edu/ml/machine-learning-databases/00321/LD2011_2014.txt.zip'\n",
    "    data_folder = './data'\n",
    "    os.makedirs(data_folder, exist_ok=True)\n",
    "    \n",
    "    zip_path = os.path.join(data_folder, 'LD2011_2014.txt.zip')\n",
    "    csv_path = os.path.join(data_folder, 'LD2011_2014.txt')\n",
    "    output_csv = os.path.join(data_folder, 'processed_electricity_data.csv')\n",
    "    \n",
    "    # Download and unzip\n",
    "    download_and_unzip(url, zip_path, csv_path, data_folder)\n",
    "    \n",
    "    print('Aggregating to hourly data...')\n",
    "    df = pd.read_csv(csv_path, index_col=0, sep=';', decimal=',')\n",
    "    df.index = pd.to_datetime(df.index)\n",
    "    df.sort_index(inplace=True)\n",
    "    \n",
    "    # Resample to hourly data\n",
    "    output = df.resample('1h').mean().replace(0., np.nan)\n",
    "    earliest_time = output.index.min()\n",
    "    \n",
    "    # Process each column in the dataset\n",
    "    df_list = []\n",
    "    for label in output:\n",
    "        print('Processing {}'.format(label))\n",
    "        srs = output[label]\n",
    "        \n",
    "        start_date = min(srs.fillna(method='ffill').dropna().index)\n",
    "        end_date = max(srs.fillna(method='bfill').dropna().index)\n",
    "        \n",
    "        active_range = (srs.index >= start_date) & (srs.index <= end_date)\n",
    "        srs = srs[active_range].fillna(0.)\n",
    "        \n",
    "        tmp = pd.DataFrame({'power_usage': srs})\n",
    "        date = tmp.index\n",
    "        tmp['t'] = (date - earliest_time).seconds / 60 / 60 + (\n",
    "            date - earliest_time).days * 24\n",
    "        tmp['days_from_start'] = (date - earliest_time).days\n",
    "        tmp['categorical_id'] = label\n",
    "        tmp['date'] = date\n",
    "        tmp['id'] = label\n",
    "        tmp['hour'] = date.hour\n",
    "        tmp['day'] = date.day\n",
    "        tmp['day_of_week'] = date.dayofweek\n",
    "        tmp['month'] = date.month\n",
    "        \n",
    "        df_list.append(tmp)\n",
    "    \n",
    "    # Combine and finalize output\n",
    "    output = pd.concat(df_list, axis=0, join='outer').reset_index(drop=True)\n",
    "    output['categorical_id'] = output['id'].copy()\n",
    "    output['hours_from_start'] = output['t']\n",
    "    output['categorical_day_of_week'] = output['day_of_week'].copy()\n",
    "    output['categorical_hour'] = output['hour'].copy()\n",
    "    \n",
    "    # Filter rows based on range used in academic papers\n",
    "    output = output[(output['days_from_start'] >= 1096)\n",
    "                    & (output['days_from_start'] < 1346)].copy()\n",
    "    \n",
    "    # Save final processed data\n",
    "    output.to_csv(output_csv, index=False)\n",
    "    print('Processed data saved to {}'.format(output_csv))\n",
    "    print('Done.')"
   ]
  },
  {
   "cell_type": "code",
   "execution_count": 8,
   "metadata": {},
   "outputs": [
    {
     "name": "stdout",
     "output_type": "stream",
     "text": [
      "Pulling data from https://archive.ics.uci.edu/ml/machine-learning-databases/00321/LD2011_2014.txt.zip to ./data/LD2011_2014.txt.zip\n",
      "\n",
      "Download complete.\n",
      "Unzipping file: ./data/LD2011_2014.txt.zip\n",
      "File successfully unzipped.\n",
      "Aggregating to hourly data...\n",
      "Processing MT_001\n",
      "Processing MT_002\n",
      "Processing MT_003\n"
     ]
    },
    {
     "name": "stderr",
     "output_type": "stream",
     "text": [
      "/tmp/ipykernel_54851/1030994316.py:59: FutureWarning: Series.fillna with 'method' is deprecated and will raise in a future version. Use obj.ffill() or obj.bfill() instead.\n",
      "  start_date = min(srs.fillna(method='ffill').dropna().index)\n",
      "/tmp/ipykernel_54851/1030994316.py:60: FutureWarning: Series.fillna with 'method' is deprecated and will raise in a future version. Use obj.ffill() or obj.bfill() instead.\n",
      "  end_date = max(srs.fillna(method='bfill').dropna().index)\n",
      "/tmp/ipykernel_54851/1030994316.py:59: FutureWarning: Series.fillna with 'method' is deprecated and will raise in a future version. Use obj.ffill() or obj.bfill() instead.\n",
      "  start_date = min(srs.fillna(method='ffill').dropna().index)\n",
      "/tmp/ipykernel_54851/1030994316.py:60: FutureWarning: Series.fillna with 'method' is deprecated and will raise in a future version. Use obj.ffill() or obj.bfill() instead.\n",
      "  end_date = max(srs.fillna(method='bfill').dropna().index)\n",
      "/tmp/ipykernel_54851/1030994316.py:59: FutureWarning: Series.fillna with 'method' is deprecated and will raise in a future version. Use obj.ffill() or obj.bfill() instead.\n",
      "  start_date = min(srs.fillna(method='ffill').dropna().index)\n",
      "/tmp/ipykernel_54851/1030994316.py:60: FutureWarning: Series.fillna with 'method' is deprecated and will raise in a future version. Use obj.ffill() or obj.bfill() instead.\n",
      "  end_date = max(srs.fillna(method='bfill').dropna().index)\n"
     ]
    },
    {
     "name": "stdout",
     "output_type": "stream",
     "text": [
      "Processing MT_004\n",
      "Processing MT_005\n",
      "Processing MT_006\n"
     ]
    },
    {
     "name": "stderr",
     "output_type": "stream",
     "text": [
      "/tmp/ipykernel_54851/1030994316.py:59: FutureWarning: Series.fillna with 'method' is deprecated and will raise in a future version. Use obj.ffill() or obj.bfill() instead.\n",
      "  start_date = min(srs.fillna(method='ffill').dropna().index)\n",
      "/tmp/ipykernel_54851/1030994316.py:60: FutureWarning: Series.fillna with 'method' is deprecated and will raise in a future version. Use obj.ffill() or obj.bfill() instead.\n",
      "  end_date = max(srs.fillna(method='bfill').dropna().index)\n",
      "/tmp/ipykernel_54851/1030994316.py:59: FutureWarning: Series.fillna with 'method' is deprecated and will raise in a future version. Use obj.ffill() or obj.bfill() instead.\n",
      "  start_date = min(srs.fillna(method='ffill').dropna().index)\n",
      "/tmp/ipykernel_54851/1030994316.py:60: FutureWarning: Series.fillna with 'method' is deprecated and will raise in a future version. Use obj.ffill() or obj.bfill() instead.\n",
      "  end_date = max(srs.fillna(method='bfill').dropna().index)\n",
      "/tmp/ipykernel_54851/1030994316.py:59: FutureWarning: Series.fillna with 'method' is deprecated and will raise in a future version. Use obj.ffill() or obj.bfill() instead.\n",
      "  start_date = min(srs.fillna(method='ffill').dropna().index)\n",
      "/tmp/ipykernel_54851/1030994316.py:60: FutureWarning: Series.fillna with 'method' is deprecated and will raise in a future version. Use obj.ffill() or obj.bfill() instead.\n",
      "  end_date = max(srs.fillna(method='bfill').dropna().index)\n"
     ]
    },
    {
     "name": "stdout",
     "output_type": "stream",
     "text": [
      "Processing MT_007\n",
      "Processing MT_008\n",
      "Processing MT_009\n"
     ]
    },
    {
     "name": "stderr",
     "output_type": "stream",
     "text": [
      "/tmp/ipykernel_54851/1030994316.py:59: FutureWarning: Series.fillna with 'method' is deprecated and will raise in a future version. Use obj.ffill() or obj.bfill() instead.\n",
      "  start_date = min(srs.fillna(method='ffill').dropna().index)\n",
      "/tmp/ipykernel_54851/1030994316.py:60: FutureWarning: Series.fillna with 'method' is deprecated and will raise in a future version. Use obj.ffill() or obj.bfill() instead.\n",
      "  end_date = max(srs.fillna(method='bfill').dropna().index)\n",
      "/tmp/ipykernel_54851/1030994316.py:59: FutureWarning: Series.fillna with 'method' is deprecated and will raise in a future version. Use obj.ffill() or obj.bfill() instead.\n",
      "  start_date = min(srs.fillna(method='ffill').dropna().index)\n",
      "/tmp/ipykernel_54851/1030994316.py:60: FutureWarning: Series.fillna with 'method' is deprecated and will raise in a future version. Use obj.ffill() or obj.bfill() instead.\n",
      "  end_date = max(srs.fillna(method='bfill').dropna().index)\n",
      "/tmp/ipykernel_54851/1030994316.py:59: FutureWarning: Series.fillna with 'method' is deprecated and will raise in a future version. Use obj.ffill() or obj.bfill() instead.\n",
      "  start_date = min(srs.fillna(method='ffill').dropna().index)\n",
      "/tmp/ipykernel_54851/1030994316.py:60: FutureWarning: Series.fillna with 'method' is deprecated and will raise in a future version. Use obj.ffill() or obj.bfill() instead.\n",
      "  end_date = max(srs.fillna(method='bfill').dropna().index)\n"
     ]
    },
    {
     "name": "stdout",
     "output_type": "stream",
     "text": [
      "Processing MT_010\n",
      "Processing MT_011\n",
      "Processing MT_012\n",
      "Processing MT_013\n"
     ]
    },
    {
     "name": "stderr",
     "output_type": "stream",
     "text": [
      "/tmp/ipykernel_54851/1030994316.py:59: FutureWarning: Series.fillna with 'method' is deprecated and will raise in a future version. Use obj.ffill() or obj.bfill() instead.\n",
      "  start_date = min(srs.fillna(method='ffill').dropna().index)\n",
      "/tmp/ipykernel_54851/1030994316.py:60: FutureWarning: Series.fillna with 'method' is deprecated and will raise in a future version. Use obj.ffill() or obj.bfill() instead.\n",
      "  end_date = max(srs.fillna(method='bfill').dropna().index)\n",
      "/tmp/ipykernel_54851/1030994316.py:59: FutureWarning: Series.fillna with 'method' is deprecated and will raise in a future version. Use obj.ffill() or obj.bfill() instead.\n",
      "  start_date = min(srs.fillna(method='ffill').dropna().index)\n",
      "/tmp/ipykernel_54851/1030994316.py:60: FutureWarning: Series.fillna with 'method' is deprecated and will raise in a future version. Use obj.ffill() or obj.bfill() instead.\n",
      "  end_date = max(srs.fillna(method='bfill').dropna().index)\n",
      "/tmp/ipykernel_54851/1030994316.py:59: FutureWarning: Series.fillna with 'method' is deprecated and will raise in a future version. Use obj.ffill() or obj.bfill() instead.\n",
      "  start_date = min(srs.fillna(method='ffill').dropna().index)\n",
      "/tmp/ipykernel_54851/1030994316.py:60: FutureWarning: Series.fillna with 'method' is deprecated and will raise in a future version. Use obj.ffill() or obj.bfill() instead.\n",
      "  end_date = max(srs.fillna(method='bfill').dropna().index)\n",
      "/tmp/ipykernel_54851/1030994316.py:59: FutureWarning: Series.fillna with 'method' is deprecated and will raise in a future version. Use obj.ffill() or obj.bfill() instead.\n",
      "  start_date = min(srs.fillna(method='ffill').dropna().index)\n",
      "/tmp/ipykernel_54851/1030994316.py:60: FutureWarning: Series.fillna with 'method' is deprecated and will raise in a future version. Use obj.ffill() or obj.bfill() instead.\n",
      "  end_date = max(srs.fillna(method='bfill').dropna().index)\n"
     ]
    },
    {
     "name": "stdout",
     "output_type": "stream",
     "text": [
      "Processing MT_014\n",
      "Processing MT_015\n",
      "Processing MT_016\n",
      "Processing MT_017\n"
     ]
    },
    {
     "name": "stderr",
     "output_type": "stream",
     "text": [
      "/tmp/ipykernel_54851/1030994316.py:59: FutureWarning: Series.fillna with 'method' is deprecated and will raise in a future version. Use obj.ffill() or obj.bfill() instead.\n",
      "  start_date = min(srs.fillna(method='ffill').dropna().index)\n",
      "/tmp/ipykernel_54851/1030994316.py:60: FutureWarning: Series.fillna with 'method' is deprecated and will raise in a future version. Use obj.ffill() or obj.bfill() instead.\n",
      "  end_date = max(srs.fillna(method='bfill').dropna().index)\n",
      "/tmp/ipykernel_54851/1030994316.py:59: FutureWarning: Series.fillna with 'method' is deprecated and will raise in a future version. Use obj.ffill() or obj.bfill() instead.\n",
      "  start_date = min(srs.fillna(method='ffill').dropna().index)\n",
      "/tmp/ipykernel_54851/1030994316.py:60: FutureWarning: Series.fillna with 'method' is deprecated and will raise in a future version. Use obj.ffill() or obj.bfill() instead.\n",
      "  end_date = max(srs.fillna(method='bfill').dropna().index)\n",
      "/tmp/ipykernel_54851/1030994316.py:59: FutureWarning: Series.fillna with 'method' is deprecated and will raise in a future version. Use obj.ffill() or obj.bfill() instead.\n",
      "  start_date = min(srs.fillna(method='ffill').dropna().index)\n",
      "/tmp/ipykernel_54851/1030994316.py:60: FutureWarning: Series.fillna with 'method' is deprecated and will raise in a future version. Use obj.ffill() or obj.bfill() instead.\n",
      "  end_date = max(srs.fillna(method='bfill').dropna().index)\n",
      "/tmp/ipykernel_54851/1030994316.py:59: FutureWarning: Series.fillna with 'method' is deprecated and will raise in a future version. Use obj.ffill() or obj.bfill() instead.\n",
      "  start_date = min(srs.fillna(method='ffill').dropna().index)\n",
      "/tmp/ipykernel_54851/1030994316.py:60: FutureWarning: Series.fillna with 'method' is deprecated and will raise in a future version. Use obj.ffill() or obj.bfill() instead.\n",
      "  end_date = max(srs.fillna(method='bfill').dropna().index)\n"
     ]
    },
    {
     "name": "stdout",
     "output_type": "stream",
     "text": [
      "Processing MT_018\n",
      "Processing MT_019\n",
      "Processing MT_020\n"
     ]
    },
    {
     "name": "stderr",
     "output_type": "stream",
     "text": [
      "/tmp/ipykernel_54851/1030994316.py:59: FutureWarning: Series.fillna with 'method' is deprecated and will raise in a future version. Use obj.ffill() or obj.bfill() instead.\n",
      "  start_date = min(srs.fillna(method='ffill').dropna().index)\n",
      "/tmp/ipykernel_54851/1030994316.py:60: FutureWarning: Series.fillna with 'method' is deprecated and will raise in a future version. Use obj.ffill() or obj.bfill() instead.\n",
      "  end_date = max(srs.fillna(method='bfill').dropna().index)\n",
      "/tmp/ipykernel_54851/1030994316.py:59: FutureWarning: Series.fillna with 'method' is deprecated and will raise in a future version. Use obj.ffill() or obj.bfill() instead.\n",
      "  start_date = min(srs.fillna(method='ffill').dropna().index)\n",
      "/tmp/ipykernel_54851/1030994316.py:60: FutureWarning: Series.fillna with 'method' is deprecated and will raise in a future version. Use obj.ffill() or obj.bfill() instead.\n",
      "  end_date = max(srs.fillna(method='bfill').dropna().index)\n",
      "/tmp/ipykernel_54851/1030994316.py:59: FutureWarning: Series.fillna with 'method' is deprecated and will raise in a future version. Use obj.ffill() or obj.bfill() instead.\n",
      "  start_date = min(srs.fillna(method='ffill').dropna().index)\n",
      "/tmp/ipykernel_54851/1030994316.py:60: FutureWarning: Series.fillna with 'method' is deprecated and will raise in a future version. Use obj.ffill() or obj.bfill() instead.\n",
      "  end_date = max(srs.fillna(method='bfill').dropna().index)\n"
     ]
    },
    {
     "name": "stdout",
     "output_type": "stream",
     "text": [
      "Processing MT_021\n",
      "Processing MT_022\n",
      "Processing MT_023\n"
     ]
    },
    {
     "name": "stderr",
     "output_type": "stream",
     "text": [
      "/tmp/ipykernel_54851/1030994316.py:59: FutureWarning: Series.fillna with 'method' is deprecated and will raise in a future version. Use obj.ffill() or obj.bfill() instead.\n",
      "  start_date = min(srs.fillna(method='ffill').dropna().index)\n",
      "/tmp/ipykernel_54851/1030994316.py:60: FutureWarning: Series.fillna with 'method' is deprecated and will raise in a future version. Use obj.ffill() or obj.bfill() instead.\n",
      "  end_date = max(srs.fillna(method='bfill').dropna().index)\n",
      "/tmp/ipykernel_54851/1030994316.py:59: FutureWarning: Series.fillna with 'method' is deprecated and will raise in a future version. Use obj.ffill() or obj.bfill() instead.\n",
      "  start_date = min(srs.fillna(method='ffill').dropna().index)\n",
      "/tmp/ipykernel_54851/1030994316.py:60: FutureWarning: Series.fillna with 'method' is deprecated and will raise in a future version. Use obj.ffill() or obj.bfill() instead.\n",
      "  end_date = max(srs.fillna(method='bfill').dropna().index)\n",
      "/tmp/ipykernel_54851/1030994316.py:59: FutureWarning: Series.fillna with 'method' is deprecated and will raise in a future version. Use obj.ffill() or obj.bfill() instead.\n",
      "  start_date = min(srs.fillna(method='ffill').dropna().index)\n",
      "/tmp/ipykernel_54851/1030994316.py:60: FutureWarning: Series.fillna with 'method' is deprecated and will raise in a future version. Use obj.ffill() or obj.bfill() instead.\n",
      "  end_date = max(srs.fillna(method='bfill').dropna().index)\n"
     ]
    },
    {
     "name": "stdout",
     "output_type": "stream",
     "text": [
      "Processing MT_024\n",
      "Processing MT_025\n",
      "Processing MT_026\n"
     ]
    },
    {
     "name": "stderr",
     "output_type": "stream",
     "text": [
      "/tmp/ipykernel_54851/1030994316.py:59: FutureWarning: Series.fillna with 'method' is deprecated and will raise in a future version. Use obj.ffill() or obj.bfill() instead.\n",
      "  start_date = min(srs.fillna(method='ffill').dropna().index)\n",
      "/tmp/ipykernel_54851/1030994316.py:60: FutureWarning: Series.fillna with 'method' is deprecated and will raise in a future version. Use obj.ffill() or obj.bfill() instead.\n",
      "  end_date = max(srs.fillna(method='bfill').dropna().index)\n",
      "/tmp/ipykernel_54851/1030994316.py:59: FutureWarning: Series.fillna with 'method' is deprecated and will raise in a future version. Use obj.ffill() or obj.bfill() instead.\n",
      "  start_date = min(srs.fillna(method='ffill').dropna().index)\n",
      "/tmp/ipykernel_54851/1030994316.py:60: FutureWarning: Series.fillna with 'method' is deprecated and will raise in a future version. Use obj.ffill() or obj.bfill() instead.\n",
      "  end_date = max(srs.fillna(method='bfill').dropna().index)\n",
      "/tmp/ipykernel_54851/1030994316.py:59: FutureWarning: Series.fillna with 'method' is deprecated and will raise in a future version. Use obj.ffill() or obj.bfill() instead.\n",
      "  start_date = min(srs.fillna(method='ffill').dropna().index)\n",
      "/tmp/ipykernel_54851/1030994316.py:60: FutureWarning: Series.fillna with 'method' is deprecated and will raise in a future version. Use obj.ffill() or obj.bfill() instead.\n",
      "  end_date = max(srs.fillna(method='bfill').dropna().index)\n"
     ]
    },
    {
     "name": "stdout",
     "output_type": "stream",
     "text": [
      "Processing MT_027\n",
      "Processing MT_028\n",
      "Processing MT_029\n"
     ]
    },
    {
     "name": "stderr",
     "output_type": "stream",
     "text": [
      "/tmp/ipykernel_54851/1030994316.py:59: FutureWarning: Series.fillna with 'method' is deprecated and will raise in a future version. Use obj.ffill() or obj.bfill() instead.\n",
      "  start_date = min(srs.fillna(method='ffill').dropna().index)\n",
      "/tmp/ipykernel_54851/1030994316.py:60: FutureWarning: Series.fillna with 'method' is deprecated and will raise in a future version. Use obj.ffill() or obj.bfill() instead.\n",
      "  end_date = max(srs.fillna(method='bfill').dropna().index)\n",
      "/tmp/ipykernel_54851/1030994316.py:59: FutureWarning: Series.fillna with 'method' is deprecated and will raise in a future version. Use obj.ffill() or obj.bfill() instead.\n",
      "  start_date = min(srs.fillna(method='ffill').dropna().index)\n",
      "/tmp/ipykernel_54851/1030994316.py:60: FutureWarning: Series.fillna with 'method' is deprecated and will raise in a future version. Use obj.ffill() or obj.bfill() instead.\n",
      "  end_date = max(srs.fillna(method='bfill').dropna().index)\n",
      "/tmp/ipykernel_54851/1030994316.py:59: FutureWarning: Series.fillna with 'method' is deprecated and will raise in a future version. Use obj.ffill() or obj.bfill() instead.\n",
      "  start_date = min(srs.fillna(method='ffill').dropna().index)\n",
      "/tmp/ipykernel_54851/1030994316.py:60: FutureWarning: Series.fillna with 'method' is deprecated and will raise in a future version. Use obj.ffill() or obj.bfill() instead.\n",
      "  end_date = max(srs.fillna(method='bfill').dropna().index)\n"
     ]
    },
    {
     "name": "stdout",
     "output_type": "stream",
     "text": [
      "Processing MT_030\n",
      "Processing MT_031\n",
      "Processing MT_032\n",
      "Processing MT_033\n"
     ]
    },
    {
     "name": "stderr",
     "output_type": "stream",
     "text": [
      "/tmp/ipykernel_54851/1030994316.py:59: FutureWarning: Series.fillna with 'method' is deprecated and will raise in a future version. Use obj.ffill() or obj.bfill() instead.\n",
      "  start_date = min(srs.fillna(method='ffill').dropna().index)\n",
      "/tmp/ipykernel_54851/1030994316.py:60: FutureWarning: Series.fillna with 'method' is deprecated and will raise in a future version. Use obj.ffill() or obj.bfill() instead.\n",
      "  end_date = max(srs.fillna(method='bfill').dropna().index)\n",
      "/tmp/ipykernel_54851/1030994316.py:59: FutureWarning: Series.fillna with 'method' is deprecated and will raise in a future version. Use obj.ffill() or obj.bfill() instead.\n",
      "  start_date = min(srs.fillna(method='ffill').dropna().index)\n",
      "/tmp/ipykernel_54851/1030994316.py:60: FutureWarning: Series.fillna with 'method' is deprecated and will raise in a future version. Use obj.ffill() or obj.bfill() instead.\n",
      "  end_date = max(srs.fillna(method='bfill').dropna().index)\n",
      "/tmp/ipykernel_54851/1030994316.py:59: FutureWarning: Series.fillna with 'method' is deprecated and will raise in a future version. Use obj.ffill() or obj.bfill() instead.\n",
      "  start_date = min(srs.fillna(method='ffill').dropna().index)\n",
      "/tmp/ipykernel_54851/1030994316.py:60: FutureWarning: Series.fillna with 'method' is deprecated and will raise in a future version. Use obj.ffill() or obj.bfill() instead.\n",
      "  end_date = max(srs.fillna(method='bfill').dropna().index)\n",
      "/tmp/ipykernel_54851/1030994316.py:59: FutureWarning: Series.fillna with 'method' is deprecated and will raise in a future version. Use obj.ffill() or obj.bfill() instead.\n",
      "  start_date = min(srs.fillna(method='ffill').dropna().index)\n",
      "/tmp/ipykernel_54851/1030994316.py:60: FutureWarning: Series.fillna with 'method' is deprecated and will raise in a future version. Use obj.ffill() or obj.bfill() instead.\n",
      "  end_date = max(srs.fillna(method='bfill').dropna().index)\n"
     ]
    },
    {
     "name": "stdout",
     "output_type": "stream",
     "text": [
      "Processing MT_034\n",
      "Processing MT_035\n",
      "Processing MT_036\n"
     ]
    },
    {
     "name": "stderr",
     "output_type": "stream",
     "text": [
      "/tmp/ipykernel_54851/1030994316.py:59: FutureWarning: Series.fillna with 'method' is deprecated and will raise in a future version. Use obj.ffill() or obj.bfill() instead.\n",
      "  start_date = min(srs.fillna(method='ffill').dropna().index)\n",
      "/tmp/ipykernel_54851/1030994316.py:60: FutureWarning: Series.fillna with 'method' is deprecated and will raise in a future version. Use obj.ffill() or obj.bfill() instead.\n",
      "  end_date = max(srs.fillna(method='bfill').dropna().index)\n",
      "/tmp/ipykernel_54851/1030994316.py:59: FutureWarning: Series.fillna with 'method' is deprecated and will raise in a future version. Use obj.ffill() or obj.bfill() instead.\n",
      "  start_date = min(srs.fillna(method='ffill').dropna().index)\n",
      "/tmp/ipykernel_54851/1030994316.py:60: FutureWarning: Series.fillna with 'method' is deprecated and will raise in a future version. Use obj.ffill() or obj.bfill() instead.\n",
      "  end_date = max(srs.fillna(method='bfill').dropna().index)\n",
      "/tmp/ipykernel_54851/1030994316.py:59: FutureWarning: Series.fillna with 'method' is deprecated and will raise in a future version. Use obj.ffill() or obj.bfill() instead.\n",
      "  start_date = min(srs.fillna(method='ffill').dropna().index)\n",
      "/tmp/ipykernel_54851/1030994316.py:60: FutureWarning: Series.fillna with 'method' is deprecated and will raise in a future version. Use obj.ffill() or obj.bfill() instead.\n",
      "  end_date = max(srs.fillna(method='bfill').dropna().index)\n"
     ]
    },
    {
     "name": "stdout",
     "output_type": "stream",
     "text": [
      "Processing MT_037\n",
      "Processing MT_038\n",
      "Processing MT_039\n",
      "Processing MT_040\n"
     ]
    },
    {
     "name": "stderr",
     "output_type": "stream",
     "text": [
      "/tmp/ipykernel_54851/1030994316.py:59: FutureWarning: Series.fillna with 'method' is deprecated and will raise in a future version. Use obj.ffill() or obj.bfill() instead.\n",
      "  start_date = min(srs.fillna(method='ffill').dropna().index)\n",
      "/tmp/ipykernel_54851/1030994316.py:60: FutureWarning: Series.fillna with 'method' is deprecated and will raise in a future version. Use obj.ffill() or obj.bfill() instead.\n",
      "  end_date = max(srs.fillna(method='bfill').dropna().index)\n",
      "/tmp/ipykernel_54851/1030994316.py:59: FutureWarning: Series.fillna with 'method' is deprecated and will raise in a future version. Use obj.ffill() or obj.bfill() instead.\n",
      "  start_date = min(srs.fillna(method='ffill').dropna().index)\n",
      "/tmp/ipykernel_54851/1030994316.py:60: FutureWarning: Series.fillna with 'method' is deprecated and will raise in a future version. Use obj.ffill() or obj.bfill() instead.\n",
      "  end_date = max(srs.fillna(method='bfill').dropna().index)\n",
      "/tmp/ipykernel_54851/1030994316.py:59: FutureWarning: Series.fillna with 'method' is deprecated and will raise in a future version. Use obj.ffill() or obj.bfill() instead.\n",
      "  start_date = min(srs.fillna(method='ffill').dropna().index)\n",
      "/tmp/ipykernel_54851/1030994316.py:60: FutureWarning: Series.fillna with 'method' is deprecated and will raise in a future version. Use obj.ffill() or obj.bfill() instead.\n",
      "  end_date = max(srs.fillna(method='bfill').dropna().index)\n",
      "/tmp/ipykernel_54851/1030994316.py:59: FutureWarning: Series.fillna with 'method' is deprecated and will raise in a future version. Use obj.ffill() or obj.bfill() instead.\n",
      "  start_date = min(srs.fillna(method='ffill').dropna().index)\n",
      "/tmp/ipykernel_54851/1030994316.py:60: FutureWarning: Series.fillna with 'method' is deprecated and will raise in a future version. Use obj.ffill() or obj.bfill() instead.\n",
      "  end_date = max(srs.fillna(method='bfill').dropna().index)\n",
      "/tmp/ipykernel_54851/1030994316.py:59: FutureWarning: Series.fillna with 'method' is deprecated and will raise in a future version. Use obj.ffill() or obj.bfill() instead.\n",
      "  start_date = min(srs.fillna(method='ffill').dropna().index)\n",
      "/tmp/ipykernel_54851/1030994316.py:60: FutureWarning: Series.fillna with 'method' is deprecated and will raise in a future version. Use obj.ffill() or obj.bfill() instead.\n",
      "  end_date = max(srs.fillna(method='bfill').dropna().index)\n",
      "/tmp/ipykernel_54851/1030994316.py:59: FutureWarning: Series.fillna with 'method' is deprecated and will raise in a future version. Use obj.ffill() or obj.bfill() instead.\n",
      "  start_date = min(srs.fillna(method='ffill').dropna().index)\n",
      "/tmp/ipykernel_54851/1030994316.py:60: FutureWarning: Series.fillna with 'method' is deprecated and will raise in a future version. Use obj.ffill() or obj.bfill() instead.\n",
      "  end_date = max(srs.fillna(method='bfill').dropna().index)\n",
      "/tmp/ipykernel_54851/1030994316.py:59: FutureWarning: Series.fillna with 'method' is deprecated and will raise in a future version. Use obj.ffill() or obj.bfill() instead.\n",
      "  start_date = min(srs.fillna(method='ffill').dropna().index)\n",
      "/tmp/ipykernel_54851/1030994316.py:60: FutureWarning: Series.fillna with 'method' is deprecated and will raise in a future version. Use obj.ffill() or obj.bfill() instead.\n",
      "  end_date = max(srs.fillna(method='bfill').dropna().index)\n"
     ]
    },
    {
     "name": "stdout",
     "output_type": "stream",
     "text": [
      "Processing MT_041\n",
      "Processing MT_042\n",
      "Processing MT_043\n",
      "Processing MT_044\n",
      "Processing MT_045\n",
      "Processing MT_046\n"
     ]
    },
    {
     "name": "stderr",
     "output_type": "stream",
     "text": [
      "/tmp/ipykernel_54851/1030994316.py:59: FutureWarning: Series.fillna with 'method' is deprecated and will raise in a future version. Use obj.ffill() or obj.bfill() instead.\n",
      "  start_date = min(srs.fillna(method='ffill').dropna().index)\n",
      "/tmp/ipykernel_54851/1030994316.py:60: FutureWarning: Series.fillna with 'method' is deprecated and will raise in a future version. Use obj.ffill() or obj.bfill() instead.\n",
      "  end_date = max(srs.fillna(method='bfill').dropna().index)\n",
      "/tmp/ipykernel_54851/1030994316.py:59: FutureWarning: Series.fillna with 'method' is deprecated and will raise in a future version. Use obj.ffill() or obj.bfill() instead.\n",
      "  start_date = min(srs.fillna(method='ffill').dropna().index)\n",
      "/tmp/ipykernel_54851/1030994316.py:60: FutureWarning: Series.fillna with 'method' is deprecated and will raise in a future version. Use obj.ffill() or obj.bfill() instead.\n",
      "  end_date = max(srs.fillna(method='bfill').dropna().index)\n",
      "/tmp/ipykernel_54851/1030994316.py:59: FutureWarning: Series.fillna with 'method' is deprecated and will raise in a future version. Use obj.ffill() or obj.bfill() instead.\n",
      "  start_date = min(srs.fillna(method='ffill').dropna().index)\n",
      "/tmp/ipykernel_54851/1030994316.py:60: FutureWarning: Series.fillna with 'method' is deprecated and will raise in a future version. Use obj.ffill() or obj.bfill() instead.\n",
      "  end_date = max(srs.fillna(method='bfill').dropna().index)\n"
     ]
    },
    {
     "name": "stdout",
     "output_type": "stream",
     "text": [
      "Processing MT_047\n",
      "Processing MT_048\n",
      "Processing MT_049\n"
     ]
    },
    {
     "name": "stderr",
     "output_type": "stream",
     "text": [
      "/tmp/ipykernel_54851/1030994316.py:59: FutureWarning: Series.fillna with 'method' is deprecated and will raise in a future version. Use obj.ffill() or obj.bfill() instead.\n",
      "  start_date = min(srs.fillna(method='ffill').dropna().index)\n",
      "/tmp/ipykernel_54851/1030994316.py:60: FutureWarning: Series.fillna with 'method' is deprecated and will raise in a future version. Use obj.ffill() or obj.bfill() instead.\n",
      "  end_date = max(srs.fillna(method='bfill').dropna().index)\n",
      "/tmp/ipykernel_54851/1030994316.py:59: FutureWarning: Series.fillna with 'method' is deprecated and will raise in a future version. Use obj.ffill() or obj.bfill() instead.\n",
      "  start_date = min(srs.fillna(method='ffill').dropna().index)\n",
      "/tmp/ipykernel_54851/1030994316.py:60: FutureWarning: Series.fillna with 'method' is deprecated and will raise in a future version. Use obj.ffill() or obj.bfill() instead.\n",
      "  end_date = max(srs.fillna(method='bfill').dropna().index)\n",
      "/tmp/ipykernel_54851/1030994316.py:59: FutureWarning: Series.fillna with 'method' is deprecated and will raise in a future version. Use obj.ffill() or obj.bfill() instead.\n",
      "  start_date = min(srs.fillna(method='ffill').dropna().index)\n",
      "/tmp/ipykernel_54851/1030994316.py:60: FutureWarning: Series.fillna with 'method' is deprecated and will raise in a future version. Use obj.ffill() or obj.bfill() instead.\n",
      "  end_date = max(srs.fillna(method='bfill').dropna().index)\n"
     ]
    },
    {
     "name": "stdout",
     "output_type": "stream",
     "text": [
      "Processing MT_050\n",
      "Processing MT_051\n",
      "Processing MT_052\n"
     ]
    },
    {
     "name": "stderr",
     "output_type": "stream",
     "text": [
      "/tmp/ipykernel_54851/1030994316.py:59: FutureWarning: Series.fillna with 'method' is deprecated and will raise in a future version. Use obj.ffill() or obj.bfill() instead.\n",
      "  start_date = min(srs.fillna(method='ffill').dropna().index)\n",
      "/tmp/ipykernel_54851/1030994316.py:60: FutureWarning: Series.fillna with 'method' is deprecated and will raise in a future version. Use obj.ffill() or obj.bfill() instead.\n",
      "  end_date = max(srs.fillna(method='bfill').dropna().index)\n",
      "/tmp/ipykernel_54851/1030994316.py:59: FutureWarning: Series.fillna with 'method' is deprecated and will raise in a future version. Use obj.ffill() or obj.bfill() instead.\n",
      "  start_date = min(srs.fillna(method='ffill').dropna().index)\n",
      "/tmp/ipykernel_54851/1030994316.py:60: FutureWarning: Series.fillna with 'method' is deprecated and will raise in a future version. Use obj.ffill() or obj.bfill() instead.\n",
      "  end_date = max(srs.fillna(method='bfill').dropna().index)\n",
      "/tmp/ipykernel_54851/1030994316.py:59: FutureWarning: Series.fillna with 'method' is deprecated and will raise in a future version. Use obj.ffill() or obj.bfill() instead.\n",
      "  start_date = min(srs.fillna(method='ffill').dropna().index)\n",
      "/tmp/ipykernel_54851/1030994316.py:60: FutureWarning: Series.fillna with 'method' is deprecated and will raise in a future version. Use obj.ffill() or obj.bfill() instead.\n",
      "  end_date = max(srs.fillna(method='bfill').dropna().index)\n"
     ]
    },
    {
     "name": "stdout",
     "output_type": "stream",
     "text": [
      "Processing MT_053\n",
      "Processing MT_054\n",
      "Processing MT_055\n"
     ]
    },
    {
     "name": "stderr",
     "output_type": "stream",
     "text": [
      "/tmp/ipykernel_54851/1030994316.py:59: FutureWarning: Series.fillna with 'method' is deprecated and will raise in a future version. Use obj.ffill() or obj.bfill() instead.\n",
      "  start_date = min(srs.fillna(method='ffill').dropna().index)\n",
      "/tmp/ipykernel_54851/1030994316.py:60: FutureWarning: Series.fillna with 'method' is deprecated and will raise in a future version. Use obj.ffill() or obj.bfill() instead.\n",
      "  end_date = max(srs.fillna(method='bfill').dropna().index)\n",
      "/tmp/ipykernel_54851/1030994316.py:59: FutureWarning: Series.fillna with 'method' is deprecated and will raise in a future version. Use obj.ffill() or obj.bfill() instead.\n",
      "  start_date = min(srs.fillna(method='ffill').dropna().index)\n",
      "/tmp/ipykernel_54851/1030994316.py:60: FutureWarning: Series.fillna with 'method' is deprecated and will raise in a future version. Use obj.ffill() or obj.bfill() instead.\n",
      "  end_date = max(srs.fillna(method='bfill').dropna().index)\n",
      "/tmp/ipykernel_54851/1030994316.py:59: FutureWarning: Series.fillna with 'method' is deprecated and will raise in a future version. Use obj.ffill() or obj.bfill() instead.\n",
      "  start_date = min(srs.fillna(method='ffill').dropna().index)\n",
      "/tmp/ipykernel_54851/1030994316.py:60: FutureWarning: Series.fillna with 'method' is deprecated and will raise in a future version. Use obj.ffill() or obj.bfill() instead.\n",
      "  end_date = max(srs.fillna(method='bfill').dropna().index)\n"
     ]
    },
    {
     "name": "stdout",
     "output_type": "stream",
     "text": [
      "Processing MT_056\n",
      "Processing MT_057\n",
      "Processing MT_058\n"
     ]
    },
    {
     "name": "stderr",
     "output_type": "stream",
     "text": [
      "/tmp/ipykernel_54851/1030994316.py:59: FutureWarning: Series.fillna with 'method' is deprecated and will raise in a future version. Use obj.ffill() or obj.bfill() instead.\n",
      "  start_date = min(srs.fillna(method='ffill').dropna().index)\n",
      "/tmp/ipykernel_54851/1030994316.py:60: FutureWarning: Series.fillna with 'method' is deprecated and will raise in a future version. Use obj.ffill() or obj.bfill() instead.\n",
      "  end_date = max(srs.fillna(method='bfill').dropna().index)\n",
      "/tmp/ipykernel_54851/1030994316.py:59: FutureWarning: Series.fillna with 'method' is deprecated and will raise in a future version. Use obj.ffill() or obj.bfill() instead.\n",
      "  start_date = min(srs.fillna(method='ffill').dropna().index)\n",
      "/tmp/ipykernel_54851/1030994316.py:60: FutureWarning: Series.fillna with 'method' is deprecated and will raise in a future version. Use obj.ffill() or obj.bfill() instead.\n",
      "  end_date = max(srs.fillna(method='bfill').dropna().index)\n",
      "/tmp/ipykernel_54851/1030994316.py:59: FutureWarning: Series.fillna with 'method' is deprecated and will raise in a future version. Use obj.ffill() or obj.bfill() instead.\n",
      "  start_date = min(srs.fillna(method='ffill').dropna().index)\n",
      "/tmp/ipykernel_54851/1030994316.py:60: FutureWarning: Series.fillna with 'method' is deprecated and will raise in a future version. Use obj.ffill() or obj.bfill() instead.\n",
      "  end_date = max(srs.fillna(method='bfill').dropna().index)\n"
     ]
    },
    {
     "name": "stdout",
     "output_type": "stream",
     "text": [
      "Processing MT_059\n",
      "Processing MT_060\n",
      "Processing MT_061\n",
      "Processing MT_062\n"
     ]
    },
    {
     "name": "stderr",
     "output_type": "stream",
     "text": [
      "/tmp/ipykernel_54851/1030994316.py:59: FutureWarning: Series.fillna with 'method' is deprecated and will raise in a future version. Use obj.ffill() or obj.bfill() instead.\n",
      "  start_date = min(srs.fillna(method='ffill').dropna().index)\n",
      "/tmp/ipykernel_54851/1030994316.py:60: FutureWarning: Series.fillna with 'method' is deprecated and will raise in a future version. Use obj.ffill() or obj.bfill() instead.\n",
      "  end_date = max(srs.fillna(method='bfill').dropna().index)\n",
      "/tmp/ipykernel_54851/1030994316.py:59: FutureWarning: Series.fillna with 'method' is deprecated and will raise in a future version. Use obj.ffill() or obj.bfill() instead.\n",
      "  start_date = min(srs.fillna(method='ffill').dropna().index)\n",
      "/tmp/ipykernel_54851/1030994316.py:60: FutureWarning: Series.fillna with 'method' is deprecated and will raise in a future version. Use obj.ffill() or obj.bfill() instead.\n",
      "  end_date = max(srs.fillna(method='bfill').dropna().index)\n",
      "/tmp/ipykernel_54851/1030994316.py:59: FutureWarning: Series.fillna with 'method' is deprecated and will raise in a future version. Use obj.ffill() or obj.bfill() instead.\n",
      "  start_date = min(srs.fillna(method='ffill').dropna().index)\n",
      "/tmp/ipykernel_54851/1030994316.py:60: FutureWarning: Series.fillna with 'method' is deprecated and will raise in a future version. Use obj.ffill() or obj.bfill() instead.\n",
      "  end_date = max(srs.fillna(method='bfill').dropna().index)\n",
      "/tmp/ipykernel_54851/1030994316.py:59: FutureWarning: Series.fillna with 'method' is deprecated and will raise in a future version. Use obj.ffill() or obj.bfill() instead.\n",
      "  start_date = min(srs.fillna(method='ffill').dropna().index)\n",
      "/tmp/ipykernel_54851/1030994316.py:60: FutureWarning: Series.fillna with 'method' is deprecated and will raise in a future version. Use obj.ffill() or obj.bfill() instead.\n",
      "  end_date = max(srs.fillna(method='bfill').dropna().index)\n",
      "/tmp/ipykernel_54851/1030994316.py:59: FutureWarning: Series.fillna with 'method' is deprecated and will raise in a future version. Use obj.ffill() or obj.bfill() instead.\n",
      "  start_date = min(srs.fillna(method='ffill').dropna().index)\n",
      "/tmp/ipykernel_54851/1030994316.py:60: FutureWarning: Series.fillna with 'method' is deprecated and will raise in a future version. Use obj.ffill() or obj.bfill() instead.\n",
      "  end_date = max(srs.fillna(method='bfill').dropna().index)\n",
      "/tmp/ipykernel_54851/1030994316.py:59: FutureWarning: Series.fillna with 'method' is deprecated and will raise in a future version. Use obj.ffill() or obj.bfill() instead.\n",
      "  start_date = min(srs.fillna(method='ffill').dropna().index)\n",
      "/tmp/ipykernel_54851/1030994316.py:60: FutureWarning: Series.fillna with 'method' is deprecated and will raise in a future version. Use obj.ffill() or obj.bfill() instead.\n",
      "  end_date = max(srs.fillna(method='bfill').dropna().index)\n",
      "/tmp/ipykernel_54851/1030994316.py:59: FutureWarning: Series.fillna with 'method' is deprecated and will raise in a future version. Use obj.ffill() or obj.bfill() instead.\n",
      "  start_date = min(srs.fillna(method='ffill').dropna().index)\n"
     ]
    },
    {
     "name": "stdout",
     "output_type": "stream",
     "text": [
      "Processing MT_063\n",
      "Processing MT_064\n",
      "Processing MT_065\n"
     ]
    },
    {
     "name": "stderr",
     "output_type": "stream",
     "text": [
      "/tmp/ipykernel_54851/1030994316.py:60: FutureWarning: Series.fillna with 'method' is deprecated and will raise in a future version. Use obj.ffill() or obj.bfill() instead.\n",
      "  end_date = max(srs.fillna(method='bfill').dropna().index)\n",
      "/tmp/ipykernel_54851/1030994316.py:59: FutureWarning: Series.fillna with 'method' is deprecated and will raise in a future version. Use obj.ffill() or obj.bfill() instead.\n",
      "  start_date = min(srs.fillna(method='ffill').dropna().index)\n",
      "/tmp/ipykernel_54851/1030994316.py:60: FutureWarning: Series.fillna with 'method' is deprecated and will raise in a future version. Use obj.ffill() or obj.bfill() instead.\n",
      "  end_date = max(srs.fillna(method='bfill').dropna().index)\n",
      "/tmp/ipykernel_54851/1030994316.py:59: FutureWarning: Series.fillna with 'method' is deprecated and will raise in a future version. Use obj.ffill() or obj.bfill() instead.\n",
      "  start_date = min(srs.fillna(method='ffill').dropna().index)\n",
      "/tmp/ipykernel_54851/1030994316.py:60: FutureWarning: Series.fillna with 'method' is deprecated and will raise in a future version. Use obj.ffill() or obj.bfill() instead.\n",
      "  end_date = max(srs.fillna(method='bfill').dropna().index)\n",
      "/tmp/ipykernel_54851/1030994316.py:59: FutureWarning: Series.fillna with 'method' is deprecated and will raise in a future version. Use obj.ffill() or obj.bfill() instead.\n",
      "  start_date = min(srs.fillna(method='ffill').dropna().index)\n"
     ]
    },
    {
     "name": "stdout",
     "output_type": "stream",
     "text": [
      "Processing MT_066\n",
      "Processing MT_067\n",
      "Processing MT_068\n"
     ]
    },
    {
     "name": "stderr",
     "output_type": "stream",
     "text": [
      "/tmp/ipykernel_54851/1030994316.py:60: FutureWarning: Series.fillna with 'method' is deprecated and will raise in a future version. Use obj.ffill() or obj.bfill() instead.\n",
      "  end_date = max(srs.fillna(method='bfill').dropna().index)\n",
      "/tmp/ipykernel_54851/1030994316.py:59: FutureWarning: Series.fillna with 'method' is deprecated and will raise in a future version. Use obj.ffill() or obj.bfill() instead.\n",
      "  start_date = min(srs.fillna(method='ffill').dropna().index)\n",
      "/tmp/ipykernel_54851/1030994316.py:60: FutureWarning: Series.fillna with 'method' is deprecated and will raise in a future version. Use obj.ffill() or obj.bfill() instead.\n",
      "  end_date = max(srs.fillna(method='bfill').dropna().index)\n",
      "/tmp/ipykernel_54851/1030994316.py:59: FutureWarning: Series.fillna with 'method' is deprecated and will raise in a future version. Use obj.ffill() or obj.bfill() instead.\n",
      "  start_date = min(srs.fillna(method='ffill').dropna().index)\n",
      "/tmp/ipykernel_54851/1030994316.py:60: FutureWarning: Series.fillna with 'method' is deprecated and will raise in a future version. Use obj.ffill() or obj.bfill() instead.\n",
      "  end_date = max(srs.fillna(method='bfill').dropna().index)\n",
      "/tmp/ipykernel_54851/1030994316.py:59: FutureWarning: Series.fillna with 'method' is deprecated and will raise in a future version. Use obj.ffill() or obj.bfill() instead.\n",
      "  start_date = min(srs.fillna(method='ffill').dropna().index)\n"
     ]
    },
    {
     "name": "stdout",
     "output_type": "stream",
     "text": [
      "Processing MT_069\n",
      "Processing MT_070\n",
      "Processing MT_071\n"
     ]
    },
    {
     "name": "stderr",
     "output_type": "stream",
     "text": [
      "/tmp/ipykernel_54851/1030994316.py:60: FutureWarning: Series.fillna with 'method' is deprecated and will raise in a future version. Use obj.ffill() or obj.bfill() instead.\n",
      "  end_date = max(srs.fillna(method='bfill').dropna().index)\n",
      "/tmp/ipykernel_54851/1030994316.py:59: FutureWarning: Series.fillna with 'method' is deprecated and will raise in a future version. Use obj.ffill() or obj.bfill() instead.\n",
      "  start_date = min(srs.fillna(method='ffill').dropna().index)\n",
      "/tmp/ipykernel_54851/1030994316.py:60: FutureWarning: Series.fillna with 'method' is deprecated and will raise in a future version. Use obj.ffill() or obj.bfill() instead.\n",
      "  end_date = max(srs.fillna(method='bfill').dropna().index)\n",
      "/tmp/ipykernel_54851/1030994316.py:59: FutureWarning: Series.fillna with 'method' is deprecated and will raise in a future version. Use obj.ffill() or obj.bfill() instead.\n",
      "  start_date = min(srs.fillna(method='ffill').dropna().index)\n",
      "/tmp/ipykernel_54851/1030994316.py:60: FutureWarning: Series.fillna with 'method' is deprecated and will raise in a future version. Use obj.ffill() or obj.bfill() instead.\n",
      "  end_date = max(srs.fillna(method='bfill').dropna().index)\n",
      "/tmp/ipykernel_54851/1030994316.py:59: FutureWarning: Series.fillna with 'method' is deprecated and will raise in a future version. Use obj.ffill() or obj.bfill() instead.\n",
      "  start_date = min(srs.fillna(method='ffill').dropna().index)\n",
      "/tmp/ipykernel_54851/1030994316.py:60: FutureWarning: Series.fillna with 'method' is deprecated and will raise in a future version. Use obj.ffill() or obj.bfill() instead.\n",
      "  end_date = max(srs.fillna(method='bfill').dropna().index)\n"
     ]
    },
    {
     "name": "stdout",
     "output_type": "stream",
     "text": [
      "Processing MT_072\n",
      "Processing MT_073\n",
      "Processing MT_074\n",
      "Processing MT_075\n",
      "Processing MT_076\n",
      "Processing MT_077\n"
     ]
    },
    {
     "name": "stderr",
     "output_type": "stream",
     "text": [
      "/tmp/ipykernel_54851/1030994316.py:59: FutureWarning: Series.fillna with 'method' is deprecated and will raise in a future version. Use obj.ffill() or obj.bfill() instead.\n",
      "  start_date = min(srs.fillna(method='ffill').dropna().index)\n",
      "/tmp/ipykernel_54851/1030994316.py:60: FutureWarning: Series.fillna with 'method' is deprecated and will raise in a future version. Use obj.ffill() or obj.bfill() instead.\n",
      "  end_date = max(srs.fillna(method='bfill').dropna().index)\n",
      "/tmp/ipykernel_54851/1030994316.py:59: FutureWarning: Series.fillna with 'method' is deprecated and will raise in a future version. Use obj.ffill() or obj.bfill() instead.\n",
      "  start_date = min(srs.fillna(method='ffill').dropna().index)\n",
      "/tmp/ipykernel_54851/1030994316.py:60: FutureWarning: Series.fillna with 'method' is deprecated and will raise in a future version. Use obj.ffill() or obj.bfill() instead.\n",
      "  end_date = max(srs.fillna(method='bfill').dropna().index)\n",
      "/tmp/ipykernel_54851/1030994316.py:59: FutureWarning: Series.fillna with 'method' is deprecated and will raise in a future version. Use obj.ffill() or obj.bfill() instead.\n",
      "  start_date = min(srs.fillna(method='ffill').dropna().index)\n",
      "/tmp/ipykernel_54851/1030994316.py:60: FutureWarning: Series.fillna with 'method' is deprecated and will raise in a future version. Use obj.ffill() or obj.bfill() instead.\n",
      "  end_date = max(srs.fillna(method='bfill').dropna().index)\n"
     ]
    },
    {
     "name": "stdout",
     "output_type": "stream",
     "text": [
      "Processing MT_078\n",
      "Processing MT_079\n",
      "Processing MT_080\n"
     ]
    },
    {
     "name": "stderr",
     "output_type": "stream",
     "text": [
      "/tmp/ipykernel_54851/1030994316.py:59: FutureWarning: Series.fillna with 'method' is deprecated and will raise in a future version. Use obj.ffill() or obj.bfill() instead.\n",
      "  start_date = min(srs.fillna(method='ffill').dropna().index)\n",
      "/tmp/ipykernel_54851/1030994316.py:60: FutureWarning: Series.fillna with 'method' is deprecated and will raise in a future version. Use obj.ffill() or obj.bfill() instead.\n",
      "  end_date = max(srs.fillna(method='bfill').dropna().index)\n",
      "/tmp/ipykernel_54851/1030994316.py:59: FutureWarning: Series.fillna with 'method' is deprecated and will raise in a future version. Use obj.ffill() or obj.bfill() instead.\n",
      "  start_date = min(srs.fillna(method='ffill').dropna().index)\n",
      "/tmp/ipykernel_54851/1030994316.py:60: FutureWarning: Series.fillna with 'method' is deprecated and will raise in a future version. Use obj.ffill() or obj.bfill() instead.\n",
      "  end_date = max(srs.fillna(method='bfill').dropna().index)\n",
      "/tmp/ipykernel_54851/1030994316.py:59: FutureWarning: Series.fillna with 'method' is deprecated and will raise in a future version. Use obj.ffill() or obj.bfill() instead.\n",
      "  start_date = min(srs.fillna(method='ffill').dropna().index)\n",
      "/tmp/ipykernel_54851/1030994316.py:60: FutureWarning: Series.fillna with 'method' is deprecated and will raise in a future version. Use obj.ffill() or obj.bfill() instead.\n",
      "  end_date = max(srs.fillna(method='bfill').dropna().index)\n"
     ]
    },
    {
     "name": "stdout",
     "output_type": "stream",
     "text": [
      "Processing MT_081\n",
      "Processing MT_082\n",
      "Processing MT_083\n"
     ]
    },
    {
     "name": "stderr",
     "output_type": "stream",
     "text": [
      "/tmp/ipykernel_54851/1030994316.py:59: FutureWarning: Series.fillna with 'method' is deprecated and will raise in a future version. Use obj.ffill() or obj.bfill() instead.\n",
      "  start_date = min(srs.fillna(method='ffill').dropna().index)\n",
      "/tmp/ipykernel_54851/1030994316.py:60: FutureWarning: Series.fillna with 'method' is deprecated and will raise in a future version. Use obj.ffill() or obj.bfill() instead.\n",
      "  end_date = max(srs.fillna(method='bfill').dropna().index)\n",
      "/tmp/ipykernel_54851/1030994316.py:59: FutureWarning: Series.fillna with 'method' is deprecated and will raise in a future version. Use obj.ffill() or obj.bfill() instead.\n",
      "  start_date = min(srs.fillna(method='ffill').dropna().index)\n",
      "/tmp/ipykernel_54851/1030994316.py:60: FutureWarning: Series.fillna with 'method' is deprecated and will raise in a future version. Use obj.ffill() or obj.bfill() instead.\n",
      "  end_date = max(srs.fillna(method='bfill').dropna().index)\n",
      "/tmp/ipykernel_54851/1030994316.py:59: FutureWarning: Series.fillna with 'method' is deprecated and will raise in a future version. Use obj.ffill() or obj.bfill() instead.\n",
      "  start_date = min(srs.fillna(method='ffill').dropna().index)\n",
      "/tmp/ipykernel_54851/1030994316.py:60: FutureWarning: Series.fillna with 'method' is deprecated and will raise in a future version. Use obj.ffill() or obj.bfill() instead.\n",
      "  end_date = max(srs.fillna(method='bfill').dropna().index)\n"
     ]
    },
    {
     "name": "stdout",
     "output_type": "stream",
     "text": [
      "Processing MT_084\n",
      "Processing MT_085\n",
      "Processing MT_086\n",
      "Processing MT_087\n"
     ]
    },
    {
     "name": "stderr",
     "output_type": "stream",
     "text": [
      "/tmp/ipykernel_54851/1030994316.py:59: FutureWarning: Series.fillna with 'method' is deprecated and will raise in a future version. Use obj.ffill() or obj.bfill() instead.\n",
      "  start_date = min(srs.fillna(method='ffill').dropna().index)\n",
      "/tmp/ipykernel_54851/1030994316.py:60: FutureWarning: Series.fillna with 'method' is deprecated and will raise in a future version. Use obj.ffill() or obj.bfill() instead.\n",
      "  end_date = max(srs.fillna(method='bfill').dropna().index)\n",
      "/tmp/ipykernel_54851/1030994316.py:59: FutureWarning: Series.fillna with 'method' is deprecated and will raise in a future version. Use obj.ffill() or obj.bfill() instead.\n",
      "  start_date = min(srs.fillna(method='ffill').dropna().index)\n",
      "/tmp/ipykernel_54851/1030994316.py:60: FutureWarning: Series.fillna with 'method' is deprecated and will raise in a future version. Use obj.ffill() or obj.bfill() instead.\n",
      "  end_date = max(srs.fillna(method='bfill').dropna().index)\n",
      "/tmp/ipykernel_54851/1030994316.py:59: FutureWarning: Series.fillna with 'method' is deprecated and will raise in a future version. Use obj.ffill() or obj.bfill() instead.\n",
      "  start_date = min(srs.fillna(method='ffill').dropna().index)\n",
      "/tmp/ipykernel_54851/1030994316.py:60: FutureWarning: Series.fillna with 'method' is deprecated and will raise in a future version. Use obj.ffill() or obj.bfill() instead.\n",
      "  end_date = max(srs.fillna(method='bfill').dropna().index)\n",
      "/tmp/ipykernel_54851/1030994316.py:59: FutureWarning: Series.fillna with 'method' is deprecated and will raise in a future version. Use obj.ffill() or obj.bfill() instead.\n",
      "  start_date = min(srs.fillna(method='ffill').dropna().index)\n",
      "/tmp/ipykernel_54851/1030994316.py:60: FutureWarning: Series.fillna with 'method' is deprecated and will raise in a future version. Use obj.ffill() or obj.bfill() instead.\n",
      "  end_date = max(srs.fillna(method='bfill').dropna().index)\n",
      "/tmp/ipykernel_54851/1030994316.py:59: FutureWarning: Series.fillna with 'method' is deprecated and will raise in a future version. Use obj.ffill() or obj.bfill() instead.\n",
      "  start_date = min(srs.fillna(method='ffill').dropna().index)\n",
      "/tmp/ipykernel_54851/1030994316.py:60: FutureWarning: Series.fillna with 'method' is deprecated and will raise in a future version. Use obj.ffill() or obj.bfill() instead.\n",
      "  end_date = max(srs.fillna(method='bfill').dropna().index)\n",
      "/tmp/ipykernel_54851/1030994316.py:59: FutureWarning: Series.fillna with 'method' is deprecated and will raise in a future version. Use obj.ffill() or obj.bfill() instead.\n",
      "  start_date = min(srs.fillna(method='ffill').dropna().index)\n",
      "/tmp/ipykernel_54851/1030994316.py:60: FutureWarning: Series.fillna with 'method' is deprecated and will raise in a future version. Use obj.ffill() or obj.bfill() instead.\n",
      "  end_date = max(srs.fillna(method='bfill').dropna().index)\n",
      "/tmp/ipykernel_54851/1030994316.py:59: FutureWarning: Series.fillna with 'method' is deprecated and will raise in a future version. Use obj.ffill() or obj.bfill() instead.\n",
      "  start_date = min(srs.fillna(method='ffill').dropna().index)\n"
     ]
    },
    {
     "name": "stdout",
     "output_type": "stream",
     "text": [
      "Processing MT_088\n",
      "Processing MT_089\n",
      "Processing MT_090\n"
     ]
    },
    {
     "name": "stderr",
     "output_type": "stream",
     "text": [
      "/tmp/ipykernel_54851/1030994316.py:60: FutureWarning: Series.fillna with 'method' is deprecated and will raise in a future version. Use obj.ffill() or obj.bfill() instead.\n",
      "  end_date = max(srs.fillna(method='bfill').dropna().index)\n",
      "/tmp/ipykernel_54851/1030994316.py:59: FutureWarning: Series.fillna with 'method' is deprecated and will raise in a future version. Use obj.ffill() or obj.bfill() instead.\n",
      "  start_date = min(srs.fillna(method='ffill').dropna().index)\n",
      "/tmp/ipykernel_54851/1030994316.py:60: FutureWarning: Series.fillna with 'method' is deprecated and will raise in a future version. Use obj.ffill() or obj.bfill() instead.\n",
      "  end_date = max(srs.fillna(method='bfill').dropna().index)\n",
      "/tmp/ipykernel_54851/1030994316.py:59: FutureWarning: Series.fillna with 'method' is deprecated and will raise in a future version. Use obj.ffill() or obj.bfill() instead.\n",
      "  start_date = min(srs.fillna(method='ffill').dropna().index)\n",
      "/tmp/ipykernel_54851/1030994316.py:60: FutureWarning: Series.fillna with 'method' is deprecated and will raise in a future version. Use obj.ffill() or obj.bfill() instead.\n",
      "  end_date = max(srs.fillna(method='bfill').dropna().index)\n",
      "/tmp/ipykernel_54851/1030994316.py:59: FutureWarning: Series.fillna with 'method' is deprecated and will raise in a future version. Use obj.ffill() or obj.bfill() instead.\n",
      "  start_date = min(srs.fillna(method='ffill').dropna().index)\n",
      "/tmp/ipykernel_54851/1030994316.py:60: FutureWarning: Series.fillna with 'method' is deprecated and will raise in a future version. Use obj.ffill() or obj.bfill() instead.\n",
      "  end_date = max(srs.fillna(method='bfill').dropna().index)\n"
     ]
    },
    {
     "name": "stdout",
     "output_type": "stream",
     "text": [
      "Processing MT_091\n",
      "Processing MT_092\n",
      "Processing MT_093\n",
      "Processing MT_094\n",
      "Processing MT_095\n",
      "Processing MT_096\n"
     ]
    },
    {
     "name": "stderr",
     "output_type": "stream",
     "text": [
      "/tmp/ipykernel_54851/1030994316.py:59: FutureWarning: Series.fillna with 'method' is deprecated and will raise in a future version. Use obj.ffill() or obj.bfill() instead.\n",
      "  start_date = min(srs.fillna(method='ffill').dropna().index)\n",
      "/tmp/ipykernel_54851/1030994316.py:60: FutureWarning: Series.fillna with 'method' is deprecated and will raise in a future version. Use obj.ffill() or obj.bfill() instead.\n",
      "  end_date = max(srs.fillna(method='bfill').dropna().index)\n",
      "/tmp/ipykernel_54851/1030994316.py:59: FutureWarning: Series.fillna with 'method' is deprecated and will raise in a future version. Use obj.ffill() or obj.bfill() instead.\n",
      "  start_date = min(srs.fillna(method='ffill').dropna().index)\n",
      "/tmp/ipykernel_54851/1030994316.py:60: FutureWarning: Series.fillna with 'method' is deprecated and will raise in a future version. Use obj.ffill() or obj.bfill() instead.\n",
      "  end_date = max(srs.fillna(method='bfill').dropna().index)\n",
      "/tmp/ipykernel_54851/1030994316.py:59: FutureWarning: Series.fillna with 'method' is deprecated and will raise in a future version. Use obj.ffill() or obj.bfill() instead.\n",
      "  start_date = min(srs.fillna(method='ffill').dropna().index)\n",
      "/tmp/ipykernel_54851/1030994316.py:60: FutureWarning: Series.fillna with 'method' is deprecated and will raise in a future version. Use obj.ffill() or obj.bfill() instead.\n",
      "  end_date = max(srs.fillna(method='bfill').dropna().index)\n"
     ]
    },
    {
     "name": "stdout",
     "output_type": "stream",
     "text": [
      "Processing MT_097\n",
      "Processing MT_098\n",
      "Processing MT_099\n"
     ]
    },
    {
     "name": "stderr",
     "output_type": "stream",
     "text": [
      "/tmp/ipykernel_54851/1030994316.py:59: FutureWarning: Series.fillna with 'method' is deprecated and will raise in a future version. Use obj.ffill() or obj.bfill() instead.\n",
      "  start_date = min(srs.fillna(method='ffill').dropna().index)\n",
      "/tmp/ipykernel_54851/1030994316.py:60: FutureWarning: Series.fillna with 'method' is deprecated and will raise in a future version. Use obj.ffill() or obj.bfill() instead.\n",
      "  end_date = max(srs.fillna(method='bfill').dropna().index)\n",
      "/tmp/ipykernel_54851/1030994316.py:59: FutureWarning: Series.fillna with 'method' is deprecated and will raise in a future version. Use obj.ffill() or obj.bfill() instead.\n",
      "  start_date = min(srs.fillna(method='ffill').dropna().index)\n",
      "/tmp/ipykernel_54851/1030994316.py:60: FutureWarning: Series.fillna with 'method' is deprecated and will raise in a future version. Use obj.ffill() or obj.bfill() instead.\n",
      "  end_date = max(srs.fillna(method='bfill').dropna().index)\n",
      "/tmp/ipykernel_54851/1030994316.py:59: FutureWarning: Series.fillna with 'method' is deprecated and will raise in a future version. Use obj.ffill() or obj.bfill() instead.\n",
      "  start_date = min(srs.fillna(method='ffill').dropna().index)\n",
      "/tmp/ipykernel_54851/1030994316.py:60: FutureWarning: Series.fillna with 'method' is deprecated and will raise in a future version. Use obj.ffill() or obj.bfill() instead.\n",
      "  end_date = max(srs.fillna(method='bfill').dropna().index)\n"
     ]
    },
    {
     "name": "stdout",
     "output_type": "stream",
     "text": [
      "Processing MT_100\n",
      "Processing MT_101\n",
      "Processing MT_102\n"
     ]
    },
    {
     "name": "stderr",
     "output_type": "stream",
     "text": [
      "/tmp/ipykernel_54851/1030994316.py:59: FutureWarning: Series.fillna with 'method' is deprecated and will raise in a future version. Use obj.ffill() or obj.bfill() instead.\n",
      "  start_date = min(srs.fillna(method='ffill').dropna().index)\n",
      "/tmp/ipykernel_54851/1030994316.py:60: FutureWarning: Series.fillna with 'method' is deprecated and will raise in a future version. Use obj.ffill() or obj.bfill() instead.\n",
      "  end_date = max(srs.fillna(method='bfill').dropna().index)\n",
      "/tmp/ipykernel_54851/1030994316.py:59: FutureWarning: Series.fillna with 'method' is deprecated and will raise in a future version. Use obj.ffill() or obj.bfill() instead.\n",
      "  start_date = min(srs.fillna(method='ffill').dropna().index)\n",
      "/tmp/ipykernel_54851/1030994316.py:60: FutureWarning: Series.fillna with 'method' is deprecated and will raise in a future version. Use obj.ffill() or obj.bfill() instead.\n",
      "  end_date = max(srs.fillna(method='bfill').dropna().index)\n",
      "/tmp/ipykernel_54851/1030994316.py:59: FutureWarning: Series.fillna with 'method' is deprecated and will raise in a future version. Use obj.ffill() or obj.bfill() instead.\n",
      "  start_date = min(srs.fillna(method='ffill').dropna().index)\n",
      "/tmp/ipykernel_54851/1030994316.py:60: FutureWarning: Series.fillna with 'method' is deprecated and will raise in a future version. Use obj.ffill() or obj.bfill() instead.\n",
      "  end_date = max(srs.fillna(method='bfill').dropna().index)\n"
     ]
    },
    {
     "name": "stdout",
     "output_type": "stream",
     "text": [
      "Processing MT_103\n",
      "Processing MT_104\n",
      "Processing MT_105\n"
     ]
    },
    {
     "name": "stderr",
     "output_type": "stream",
     "text": [
      "/tmp/ipykernel_54851/1030994316.py:59: FutureWarning: Series.fillna with 'method' is deprecated and will raise in a future version. Use obj.ffill() or obj.bfill() instead.\n",
      "  start_date = min(srs.fillna(method='ffill').dropna().index)\n",
      "/tmp/ipykernel_54851/1030994316.py:60: FutureWarning: Series.fillna with 'method' is deprecated and will raise in a future version. Use obj.ffill() or obj.bfill() instead.\n",
      "  end_date = max(srs.fillna(method='bfill').dropna().index)\n",
      "/tmp/ipykernel_54851/1030994316.py:59: FutureWarning: Series.fillna with 'method' is deprecated and will raise in a future version. Use obj.ffill() or obj.bfill() instead.\n",
      "  start_date = min(srs.fillna(method='ffill').dropna().index)\n",
      "/tmp/ipykernel_54851/1030994316.py:60: FutureWarning: Series.fillna with 'method' is deprecated and will raise in a future version. Use obj.ffill() or obj.bfill() instead.\n",
      "  end_date = max(srs.fillna(method='bfill').dropna().index)\n",
      "/tmp/ipykernel_54851/1030994316.py:59: FutureWarning: Series.fillna with 'method' is deprecated and will raise in a future version. Use obj.ffill() or obj.bfill() instead.\n",
      "  start_date = min(srs.fillna(method='ffill').dropna().index)\n",
      "/tmp/ipykernel_54851/1030994316.py:60: FutureWarning: Series.fillna with 'method' is deprecated and will raise in a future version. Use obj.ffill() or obj.bfill() instead.\n",
      "  end_date = max(srs.fillna(method='bfill').dropna().index)\n"
     ]
    },
    {
     "name": "stdout",
     "output_type": "stream",
     "text": [
      "Processing MT_106\n",
      "Processing MT_107\n",
      "Processing MT_108\n",
      "Processing MT_109\n",
      "Processing MT_110\n"
     ]
    },
    {
     "name": "stderr",
     "output_type": "stream",
     "text": [
      "/tmp/ipykernel_54851/1030994316.py:59: FutureWarning: Series.fillna with 'method' is deprecated and will raise in a future version. Use obj.ffill() or obj.bfill() instead.\n",
      "  start_date = min(srs.fillna(method='ffill').dropna().index)\n",
      "/tmp/ipykernel_54851/1030994316.py:60: FutureWarning: Series.fillna with 'method' is deprecated and will raise in a future version. Use obj.ffill() or obj.bfill() instead.\n",
      "  end_date = max(srs.fillna(method='bfill').dropna().index)\n",
      "/tmp/ipykernel_54851/1030994316.py:59: FutureWarning: Series.fillna with 'method' is deprecated and will raise in a future version. Use obj.ffill() or obj.bfill() instead.\n",
      "  start_date = min(srs.fillna(method='ffill').dropna().index)\n",
      "/tmp/ipykernel_54851/1030994316.py:60: FutureWarning: Series.fillna with 'method' is deprecated and will raise in a future version. Use obj.ffill() or obj.bfill() instead.\n",
      "  end_date = max(srs.fillna(method='bfill').dropna().index)\n",
      "/tmp/ipykernel_54851/1030994316.py:59: FutureWarning: Series.fillna with 'method' is deprecated and will raise in a future version. Use obj.ffill() or obj.bfill() instead.\n",
      "  start_date = min(srs.fillna(method='ffill').dropna().index)\n",
      "/tmp/ipykernel_54851/1030994316.py:60: FutureWarning: Series.fillna with 'method' is deprecated and will raise in a future version. Use obj.ffill() or obj.bfill() instead.\n",
      "  end_date = max(srs.fillna(method='bfill').dropna().index)\n",
      "/tmp/ipykernel_54851/1030994316.py:59: FutureWarning: Series.fillna with 'method' is deprecated and will raise in a future version. Use obj.ffill() or obj.bfill() instead.\n",
      "  start_date = min(srs.fillna(method='ffill').dropna().index)\n",
      "/tmp/ipykernel_54851/1030994316.py:60: FutureWarning: Series.fillna with 'method' is deprecated and will raise in a future version. Use obj.ffill() or obj.bfill() instead.\n",
      "  end_date = max(srs.fillna(method='bfill').dropna().index)\n",
      "/tmp/ipykernel_54851/1030994316.py:59: FutureWarning: Series.fillna with 'method' is deprecated and will raise in a future version. Use obj.ffill() or obj.bfill() instead.\n",
      "  start_date = min(srs.fillna(method='ffill').dropna().index)\n",
      "/tmp/ipykernel_54851/1030994316.py:60: FutureWarning: Series.fillna with 'method' is deprecated and will raise in a future version. Use obj.ffill() or obj.bfill() instead.\n",
      "  end_date = max(srs.fillna(method='bfill').dropna().index)\n"
     ]
    },
    {
     "name": "stdout",
     "output_type": "stream",
     "text": [
      "Processing MT_111\n",
      "Processing MT_112\n",
      "Processing MT_113\n",
      "Processing MT_114\n"
     ]
    },
    {
     "name": "stderr",
     "output_type": "stream",
     "text": [
      "/tmp/ipykernel_54851/1030994316.py:59: FutureWarning: Series.fillna with 'method' is deprecated and will raise in a future version. Use obj.ffill() or obj.bfill() instead.\n",
      "  start_date = min(srs.fillna(method='ffill').dropna().index)\n",
      "/tmp/ipykernel_54851/1030994316.py:60: FutureWarning: Series.fillna with 'method' is deprecated and will raise in a future version. Use obj.ffill() or obj.bfill() instead.\n",
      "  end_date = max(srs.fillna(method='bfill').dropna().index)\n",
      "/tmp/ipykernel_54851/1030994316.py:59: FutureWarning: Series.fillna with 'method' is deprecated and will raise in a future version. Use obj.ffill() or obj.bfill() instead.\n",
      "  start_date = min(srs.fillna(method='ffill').dropna().index)\n",
      "/tmp/ipykernel_54851/1030994316.py:60: FutureWarning: Series.fillna with 'method' is deprecated and will raise in a future version. Use obj.ffill() or obj.bfill() instead.\n",
      "  end_date = max(srs.fillna(method='bfill').dropna().index)\n",
      "/tmp/ipykernel_54851/1030994316.py:59: FutureWarning: Series.fillna with 'method' is deprecated and will raise in a future version. Use obj.ffill() or obj.bfill() instead.\n",
      "  start_date = min(srs.fillna(method='ffill').dropna().index)\n",
      "/tmp/ipykernel_54851/1030994316.py:60: FutureWarning: Series.fillna with 'method' is deprecated and will raise in a future version. Use obj.ffill() or obj.bfill() instead.\n",
      "  end_date = max(srs.fillna(method='bfill').dropna().index)\n",
      "/tmp/ipykernel_54851/1030994316.py:59: FutureWarning: Series.fillna with 'method' is deprecated and will raise in a future version. Use obj.ffill() or obj.bfill() instead.\n",
      "  start_date = min(srs.fillna(method='ffill').dropna().index)\n",
      "/tmp/ipykernel_54851/1030994316.py:60: FutureWarning: Series.fillna with 'method' is deprecated and will raise in a future version. Use obj.ffill() or obj.bfill() instead.\n",
      "  end_date = max(srs.fillna(method='bfill').dropna().index)\n"
     ]
    },
    {
     "name": "stdout",
     "output_type": "stream",
     "text": [
      "Processing MT_115\n",
      "Processing MT_116\n",
      "Processing MT_117\n",
      "Processing MT_118\n"
     ]
    },
    {
     "name": "stderr",
     "output_type": "stream",
     "text": [
      "/tmp/ipykernel_54851/1030994316.py:59: FutureWarning: Series.fillna with 'method' is deprecated and will raise in a future version. Use obj.ffill() or obj.bfill() instead.\n",
      "  start_date = min(srs.fillna(method='ffill').dropna().index)\n",
      "/tmp/ipykernel_54851/1030994316.py:60: FutureWarning: Series.fillna with 'method' is deprecated and will raise in a future version. Use obj.ffill() or obj.bfill() instead.\n",
      "  end_date = max(srs.fillna(method='bfill').dropna().index)\n",
      "/tmp/ipykernel_54851/1030994316.py:59: FutureWarning: Series.fillna with 'method' is deprecated and will raise in a future version. Use obj.ffill() or obj.bfill() instead.\n",
      "  start_date = min(srs.fillna(method='ffill').dropna().index)\n",
      "/tmp/ipykernel_54851/1030994316.py:60: FutureWarning: Series.fillna with 'method' is deprecated and will raise in a future version. Use obj.ffill() or obj.bfill() instead.\n",
      "  end_date = max(srs.fillna(method='bfill').dropna().index)\n",
      "/tmp/ipykernel_54851/1030994316.py:59: FutureWarning: Series.fillna with 'method' is deprecated and will raise in a future version. Use obj.ffill() or obj.bfill() instead.\n",
      "  start_date = min(srs.fillna(method='ffill').dropna().index)\n",
      "/tmp/ipykernel_54851/1030994316.py:60: FutureWarning: Series.fillna with 'method' is deprecated and will raise in a future version. Use obj.ffill() or obj.bfill() instead.\n",
      "  end_date = max(srs.fillna(method='bfill').dropna().index)\n",
      "/tmp/ipykernel_54851/1030994316.py:59: FutureWarning: Series.fillna with 'method' is deprecated and will raise in a future version. Use obj.ffill() or obj.bfill() instead.\n",
      "  start_date = min(srs.fillna(method='ffill').dropna().index)\n",
      "/tmp/ipykernel_54851/1030994316.py:60: FutureWarning: Series.fillna with 'method' is deprecated and will raise in a future version. Use obj.ffill() or obj.bfill() instead.\n",
      "  end_date = max(srs.fillna(method='bfill').dropna().index)\n"
     ]
    },
    {
     "name": "stdout",
     "output_type": "stream",
     "text": [
      "Processing MT_119\n",
      "Processing MT_120\n",
      "Processing MT_121\n",
      "Processing MT_122\n"
     ]
    },
    {
     "name": "stderr",
     "output_type": "stream",
     "text": [
      "/tmp/ipykernel_54851/1030994316.py:59: FutureWarning: Series.fillna with 'method' is deprecated and will raise in a future version. Use obj.ffill() or obj.bfill() instead.\n",
      "  start_date = min(srs.fillna(method='ffill').dropna().index)\n",
      "/tmp/ipykernel_54851/1030994316.py:60: FutureWarning: Series.fillna with 'method' is deprecated and will raise in a future version. Use obj.ffill() or obj.bfill() instead.\n",
      "  end_date = max(srs.fillna(method='bfill').dropna().index)\n",
      "/tmp/ipykernel_54851/1030994316.py:59: FutureWarning: Series.fillna with 'method' is deprecated and will raise in a future version. Use obj.ffill() or obj.bfill() instead.\n",
      "  start_date = min(srs.fillna(method='ffill').dropna().index)\n",
      "/tmp/ipykernel_54851/1030994316.py:60: FutureWarning: Series.fillna with 'method' is deprecated and will raise in a future version. Use obj.ffill() or obj.bfill() instead.\n",
      "  end_date = max(srs.fillna(method='bfill').dropna().index)\n",
      "/tmp/ipykernel_54851/1030994316.py:59: FutureWarning: Series.fillna with 'method' is deprecated and will raise in a future version. Use obj.ffill() or obj.bfill() instead.\n",
      "  start_date = min(srs.fillna(method='ffill').dropna().index)\n",
      "/tmp/ipykernel_54851/1030994316.py:60: FutureWarning: Series.fillna with 'method' is deprecated and will raise in a future version. Use obj.ffill() or obj.bfill() instead.\n",
      "  end_date = max(srs.fillna(method='bfill').dropna().index)\n",
      "/tmp/ipykernel_54851/1030994316.py:59: FutureWarning: Series.fillna with 'method' is deprecated and will raise in a future version. Use obj.ffill() or obj.bfill() instead.\n",
      "  start_date = min(srs.fillna(method='ffill').dropna().index)\n",
      "/tmp/ipykernel_54851/1030994316.py:60: FutureWarning: Series.fillna with 'method' is deprecated and will raise in a future version. Use obj.ffill() or obj.bfill() instead.\n",
      "  end_date = max(srs.fillna(method='bfill').dropna().index)\n"
     ]
    },
    {
     "name": "stdout",
     "output_type": "stream",
     "text": [
      "Processing MT_123\n",
      "Processing MT_124\n",
      "Processing MT_125\n"
     ]
    },
    {
     "name": "stderr",
     "output_type": "stream",
     "text": [
      "/tmp/ipykernel_54851/1030994316.py:59: FutureWarning: Series.fillna with 'method' is deprecated and will raise in a future version. Use obj.ffill() or obj.bfill() instead.\n",
      "  start_date = min(srs.fillna(method='ffill').dropna().index)\n",
      "/tmp/ipykernel_54851/1030994316.py:60: FutureWarning: Series.fillna with 'method' is deprecated and will raise in a future version. Use obj.ffill() or obj.bfill() instead.\n",
      "  end_date = max(srs.fillna(method='bfill').dropna().index)\n",
      "/tmp/ipykernel_54851/1030994316.py:59: FutureWarning: Series.fillna with 'method' is deprecated and will raise in a future version. Use obj.ffill() or obj.bfill() instead.\n",
      "  start_date = min(srs.fillna(method='ffill').dropna().index)\n",
      "/tmp/ipykernel_54851/1030994316.py:60: FutureWarning: Series.fillna with 'method' is deprecated and will raise in a future version. Use obj.ffill() or obj.bfill() instead.\n",
      "  end_date = max(srs.fillna(method='bfill').dropna().index)\n",
      "/tmp/ipykernel_54851/1030994316.py:59: FutureWarning: Series.fillna with 'method' is deprecated and will raise in a future version. Use obj.ffill() or obj.bfill() instead.\n",
      "  start_date = min(srs.fillna(method='ffill').dropna().index)\n",
      "/tmp/ipykernel_54851/1030994316.py:60: FutureWarning: Series.fillna with 'method' is deprecated and will raise in a future version. Use obj.ffill() or obj.bfill() instead.\n",
      "  end_date = max(srs.fillna(method='bfill').dropna().index)\n"
     ]
    },
    {
     "name": "stdout",
     "output_type": "stream",
     "text": [
      "Processing MT_126\n",
      "Processing MT_127\n",
      "Processing MT_128\n"
     ]
    },
    {
     "name": "stderr",
     "output_type": "stream",
     "text": [
      "/tmp/ipykernel_54851/1030994316.py:59: FutureWarning: Series.fillna with 'method' is deprecated and will raise in a future version. Use obj.ffill() or obj.bfill() instead.\n",
      "  start_date = min(srs.fillna(method='ffill').dropna().index)\n",
      "/tmp/ipykernel_54851/1030994316.py:60: FutureWarning: Series.fillna with 'method' is deprecated and will raise in a future version. Use obj.ffill() or obj.bfill() instead.\n",
      "  end_date = max(srs.fillna(method='bfill').dropna().index)\n",
      "/tmp/ipykernel_54851/1030994316.py:59: FutureWarning: Series.fillna with 'method' is deprecated and will raise in a future version. Use obj.ffill() or obj.bfill() instead.\n",
      "  start_date = min(srs.fillna(method='ffill').dropna().index)\n",
      "/tmp/ipykernel_54851/1030994316.py:60: FutureWarning: Series.fillna with 'method' is deprecated and will raise in a future version. Use obj.ffill() or obj.bfill() instead.\n",
      "  end_date = max(srs.fillna(method='bfill').dropna().index)\n",
      "/tmp/ipykernel_54851/1030994316.py:59: FutureWarning: Series.fillna with 'method' is deprecated and will raise in a future version. Use obj.ffill() or obj.bfill() instead.\n",
      "  start_date = min(srs.fillna(method='ffill').dropna().index)\n",
      "/tmp/ipykernel_54851/1030994316.py:60: FutureWarning: Series.fillna with 'method' is deprecated and will raise in a future version. Use obj.ffill() or obj.bfill() instead.\n",
      "  end_date = max(srs.fillna(method='bfill').dropna().index)\n"
     ]
    },
    {
     "name": "stdout",
     "output_type": "stream",
     "text": [
      "Processing MT_129\n",
      "Processing MT_130\n",
      "Processing MT_131\n"
     ]
    },
    {
     "name": "stderr",
     "output_type": "stream",
     "text": [
      "/tmp/ipykernel_54851/1030994316.py:59: FutureWarning: Series.fillna with 'method' is deprecated and will raise in a future version. Use obj.ffill() or obj.bfill() instead.\n",
      "  start_date = min(srs.fillna(method='ffill').dropna().index)\n",
      "/tmp/ipykernel_54851/1030994316.py:60: FutureWarning: Series.fillna with 'method' is deprecated and will raise in a future version. Use obj.ffill() or obj.bfill() instead.\n",
      "  end_date = max(srs.fillna(method='bfill').dropna().index)\n",
      "/tmp/ipykernel_54851/1030994316.py:59: FutureWarning: Series.fillna with 'method' is deprecated and will raise in a future version. Use obj.ffill() or obj.bfill() instead.\n",
      "  start_date = min(srs.fillna(method='ffill').dropna().index)\n",
      "/tmp/ipykernel_54851/1030994316.py:60: FutureWarning: Series.fillna with 'method' is deprecated and will raise in a future version. Use obj.ffill() or obj.bfill() instead.\n",
      "  end_date = max(srs.fillna(method='bfill').dropna().index)\n",
      "/tmp/ipykernel_54851/1030994316.py:59: FutureWarning: Series.fillna with 'method' is deprecated and will raise in a future version. Use obj.ffill() or obj.bfill() instead.\n",
      "  start_date = min(srs.fillna(method='ffill').dropna().index)\n",
      "/tmp/ipykernel_54851/1030994316.py:60: FutureWarning: Series.fillna with 'method' is deprecated and will raise in a future version. Use obj.ffill() or obj.bfill() instead.\n",
      "  end_date = max(srs.fillna(method='bfill').dropna().index)\n"
     ]
    },
    {
     "name": "stdout",
     "output_type": "stream",
     "text": [
      "Processing MT_132\n",
      "Processing MT_133\n",
      "Processing MT_134\n",
      "Processing MT_135\n"
     ]
    },
    {
     "name": "stderr",
     "output_type": "stream",
     "text": [
      "/tmp/ipykernel_54851/1030994316.py:59: FutureWarning: Series.fillna with 'method' is deprecated and will raise in a future version. Use obj.ffill() or obj.bfill() instead.\n",
      "  start_date = min(srs.fillna(method='ffill').dropna().index)\n",
      "/tmp/ipykernel_54851/1030994316.py:60: FutureWarning: Series.fillna with 'method' is deprecated and will raise in a future version. Use obj.ffill() or obj.bfill() instead.\n",
      "  end_date = max(srs.fillna(method='bfill').dropna().index)\n",
      "/tmp/ipykernel_54851/1030994316.py:59: FutureWarning: Series.fillna with 'method' is deprecated and will raise in a future version. Use obj.ffill() or obj.bfill() instead.\n",
      "  start_date = min(srs.fillna(method='ffill').dropna().index)\n",
      "/tmp/ipykernel_54851/1030994316.py:60: FutureWarning: Series.fillna with 'method' is deprecated and will raise in a future version. Use obj.ffill() or obj.bfill() instead.\n",
      "  end_date = max(srs.fillna(method='bfill').dropna().index)\n",
      "/tmp/ipykernel_54851/1030994316.py:59: FutureWarning: Series.fillna with 'method' is deprecated and will raise in a future version. Use obj.ffill() or obj.bfill() instead.\n",
      "  start_date = min(srs.fillna(method='ffill').dropna().index)\n",
      "/tmp/ipykernel_54851/1030994316.py:60: FutureWarning: Series.fillna with 'method' is deprecated and will raise in a future version. Use obj.ffill() or obj.bfill() instead.\n",
      "  end_date = max(srs.fillna(method='bfill').dropna().index)\n",
      "/tmp/ipykernel_54851/1030994316.py:59: FutureWarning: Series.fillna with 'method' is deprecated and will raise in a future version. Use obj.ffill() or obj.bfill() instead.\n",
      "  start_date = min(srs.fillna(method='ffill').dropna().index)\n",
      "/tmp/ipykernel_54851/1030994316.py:60: FutureWarning: Series.fillna with 'method' is deprecated and will raise in a future version. Use obj.ffill() or obj.bfill() instead.\n",
      "  end_date = max(srs.fillna(method='bfill').dropna().index)\n"
     ]
    },
    {
     "name": "stdout",
     "output_type": "stream",
     "text": [
      "Processing MT_136\n",
      "Processing MT_137\n",
      "Processing MT_138\n"
     ]
    },
    {
     "name": "stderr",
     "output_type": "stream",
     "text": [
      "/tmp/ipykernel_54851/1030994316.py:59: FutureWarning: Series.fillna with 'method' is deprecated and will raise in a future version. Use obj.ffill() or obj.bfill() instead.\n",
      "  start_date = min(srs.fillna(method='ffill').dropna().index)\n",
      "/tmp/ipykernel_54851/1030994316.py:60: FutureWarning: Series.fillna with 'method' is deprecated and will raise in a future version. Use obj.ffill() or obj.bfill() instead.\n",
      "  end_date = max(srs.fillna(method='bfill').dropna().index)\n",
      "/tmp/ipykernel_54851/1030994316.py:59: FutureWarning: Series.fillna with 'method' is deprecated and will raise in a future version. Use obj.ffill() or obj.bfill() instead.\n",
      "  start_date = min(srs.fillna(method='ffill').dropna().index)\n",
      "/tmp/ipykernel_54851/1030994316.py:60: FutureWarning: Series.fillna with 'method' is deprecated and will raise in a future version. Use obj.ffill() or obj.bfill() instead.\n",
      "  end_date = max(srs.fillna(method='bfill').dropna().index)\n",
      "/tmp/ipykernel_54851/1030994316.py:59: FutureWarning: Series.fillna with 'method' is deprecated and will raise in a future version. Use obj.ffill() or obj.bfill() instead.\n",
      "  start_date = min(srs.fillna(method='ffill').dropna().index)\n",
      "/tmp/ipykernel_54851/1030994316.py:60: FutureWarning: Series.fillna with 'method' is deprecated and will raise in a future version. Use obj.ffill() or obj.bfill() instead.\n",
      "  end_date = max(srs.fillna(method='bfill').dropna().index)\n"
     ]
    },
    {
     "name": "stdout",
     "output_type": "stream",
     "text": [
      "Processing MT_139\n",
      "Processing MT_140\n",
      "Processing MT_141\n"
     ]
    },
    {
     "name": "stderr",
     "output_type": "stream",
     "text": [
      "/tmp/ipykernel_54851/1030994316.py:59: FutureWarning: Series.fillna with 'method' is deprecated and will raise in a future version. Use obj.ffill() or obj.bfill() instead.\n",
      "  start_date = min(srs.fillna(method='ffill').dropna().index)\n",
      "/tmp/ipykernel_54851/1030994316.py:60: FutureWarning: Series.fillna with 'method' is deprecated and will raise in a future version. Use obj.ffill() or obj.bfill() instead.\n",
      "  end_date = max(srs.fillna(method='bfill').dropna().index)\n",
      "/tmp/ipykernel_54851/1030994316.py:59: FutureWarning: Series.fillna with 'method' is deprecated and will raise in a future version. Use obj.ffill() or obj.bfill() instead.\n",
      "  start_date = min(srs.fillna(method='ffill').dropna().index)\n",
      "/tmp/ipykernel_54851/1030994316.py:60: FutureWarning: Series.fillna with 'method' is deprecated and will raise in a future version. Use obj.ffill() or obj.bfill() instead.\n",
      "  end_date = max(srs.fillna(method='bfill').dropna().index)\n",
      "/tmp/ipykernel_54851/1030994316.py:59: FutureWarning: Series.fillna with 'method' is deprecated and will raise in a future version. Use obj.ffill() or obj.bfill() instead.\n",
      "  start_date = min(srs.fillna(method='ffill').dropna().index)\n",
      "/tmp/ipykernel_54851/1030994316.py:60: FutureWarning: Series.fillna with 'method' is deprecated and will raise in a future version. Use obj.ffill() or obj.bfill() instead.\n",
      "  end_date = max(srs.fillna(method='bfill').dropna().index)\n"
     ]
    },
    {
     "name": "stdout",
     "output_type": "stream",
     "text": [
      "Processing MT_142\n",
      "Processing MT_143\n",
      "Processing MT_144\n"
     ]
    },
    {
     "name": "stderr",
     "output_type": "stream",
     "text": [
      "/tmp/ipykernel_54851/1030994316.py:59: FutureWarning: Series.fillna with 'method' is deprecated and will raise in a future version. Use obj.ffill() or obj.bfill() instead.\n",
      "  start_date = min(srs.fillna(method='ffill').dropna().index)\n",
      "/tmp/ipykernel_54851/1030994316.py:60: FutureWarning: Series.fillna with 'method' is deprecated and will raise in a future version. Use obj.ffill() or obj.bfill() instead.\n",
      "  end_date = max(srs.fillna(method='bfill').dropna().index)\n",
      "/tmp/ipykernel_54851/1030994316.py:59: FutureWarning: Series.fillna with 'method' is deprecated and will raise in a future version. Use obj.ffill() or obj.bfill() instead.\n",
      "  start_date = min(srs.fillna(method='ffill').dropna().index)\n",
      "/tmp/ipykernel_54851/1030994316.py:60: FutureWarning: Series.fillna with 'method' is deprecated and will raise in a future version. Use obj.ffill() or obj.bfill() instead.\n",
      "  end_date = max(srs.fillna(method='bfill').dropna().index)\n",
      "/tmp/ipykernel_54851/1030994316.py:59: FutureWarning: Series.fillna with 'method' is deprecated and will raise in a future version. Use obj.ffill() or obj.bfill() instead.\n",
      "  start_date = min(srs.fillna(method='ffill').dropna().index)\n",
      "/tmp/ipykernel_54851/1030994316.py:60: FutureWarning: Series.fillna with 'method' is deprecated and will raise in a future version. Use obj.ffill() or obj.bfill() instead.\n",
      "  end_date = max(srs.fillna(method='bfill').dropna().index)\n"
     ]
    },
    {
     "name": "stdout",
     "output_type": "stream",
     "text": [
      "Processing MT_145\n",
      "Processing MT_146\n",
      "Processing MT_147\n"
     ]
    },
    {
     "name": "stderr",
     "output_type": "stream",
     "text": [
      "/tmp/ipykernel_54851/1030994316.py:59: FutureWarning: Series.fillna with 'method' is deprecated and will raise in a future version. Use obj.ffill() or obj.bfill() instead.\n",
      "  start_date = min(srs.fillna(method='ffill').dropna().index)\n",
      "/tmp/ipykernel_54851/1030994316.py:60: FutureWarning: Series.fillna with 'method' is deprecated and will raise in a future version. Use obj.ffill() or obj.bfill() instead.\n",
      "  end_date = max(srs.fillna(method='bfill').dropna().index)\n",
      "/tmp/ipykernel_54851/1030994316.py:59: FutureWarning: Series.fillna with 'method' is deprecated and will raise in a future version. Use obj.ffill() or obj.bfill() instead.\n",
      "  start_date = min(srs.fillna(method='ffill').dropna().index)\n",
      "/tmp/ipykernel_54851/1030994316.py:60: FutureWarning: Series.fillna with 'method' is deprecated and will raise in a future version. Use obj.ffill() or obj.bfill() instead.\n",
      "  end_date = max(srs.fillna(method='bfill').dropna().index)\n",
      "/tmp/ipykernel_54851/1030994316.py:59: FutureWarning: Series.fillna with 'method' is deprecated and will raise in a future version. Use obj.ffill() or obj.bfill() instead.\n",
      "  start_date = min(srs.fillna(method='ffill').dropna().index)\n",
      "/tmp/ipykernel_54851/1030994316.py:60: FutureWarning: Series.fillna with 'method' is deprecated and will raise in a future version. Use obj.ffill() or obj.bfill() instead.\n",
      "  end_date = max(srs.fillna(method='bfill').dropna().index)\n"
     ]
    },
    {
     "name": "stdout",
     "output_type": "stream",
     "text": [
      "Processing MT_148\n",
      "Processing MT_149\n",
      "Processing MT_150\n"
     ]
    },
    {
     "name": "stderr",
     "output_type": "stream",
     "text": [
      "/tmp/ipykernel_54851/1030994316.py:59: FutureWarning: Series.fillna with 'method' is deprecated and will raise in a future version. Use obj.ffill() or obj.bfill() instead.\n",
      "  start_date = min(srs.fillna(method='ffill').dropna().index)\n",
      "/tmp/ipykernel_54851/1030994316.py:60: FutureWarning: Series.fillna with 'method' is deprecated and will raise in a future version. Use obj.ffill() or obj.bfill() instead.\n",
      "  end_date = max(srs.fillna(method='bfill').dropna().index)\n",
      "/tmp/ipykernel_54851/1030994316.py:59: FutureWarning: Series.fillna with 'method' is deprecated and will raise in a future version. Use obj.ffill() or obj.bfill() instead.\n",
      "  start_date = min(srs.fillna(method='ffill').dropna().index)\n",
      "/tmp/ipykernel_54851/1030994316.py:60: FutureWarning: Series.fillna with 'method' is deprecated and will raise in a future version. Use obj.ffill() or obj.bfill() instead.\n",
      "  end_date = max(srs.fillna(method='bfill').dropna().index)\n",
      "/tmp/ipykernel_54851/1030994316.py:59: FutureWarning: Series.fillna with 'method' is deprecated and will raise in a future version. Use obj.ffill() or obj.bfill() instead.\n",
      "  start_date = min(srs.fillna(method='ffill').dropna().index)\n",
      "/tmp/ipykernel_54851/1030994316.py:60: FutureWarning: Series.fillna with 'method' is deprecated and will raise in a future version. Use obj.ffill() or obj.bfill() instead.\n",
      "  end_date = max(srs.fillna(method='bfill').dropna().index)\n"
     ]
    },
    {
     "name": "stdout",
     "output_type": "stream",
     "text": [
      "Processing MT_151\n",
      "Processing MT_152\n",
      "Processing MT_153\n"
     ]
    },
    {
     "name": "stderr",
     "output_type": "stream",
     "text": [
      "/tmp/ipykernel_54851/1030994316.py:59: FutureWarning: Series.fillna with 'method' is deprecated and will raise in a future version. Use obj.ffill() or obj.bfill() instead.\n",
      "  start_date = min(srs.fillna(method='ffill').dropna().index)\n",
      "/tmp/ipykernel_54851/1030994316.py:60: FutureWarning: Series.fillna with 'method' is deprecated and will raise in a future version. Use obj.ffill() or obj.bfill() instead.\n",
      "  end_date = max(srs.fillna(method='bfill').dropna().index)\n",
      "/tmp/ipykernel_54851/1030994316.py:59: FutureWarning: Series.fillna with 'method' is deprecated and will raise in a future version. Use obj.ffill() or obj.bfill() instead.\n",
      "  start_date = min(srs.fillna(method='ffill').dropna().index)\n",
      "/tmp/ipykernel_54851/1030994316.py:60: FutureWarning: Series.fillna with 'method' is deprecated and will raise in a future version. Use obj.ffill() or obj.bfill() instead.\n",
      "  end_date = max(srs.fillna(method='bfill').dropna().index)\n",
      "/tmp/ipykernel_54851/1030994316.py:59: FutureWarning: Series.fillna with 'method' is deprecated and will raise in a future version. Use obj.ffill() or obj.bfill() instead.\n",
      "  start_date = min(srs.fillna(method='ffill').dropna().index)\n",
      "/tmp/ipykernel_54851/1030994316.py:60: FutureWarning: Series.fillna with 'method' is deprecated and will raise in a future version. Use obj.ffill() or obj.bfill() instead.\n",
      "  end_date = max(srs.fillna(method='bfill').dropna().index)\n"
     ]
    },
    {
     "name": "stdout",
     "output_type": "stream",
     "text": [
      "Processing MT_154\n",
      "Processing MT_155\n",
      "Processing MT_156\n"
     ]
    },
    {
     "name": "stderr",
     "output_type": "stream",
     "text": [
      "/tmp/ipykernel_54851/1030994316.py:59: FutureWarning: Series.fillna with 'method' is deprecated and will raise in a future version. Use obj.ffill() or obj.bfill() instead.\n",
      "  start_date = min(srs.fillna(method='ffill').dropna().index)\n",
      "/tmp/ipykernel_54851/1030994316.py:60: FutureWarning: Series.fillna with 'method' is deprecated and will raise in a future version. Use obj.ffill() or obj.bfill() instead.\n",
      "  end_date = max(srs.fillna(method='bfill').dropna().index)\n",
      "/tmp/ipykernel_54851/1030994316.py:59: FutureWarning: Series.fillna with 'method' is deprecated and will raise in a future version. Use obj.ffill() or obj.bfill() instead.\n",
      "  start_date = min(srs.fillna(method='ffill').dropna().index)\n",
      "/tmp/ipykernel_54851/1030994316.py:60: FutureWarning: Series.fillna with 'method' is deprecated and will raise in a future version. Use obj.ffill() or obj.bfill() instead.\n",
      "  end_date = max(srs.fillna(method='bfill').dropna().index)\n",
      "/tmp/ipykernel_54851/1030994316.py:59: FutureWarning: Series.fillna with 'method' is deprecated and will raise in a future version. Use obj.ffill() or obj.bfill() instead.\n",
      "  start_date = min(srs.fillna(method='ffill').dropna().index)\n",
      "/tmp/ipykernel_54851/1030994316.py:60: FutureWarning: Series.fillna with 'method' is deprecated and will raise in a future version. Use obj.ffill() or obj.bfill() instead.\n",
      "  end_date = max(srs.fillna(method='bfill').dropna().index)\n"
     ]
    },
    {
     "name": "stdout",
     "output_type": "stream",
     "text": [
      "Processing MT_157\n",
      "Processing MT_158\n",
      "Processing MT_159\n"
     ]
    },
    {
     "name": "stderr",
     "output_type": "stream",
     "text": [
      "/tmp/ipykernel_54851/1030994316.py:59: FutureWarning: Series.fillna with 'method' is deprecated and will raise in a future version. Use obj.ffill() or obj.bfill() instead.\n",
      "  start_date = min(srs.fillna(method='ffill').dropna().index)\n",
      "/tmp/ipykernel_54851/1030994316.py:60: FutureWarning: Series.fillna with 'method' is deprecated and will raise in a future version. Use obj.ffill() or obj.bfill() instead.\n",
      "  end_date = max(srs.fillna(method='bfill').dropna().index)\n",
      "/tmp/ipykernel_54851/1030994316.py:59: FutureWarning: Series.fillna with 'method' is deprecated and will raise in a future version. Use obj.ffill() or obj.bfill() instead.\n",
      "  start_date = min(srs.fillna(method='ffill').dropna().index)\n",
      "/tmp/ipykernel_54851/1030994316.py:60: FutureWarning: Series.fillna with 'method' is deprecated and will raise in a future version. Use obj.ffill() or obj.bfill() instead.\n",
      "  end_date = max(srs.fillna(method='bfill').dropna().index)\n",
      "/tmp/ipykernel_54851/1030994316.py:59: FutureWarning: Series.fillna with 'method' is deprecated and will raise in a future version. Use obj.ffill() or obj.bfill() instead.\n",
      "  start_date = min(srs.fillna(method='ffill').dropna().index)\n",
      "/tmp/ipykernel_54851/1030994316.py:60: FutureWarning: Series.fillna with 'method' is deprecated and will raise in a future version. Use obj.ffill() or obj.bfill() instead.\n",
      "  end_date = max(srs.fillna(method='bfill').dropna().index)\n"
     ]
    },
    {
     "name": "stdout",
     "output_type": "stream",
     "text": [
      "Processing MT_160\n",
      "Processing MT_161\n",
      "Processing MT_162\n"
     ]
    },
    {
     "name": "stderr",
     "output_type": "stream",
     "text": [
      "/tmp/ipykernel_54851/1030994316.py:59: FutureWarning: Series.fillna with 'method' is deprecated and will raise in a future version. Use obj.ffill() or obj.bfill() instead.\n",
      "  start_date = min(srs.fillna(method='ffill').dropna().index)\n",
      "/tmp/ipykernel_54851/1030994316.py:60: FutureWarning: Series.fillna with 'method' is deprecated and will raise in a future version. Use obj.ffill() or obj.bfill() instead.\n",
      "  end_date = max(srs.fillna(method='bfill').dropna().index)\n",
      "/tmp/ipykernel_54851/1030994316.py:59: FutureWarning: Series.fillna with 'method' is deprecated and will raise in a future version. Use obj.ffill() or obj.bfill() instead.\n",
      "  start_date = min(srs.fillna(method='ffill').dropna().index)\n",
      "/tmp/ipykernel_54851/1030994316.py:60: FutureWarning: Series.fillna with 'method' is deprecated and will raise in a future version. Use obj.ffill() or obj.bfill() instead.\n",
      "  end_date = max(srs.fillna(method='bfill').dropna().index)\n",
      "/tmp/ipykernel_54851/1030994316.py:59: FutureWarning: Series.fillna with 'method' is deprecated and will raise in a future version. Use obj.ffill() or obj.bfill() instead.\n",
      "  start_date = min(srs.fillna(method='ffill').dropna().index)\n",
      "/tmp/ipykernel_54851/1030994316.py:60: FutureWarning: Series.fillna with 'method' is deprecated and will raise in a future version. Use obj.ffill() or obj.bfill() instead.\n",
      "  end_date = max(srs.fillna(method='bfill').dropna().index)\n"
     ]
    },
    {
     "name": "stdout",
     "output_type": "stream",
     "text": [
      "Processing MT_163\n",
      "Processing MT_164\n",
      "Processing MT_165\n"
     ]
    },
    {
     "name": "stderr",
     "output_type": "stream",
     "text": [
      "/tmp/ipykernel_54851/1030994316.py:59: FutureWarning: Series.fillna with 'method' is deprecated and will raise in a future version. Use obj.ffill() or obj.bfill() instead.\n",
      "  start_date = min(srs.fillna(method='ffill').dropna().index)\n",
      "/tmp/ipykernel_54851/1030994316.py:60: FutureWarning: Series.fillna with 'method' is deprecated and will raise in a future version. Use obj.ffill() or obj.bfill() instead.\n",
      "  end_date = max(srs.fillna(method='bfill').dropna().index)\n",
      "/tmp/ipykernel_54851/1030994316.py:59: FutureWarning: Series.fillna with 'method' is deprecated and will raise in a future version. Use obj.ffill() or obj.bfill() instead.\n",
      "  start_date = min(srs.fillna(method='ffill').dropna().index)\n",
      "/tmp/ipykernel_54851/1030994316.py:60: FutureWarning: Series.fillna with 'method' is deprecated and will raise in a future version. Use obj.ffill() or obj.bfill() instead.\n",
      "  end_date = max(srs.fillna(method='bfill').dropna().index)\n",
      "/tmp/ipykernel_54851/1030994316.py:59: FutureWarning: Series.fillna with 'method' is deprecated and will raise in a future version. Use obj.ffill() or obj.bfill() instead.\n",
      "  start_date = min(srs.fillna(method='ffill').dropna().index)\n",
      "/tmp/ipykernel_54851/1030994316.py:60: FutureWarning: Series.fillna with 'method' is deprecated and will raise in a future version. Use obj.ffill() or obj.bfill() instead.\n",
      "  end_date = max(srs.fillna(method='bfill').dropna().index)\n"
     ]
    },
    {
     "name": "stdout",
     "output_type": "stream",
     "text": [
      "Processing MT_166\n",
      "Processing MT_167\n",
      "Processing MT_168\n"
     ]
    },
    {
     "name": "stderr",
     "output_type": "stream",
     "text": [
      "/tmp/ipykernel_54851/1030994316.py:59: FutureWarning: Series.fillna with 'method' is deprecated and will raise in a future version. Use obj.ffill() or obj.bfill() instead.\n",
      "  start_date = min(srs.fillna(method='ffill').dropna().index)\n",
      "/tmp/ipykernel_54851/1030994316.py:60: FutureWarning: Series.fillna with 'method' is deprecated and will raise in a future version. Use obj.ffill() or obj.bfill() instead.\n",
      "  end_date = max(srs.fillna(method='bfill').dropna().index)\n",
      "/tmp/ipykernel_54851/1030994316.py:59: FutureWarning: Series.fillna with 'method' is deprecated and will raise in a future version. Use obj.ffill() or obj.bfill() instead.\n",
      "  start_date = min(srs.fillna(method='ffill').dropna().index)\n",
      "/tmp/ipykernel_54851/1030994316.py:60: FutureWarning: Series.fillna with 'method' is deprecated and will raise in a future version. Use obj.ffill() or obj.bfill() instead.\n",
      "  end_date = max(srs.fillna(method='bfill').dropna().index)\n",
      "/tmp/ipykernel_54851/1030994316.py:59: FutureWarning: Series.fillna with 'method' is deprecated and will raise in a future version. Use obj.ffill() or obj.bfill() instead.\n",
      "  start_date = min(srs.fillna(method='ffill').dropna().index)\n",
      "/tmp/ipykernel_54851/1030994316.py:60: FutureWarning: Series.fillna with 'method' is deprecated and will raise in a future version. Use obj.ffill() or obj.bfill() instead.\n",
      "  end_date = max(srs.fillna(method='bfill').dropna().index)\n"
     ]
    },
    {
     "name": "stdout",
     "output_type": "stream",
     "text": [
      "Processing MT_169\n",
      "Processing MT_170\n",
      "Processing MT_171\n"
     ]
    },
    {
     "name": "stderr",
     "output_type": "stream",
     "text": [
      "/tmp/ipykernel_54851/1030994316.py:59: FutureWarning: Series.fillna with 'method' is deprecated and will raise in a future version. Use obj.ffill() or obj.bfill() instead.\n",
      "  start_date = min(srs.fillna(method='ffill').dropna().index)\n",
      "/tmp/ipykernel_54851/1030994316.py:60: FutureWarning: Series.fillna with 'method' is deprecated and will raise in a future version. Use obj.ffill() or obj.bfill() instead.\n",
      "  end_date = max(srs.fillna(method='bfill').dropna().index)\n",
      "/tmp/ipykernel_54851/1030994316.py:59: FutureWarning: Series.fillna with 'method' is deprecated and will raise in a future version. Use obj.ffill() or obj.bfill() instead.\n",
      "  start_date = min(srs.fillna(method='ffill').dropna().index)\n",
      "/tmp/ipykernel_54851/1030994316.py:60: FutureWarning: Series.fillna with 'method' is deprecated and will raise in a future version. Use obj.ffill() or obj.bfill() instead.\n",
      "  end_date = max(srs.fillna(method='bfill').dropna().index)\n",
      "/tmp/ipykernel_54851/1030994316.py:59: FutureWarning: Series.fillna with 'method' is deprecated and will raise in a future version. Use obj.ffill() or obj.bfill() instead.\n",
      "  start_date = min(srs.fillna(method='ffill').dropna().index)\n",
      "/tmp/ipykernel_54851/1030994316.py:60: FutureWarning: Series.fillna with 'method' is deprecated and will raise in a future version. Use obj.ffill() or obj.bfill() instead.\n",
      "  end_date = max(srs.fillna(method='bfill').dropna().index)\n"
     ]
    },
    {
     "name": "stdout",
     "output_type": "stream",
     "text": [
      "Processing MT_172\n",
      "Processing MT_173\n",
      "Processing MT_174\n"
     ]
    },
    {
     "name": "stderr",
     "output_type": "stream",
     "text": [
      "/tmp/ipykernel_54851/1030994316.py:59: FutureWarning: Series.fillna with 'method' is deprecated and will raise in a future version. Use obj.ffill() or obj.bfill() instead.\n",
      "  start_date = min(srs.fillna(method='ffill').dropna().index)\n",
      "/tmp/ipykernel_54851/1030994316.py:60: FutureWarning: Series.fillna with 'method' is deprecated and will raise in a future version. Use obj.ffill() or obj.bfill() instead.\n",
      "  end_date = max(srs.fillna(method='bfill').dropna().index)\n",
      "/tmp/ipykernel_54851/1030994316.py:59: FutureWarning: Series.fillna with 'method' is deprecated and will raise in a future version. Use obj.ffill() or obj.bfill() instead.\n",
      "  start_date = min(srs.fillna(method='ffill').dropna().index)\n",
      "/tmp/ipykernel_54851/1030994316.py:60: FutureWarning: Series.fillna with 'method' is deprecated and will raise in a future version. Use obj.ffill() or obj.bfill() instead.\n",
      "  end_date = max(srs.fillna(method='bfill').dropna().index)\n",
      "/tmp/ipykernel_54851/1030994316.py:59: FutureWarning: Series.fillna with 'method' is deprecated and will raise in a future version. Use obj.ffill() or obj.bfill() instead.\n",
      "  start_date = min(srs.fillna(method='ffill').dropna().index)\n",
      "/tmp/ipykernel_54851/1030994316.py:60: FutureWarning: Series.fillna with 'method' is deprecated and will raise in a future version. Use obj.ffill() or obj.bfill() instead.\n",
      "  end_date = max(srs.fillna(method='bfill').dropna().index)\n"
     ]
    },
    {
     "name": "stdout",
     "output_type": "stream",
     "text": [
      "Processing MT_175\n",
      "Processing MT_176\n",
      "Processing MT_177\n"
     ]
    },
    {
     "name": "stderr",
     "output_type": "stream",
     "text": [
      "/tmp/ipykernel_54851/1030994316.py:59: FutureWarning: Series.fillna with 'method' is deprecated and will raise in a future version. Use obj.ffill() or obj.bfill() instead.\n",
      "  start_date = min(srs.fillna(method='ffill').dropna().index)\n",
      "/tmp/ipykernel_54851/1030994316.py:60: FutureWarning: Series.fillna with 'method' is deprecated and will raise in a future version. Use obj.ffill() or obj.bfill() instead.\n",
      "  end_date = max(srs.fillna(method='bfill').dropna().index)\n",
      "/tmp/ipykernel_54851/1030994316.py:59: FutureWarning: Series.fillna with 'method' is deprecated and will raise in a future version. Use obj.ffill() or obj.bfill() instead.\n",
      "  start_date = min(srs.fillna(method='ffill').dropna().index)\n",
      "/tmp/ipykernel_54851/1030994316.py:60: FutureWarning: Series.fillna with 'method' is deprecated and will raise in a future version. Use obj.ffill() or obj.bfill() instead.\n",
      "  end_date = max(srs.fillna(method='bfill').dropna().index)\n",
      "/tmp/ipykernel_54851/1030994316.py:59: FutureWarning: Series.fillna with 'method' is deprecated and will raise in a future version. Use obj.ffill() or obj.bfill() instead.\n",
      "  start_date = min(srs.fillna(method='ffill').dropna().index)\n",
      "/tmp/ipykernel_54851/1030994316.py:60: FutureWarning: Series.fillna with 'method' is deprecated and will raise in a future version. Use obj.ffill() or obj.bfill() instead.\n",
      "  end_date = max(srs.fillna(method='bfill').dropna().index)\n"
     ]
    },
    {
     "name": "stdout",
     "output_type": "stream",
     "text": [
      "Processing MT_178\n",
      "Processing MT_179\n",
      "Processing MT_180\n",
      "Processing MT_181\n"
     ]
    },
    {
     "name": "stderr",
     "output_type": "stream",
     "text": [
      "/tmp/ipykernel_54851/1030994316.py:59: FutureWarning: Series.fillna with 'method' is deprecated and will raise in a future version. Use obj.ffill() or obj.bfill() instead.\n",
      "  start_date = min(srs.fillna(method='ffill').dropna().index)\n",
      "/tmp/ipykernel_54851/1030994316.py:60: FutureWarning: Series.fillna with 'method' is deprecated and will raise in a future version. Use obj.ffill() or obj.bfill() instead.\n",
      "  end_date = max(srs.fillna(method='bfill').dropna().index)\n",
      "/tmp/ipykernel_54851/1030994316.py:59: FutureWarning: Series.fillna with 'method' is deprecated and will raise in a future version. Use obj.ffill() or obj.bfill() instead.\n",
      "  start_date = min(srs.fillna(method='ffill').dropna().index)\n",
      "/tmp/ipykernel_54851/1030994316.py:60: FutureWarning: Series.fillna with 'method' is deprecated and will raise in a future version. Use obj.ffill() or obj.bfill() instead.\n",
      "  end_date = max(srs.fillna(method='bfill').dropna().index)\n",
      "/tmp/ipykernel_54851/1030994316.py:59: FutureWarning: Series.fillna with 'method' is deprecated and will raise in a future version. Use obj.ffill() or obj.bfill() instead.\n",
      "  start_date = min(srs.fillna(method='ffill').dropna().index)\n",
      "/tmp/ipykernel_54851/1030994316.py:60: FutureWarning: Series.fillna with 'method' is deprecated and will raise in a future version. Use obj.ffill() or obj.bfill() instead.\n",
      "  end_date = max(srs.fillna(method='bfill').dropna().index)\n",
      "/tmp/ipykernel_54851/1030994316.py:59: FutureWarning: Series.fillna with 'method' is deprecated and will raise in a future version. Use obj.ffill() or obj.bfill() instead.\n",
      "  start_date = min(srs.fillna(method='ffill').dropna().index)\n",
      "/tmp/ipykernel_54851/1030994316.py:60: FutureWarning: Series.fillna with 'method' is deprecated and will raise in a future version. Use obj.ffill() or obj.bfill() instead.\n",
      "  end_date = max(srs.fillna(method='bfill').dropna().index)\n"
     ]
    },
    {
     "name": "stdout",
     "output_type": "stream",
     "text": [
      "Processing MT_182\n",
      "Processing MT_183\n",
      "Processing MT_184\n"
     ]
    },
    {
     "name": "stderr",
     "output_type": "stream",
     "text": [
      "/tmp/ipykernel_54851/1030994316.py:59: FutureWarning: Series.fillna with 'method' is deprecated and will raise in a future version. Use obj.ffill() or obj.bfill() instead.\n",
      "  start_date = min(srs.fillna(method='ffill').dropna().index)\n",
      "/tmp/ipykernel_54851/1030994316.py:60: FutureWarning: Series.fillna with 'method' is deprecated and will raise in a future version. Use obj.ffill() or obj.bfill() instead.\n",
      "  end_date = max(srs.fillna(method='bfill').dropna().index)\n",
      "/tmp/ipykernel_54851/1030994316.py:59: FutureWarning: Series.fillna with 'method' is deprecated and will raise in a future version. Use obj.ffill() or obj.bfill() instead.\n",
      "  start_date = min(srs.fillna(method='ffill').dropna().index)\n",
      "/tmp/ipykernel_54851/1030994316.py:60: FutureWarning: Series.fillna with 'method' is deprecated and will raise in a future version. Use obj.ffill() or obj.bfill() instead.\n",
      "  end_date = max(srs.fillna(method='bfill').dropna().index)\n",
      "/tmp/ipykernel_54851/1030994316.py:59: FutureWarning: Series.fillna with 'method' is deprecated and will raise in a future version. Use obj.ffill() or obj.bfill() instead.\n",
      "  start_date = min(srs.fillna(method='ffill').dropna().index)\n",
      "/tmp/ipykernel_54851/1030994316.py:60: FutureWarning: Series.fillna with 'method' is deprecated and will raise in a future version. Use obj.ffill() or obj.bfill() instead.\n",
      "  end_date = max(srs.fillna(method='bfill').dropna().index)\n"
     ]
    },
    {
     "name": "stdout",
     "output_type": "stream",
     "text": [
      "Processing MT_185\n",
      "Processing MT_186\n",
      "Processing MT_187\n",
      "Processing MT_188\n"
     ]
    },
    {
     "name": "stderr",
     "output_type": "stream",
     "text": [
      "/tmp/ipykernel_54851/1030994316.py:59: FutureWarning: Series.fillna with 'method' is deprecated and will raise in a future version. Use obj.ffill() or obj.bfill() instead.\n",
      "  start_date = min(srs.fillna(method='ffill').dropna().index)\n",
      "/tmp/ipykernel_54851/1030994316.py:60: FutureWarning: Series.fillna with 'method' is deprecated and will raise in a future version. Use obj.ffill() or obj.bfill() instead.\n",
      "  end_date = max(srs.fillna(method='bfill').dropna().index)\n",
      "/tmp/ipykernel_54851/1030994316.py:59: FutureWarning: Series.fillna with 'method' is deprecated and will raise in a future version. Use obj.ffill() or obj.bfill() instead.\n",
      "  start_date = min(srs.fillna(method='ffill').dropna().index)\n",
      "/tmp/ipykernel_54851/1030994316.py:60: FutureWarning: Series.fillna with 'method' is deprecated and will raise in a future version. Use obj.ffill() or obj.bfill() instead.\n",
      "  end_date = max(srs.fillna(method='bfill').dropna().index)\n",
      "/tmp/ipykernel_54851/1030994316.py:59: FutureWarning: Series.fillna with 'method' is deprecated and will raise in a future version. Use obj.ffill() or obj.bfill() instead.\n",
      "  start_date = min(srs.fillna(method='ffill').dropna().index)\n",
      "/tmp/ipykernel_54851/1030994316.py:60: FutureWarning: Series.fillna with 'method' is deprecated and will raise in a future version. Use obj.ffill() or obj.bfill() instead.\n",
      "  end_date = max(srs.fillna(method='bfill').dropna().index)\n",
      "/tmp/ipykernel_54851/1030994316.py:59: FutureWarning: Series.fillna with 'method' is deprecated and will raise in a future version. Use obj.ffill() or obj.bfill() instead.\n",
      "  start_date = min(srs.fillna(method='ffill').dropna().index)\n",
      "/tmp/ipykernel_54851/1030994316.py:60: FutureWarning: Series.fillna with 'method' is deprecated and will raise in a future version. Use obj.ffill() or obj.bfill() instead.\n",
      "  end_date = max(srs.fillna(method='bfill').dropna().index)\n",
      "/tmp/ipykernel_54851/1030994316.py:59: FutureWarning: Series.fillna with 'method' is deprecated and will raise in a future version. Use obj.ffill() or obj.bfill() instead.\n",
      "  start_date = min(srs.fillna(method='ffill').dropna().index)\n",
      "/tmp/ipykernel_54851/1030994316.py:60: FutureWarning: Series.fillna with 'method' is deprecated and will raise in a future version. Use obj.ffill() or obj.bfill() instead.\n",
      "  end_date = max(srs.fillna(method='bfill').dropna().index)\n",
      "/tmp/ipykernel_54851/1030994316.py:59: FutureWarning: Series.fillna with 'method' is deprecated and will raise in a future version. Use obj.ffill() or obj.bfill() instead.\n",
      "  start_date = min(srs.fillna(method='ffill').dropna().index)\n",
      "/tmp/ipykernel_54851/1030994316.py:60: FutureWarning: Series.fillna with 'method' is deprecated and will raise in a future version. Use obj.ffill() or obj.bfill() instead.\n",
      "  end_date = max(srs.fillna(method='bfill').dropna().index)\n"
     ]
    },
    {
     "name": "stdout",
     "output_type": "stream",
     "text": [
      "Processing MT_189\n",
      "Processing MT_190\n",
      "Processing MT_191\n"
     ]
    },
    {
     "name": "stderr",
     "output_type": "stream",
     "text": [
      "/tmp/ipykernel_54851/1030994316.py:59: FutureWarning: Series.fillna with 'method' is deprecated and will raise in a future version. Use obj.ffill() or obj.bfill() instead.\n",
      "  start_date = min(srs.fillna(method='ffill').dropna().index)\n",
      "/tmp/ipykernel_54851/1030994316.py:60: FutureWarning: Series.fillna with 'method' is deprecated and will raise in a future version. Use obj.ffill() or obj.bfill() instead.\n",
      "  end_date = max(srs.fillna(method='bfill').dropna().index)\n",
      "/tmp/ipykernel_54851/1030994316.py:59: FutureWarning: Series.fillna with 'method' is deprecated and will raise in a future version. Use obj.ffill() or obj.bfill() instead.\n",
      "  start_date = min(srs.fillna(method='ffill').dropna().index)\n",
      "/tmp/ipykernel_54851/1030994316.py:60: FutureWarning: Series.fillna with 'method' is deprecated and will raise in a future version. Use obj.ffill() or obj.bfill() instead.\n",
      "  end_date = max(srs.fillna(method='bfill').dropna().index)\n",
      "/tmp/ipykernel_54851/1030994316.py:59: FutureWarning: Series.fillna with 'method' is deprecated and will raise in a future version. Use obj.ffill() or obj.bfill() instead.\n",
      "  start_date = min(srs.fillna(method='ffill').dropna().index)\n",
      "/tmp/ipykernel_54851/1030994316.py:60: FutureWarning: Series.fillna with 'method' is deprecated and will raise in a future version. Use obj.ffill() or obj.bfill() instead.\n",
      "  end_date = max(srs.fillna(method='bfill').dropna().index)\n"
     ]
    },
    {
     "name": "stdout",
     "output_type": "stream",
     "text": [
      "Processing MT_192\n",
      "Processing MT_193\n",
      "Processing MT_194\n"
     ]
    },
    {
     "name": "stderr",
     "output_type": "stream",
     "text": [
      "/tmp/ipykernel_54851/1030994316.py:59: FutureWarning: Series.fillna with 'method' is deprecated and will raise in a future version. Use obj.ffill() or obj.bfill() instead.\n",
      "  start_date = min(srs.fillna(method='ffill').dropna().index)\n",
      "/tmp/ipykernel_54851/1030994316.py:60: FutureWarning: Series.fillna with 'method' is deprecated and will raise in a future version. Use obj.ffill() or obj.bfill() instead.\n",
      "  end_date = max(srs.fillna(method='bfill').dropna().index)\n",
      "/tmp/ipykernel_54851/1030994316.py:59: FutureWarning: Series.fillna with 'method' is deprecated and will raise in a future version. Use obj.ffill() or obj.bfill() instead.\n",
      "  start_date = min(srs.fillna(method='ffill').dropna().index)\n",
      "/tmp/ipykernel_54851/1030994316.py:60: FutureWarning: Series.fillna with 'method' is deprecated and will raise in a future version. Use obj.ffill() or obj.bfill() instead.\n",
      "  end_date = max(srs.fillna(method='bfill').dropna().index)\n",
      "/tmp/ipykernel_54851/1030994316.py:59: FutureWarning: Series.fillna with 'method' is deprecated and will raise in a future version. Use obj.ffill() or obj.bfill() instead.\n",
      "  start_date = min(srs.fillna(method='ffill').dropna().index)\n",
      "/tmp/ipykernel_54851/1030994316.py:60: FutureWarning: Series.fillna with 'method' is deprecated and will raise in a future version. Use obj.ffill() or obj.bfill() instead.\n",
      "  end_date = max(srs.fillna(method='bfill').dropna().index)\n"
     ]
    },
    {
     "name": "stdout",
     "output_type": "stream",
     "text": [
      "Processing MT_195\n",
      "Processing MT_196\n",
      "Processing MT_197\n"
     ]
    },
    {
     "name": "stderr",
     "output_type": "stream",
     "text": [
      "/tmp/ipykernel_54851/1030994316.py:59: FutureWarning: Series.fillna with 'method' is deprecated and will raise in a future version. Use obj.ffill() or obj.bfill() instead.\n",
      "  start_date = min(srs.fillna(method='ffill').dropna().index)\n",
      "/tmp/ipykernel_54851/1030994316.py:60: FutureWarning: Series.fillna with 'method' is deprecated and will raise in a future version. Use obj.ffill() or obj.bfill() instead.\n",
      "  end_date = max(srs.fillna(method='bfill').dropna().index)\n",
      "/tmp/ipykernel_54851/1030994316.py:59: FutureWarning: Series.fillna with 'method' is deprecated and will raise in a future version. Use obj.ffill() or obj.bfill() instead.\n",
      "  start_date = min(srs.fillna(method='ffill').dropna().index)\n",
      "/tmp/ipykernel_54851/1030994316.py:60: FutureWarning: Series.fillna with 'method' is deprecated and will raise in a future version. Use obj.ffill() or obj.bfill() instead.\n",
      "  end_date = max(srs.fillna(method='bfill').dropna().index)\n",
      "/tmp/ipykernel_54851/1030994316.py:59: FutureWarning: Series.fillna with 'method' is deprecated and will raise in a future version. Use obj.ffill() or obj.bfill() instead.\n",
      "  start_date = min(srs.fillna(method='ffill').dropna().index)\n",
      "/tmp/ipykernel_54851/1030994316.py:60: FutureWarning: Series.fillna with 'method' is deprecated and will raise in a future version. Use obj.ffill() or obj.bfill() instead.\n",
      "  end_date = max(srs.fillna(method='bfill').dropna().index)\n"
     ]
    },
    {
     "name": "stdout",
     "output_type": "stream",
     "text": [
      "Processing MT_198\n",
      "Processing MT_199\n",
      "Processing MT_200\n"
     ]
    },
    {
     "name": "stderr",
     "output_type": "stream",
     "text": [
      "/tmp/ipykernel_54851/1030994316.py:59: FutureWarning: Series.fillna with 'method' is deprecated and will raise in a future version. Use obj.ffill() or obj.bfill() instead.\n",
      "  start_date = min(srs.fillna(method='ffill').dropna().index)\n",
      "/tmp/ipykernel_54851/1030994316.py:60: FutureWarning: Series.fillna with 'method' is deprecated and will raise in a future version. Use obj.ffill() or obj.bfill() instead.\n",
      "  end_date = max(srs.fillna(method='bfill').dropna().index)\n",
      "/tmp/ipykernel_54851/1030994316.py:59: FutureWarning: Series.fillna with 'method' is deprecated and will raise in a future version. Use obj.ffill() or obj.bfill() instead.\n",
      "  start_date = min(srs.fillna(method='ffill').dropna().index)\n",
      "/tmp/ipykernel_54851/1030994316.py:60: FutureWarning: Series.fillna with 'method' is deprecated and will raise in a future version. Use obj.ffill() or obj.bfill() instead.\n",
      "  end_date = max(srs.fillna(method='bfill').dropna().index)\n",
      "/tmp/ipykernel_54851/1030994316.py:59: FutureWarning: Series.fillna with 'method' is deprecated and will raise in a future version. Use obj.ffill() or obj.bfill() instead.\n",
      "  start_date = min(srs.fillna(method='ffill').dropna().index)\n",
      "/tmp/ipykernel_54851/1030994316.py:60: FutureWarning: Series.fillna with 'method' is deprecated and will raise in a future version. Use obj.ffill() or obj.bfill() instead.\n",
      "  end_date = max(srs.fillna(method='bfill').dropna().index)\n"
     ]
    },
    {
     "name": "stdout",
     "output_type": "stream",
     "text": [
      "Processing MT_201\n",
      "Processing MT_202\n",
      "Processing MT_203\n"
     ]
    },
    {
     "name": "stderr",
     "output_type": "stream",
     "text": [
      "/tmp/ipykernel_54851/1030994316.py:59: FutureWarning: Series.fillna with 'method' is deprecated and will raise in a future version. Use obj.ffill() or obj.bfill() instead.\n",
      "  start_date = min(srs.fillna(method='ffill').dropna().index)\n",
      "/tmp/ipykernel_54851/1030994316.py:60: FutureWarning: Series.fillna with 'method' is deprecated and will raise in a future version. Use obj.ffill() or obj.bfill() instead.\n",
      "  end_date = max(srs.fillna(method='bfill').dropna().index)\n",
      "/tmp/ipykernel_54851/1030994316.py:59: FutureWarning: Series.fillna with 'method' is deprecated and will raise in a future version. Use obj.ffill() or obj.bfill() instead.\n",
      "  start_date = min(srs.fillna(method='ffill').dropna().index)\n",
      "/tmp/ipykernel_54851/1030994316.py:60: FutureWarning: Series.fillna with 'method' is deprecated and will raise in a future version. Use obj.ffill() or obj.bfill() instead.\n",
      "  end_date = max(srs.fillna(method='bfill').dropna().index)\n",
      "/tmp/ipykernel_54851/1030994316.py:59: FutureWarning: Series.fillna with 'method' is deprecated and will raise in a future version. Use obj.ffill() or obj.bfill() instead.\n",
      "  start_date = min(srs.fillna(method='ffill').dropna().index)\n"
     ]
    },
    {
     "name": "stdout",
     "output_type": "stream",
     "text": [
      "Processing MT_204\n",
      "Processing MT_205\n",
      "Processing MT_206\n"
     ]
    },
    {
     "name": "stderr",
     "output_type": "stream",
     "text": [
      "/tmp/ipykernel_54851/1030994316.py:60: FutureWarning: Series.fillna with 'method' is deprecated and will raise in a future version. Use obj.ffill() or obj.bfill() instead.\n",
      "  end_date = max(srs.fillna(method='bfill').dropna().index)\n",
      "/tmp/ipykernel_54851/1030994316.py:59: FutureWarning: Series.fillna with 'method' is deprecated and will raise in a future version. Use obj.ffill() or obj.bfill() instead.\n",
      "  start_date = min(srs.fillna(method='ffill').dropna().index)\n",
      "/tmp/ipykernel_54851/1030994316.py:60: FutureWarning: Series.fillna with 'method' is deprecated and will raise in a future version. Use obj.ffill() or obj.bfill() instead.\n",
      "  end_date = max(srs.fillna(method='bfill').dropna().index)\n",
      "/tmp/ipykernel_54851/1030994316.py:59: FutureWarning: Series.fillna with 'method' is deprecated and will raise in a future version. Use obj.ffill() or obj.bfill() instead.\n",
      "  start_date = min(srs.fillna(method='ffill').dropna().index)\n",
      "/tmp/ipykernel_54851/1030994316.py:60: FutureWarning: Series.fillna with 'method' is deprecated and will raise in a future version. Use obj.ffill() or obj.bfill() instead.\n",
      "  end_date = max(srs.fillna(method='bfill').dropna().index)\n",
      "/tmp/ipykernel_54851/1030994316.py:59: FutureWarning: Series.fillna with 'method' is deprecated and will raise in a future version. Use obj.ffill() or obj.bfill() instead.\n",
      "  start_date = min(srs.fillna(method='ffill').dropna().index)\n"
     ]
    },
    {
     "name": "stdout",
     "output_type": "stream",
     "text": [
      "Processing MT_207\n",
      "Processing MT_208\n",
      "Processing MT_209\n"
     ]
    },
    {
     "name": "stderr",
     "output_type": "stream",
     "text": [
      "/tmp/ipykernel_54851/1030994316.py:60: FutureWarning: Series.fillna with 'method' is deprecated and will raise in a future version. Use obj.ffill() or obj.bfill() instead.\n",
      "  end_date = max(srs.fillna(method='bfill').dropna().index)\n",
      "/tmp/ipykernel_54851/1030994316.py:59: FutureWarning: Series.fillna with 'method' is deprecated and will raise in a future version. Use obj.ffill() or obj.bfill() instead.\n",
      "  start_date = min(srs.fillna(method='ffill').dropna().index)\n",
      "/tmp/ipykernel_54851/1030994316.py:60: FutureWarning: Series.fillna with 'method' is deprecated and will raise in a future version. Use obj.ffill() or obj.bfill() instead.\n",
      "  end_date = max(srs.fillna(method='bfill').dropna().index)\n",
      "/tmp/ipykernel_54851/1030994316.py:59: FutureWarning: Series.fillna with 'method' is deprecated and will raise in a future version. Use obj.ffill() or obj.bfill() instead.\n",
      "  start_date = min(srs.fillna(method='ffill').dropna().index)\n",
      "/tmp/ipykernel_54851/1030994316.py:60: FutureWarning: Series.fillna with 'method' is deprecated and will raise in a future version. Use obj.ffill() or obj.bfill() instead.\n",
      "  end_date = max(srs.fillna(method='bfill').dropna().index)\n"
     ]
    },
    {
     "name": "stdout",
     "output_type": "stream",
     "text": [
      "Processing MT_210\n",
      "Processing MT_211\n",
      "Processing MT_212\n"
     ]
    },
    {
     "name": "stderr",
     "output_type": "stream",
     "text": [
      "/tmp/ipykernel_54851/1030994316.py:59: FutureWarning: Series.fillna with 'method' is deprecated and will raise in a future version. Use obj.ffill() or obj.bfill() instead.\n",
      "  start_date = min(srs.fillna(method='ffill').dropna().index)\n",
      "/tmp/ipykernel_54851/1030994316.py:60: FutureWarning: Series.fillna with 'method' is deprecated and will raise in a future version. Use obj.ffill() or obj.bfill() instead.\n",
      "  end_date = max(srs.fillna(method='bfill').dropna().index)\n",
      "/tmp/ipykernel_54851/1030994316.py:59: FutureWarning: Series.fillna with 'method' is deprecated and will raise in a future version. Use obj.ffill() or obj.bfill() instead.\n",
      "  start_date = min(srs.fillna(method='ffill').dropna().index)\n",
      "/tmp/ipykernel_54851/1030994316.py:60: FutureWarning: Series.fillna with 'method' is deprecated and will raise in a future version. Use obj.ffill() or obj.bfill() instead.\n",
      "  end_date = max(srs.fillna(method='bfill').dropna().index)\n",
      "/tmp/ipykernel_54851/1030994316.py:59: FutureWarning: Series.fillna with 'method' is deprecated and will raise in a future version. Use obj.ffill() or obj.bfill() instead.\n",
      "  start_date = min(srs.fillna(method='ffill').dropna().index)\n",
      "/tmp/ipykernel_54851/1030994316.py:60: FutureWarning: Series.fillna with 'method' is deprecated and will raise in a future version. Use obj.ffill() or obj.bfill() instead.\n",
      "  end_date = max(srs.fillna(method='bfill').dropna().index)\n"
     ]
    },
    {
     "name": "stdout",
     "output_type": "stream",
     "text": [
      "Processing MT_213\n",
      "Processing MT_214\n",
      "Processing MT_215\n"
     ]
    },
    {
     "name": "stderr",
     "output_type": "stream",
     "text": [
      "/tmp/ipykernel_54851/1030994316.py:59: FutureWarning: Series.fillna with 'method' is deprecated and will raise in a future version. Use obj.ffill() or obj.bfill() instead.\n",
      "  start_date = min(srs.fillna(method='ffill').dropna().index)\n",
      "/tmp/ipykernel_54851/1030994316.py:60: FutureWarning: Series.fillna with 'method' is deprecated and will raise in a future version. Use obj.ffill() or obj.bfill() instead.\n",
      "  end_date = max(srs.fillna(method='bfill').dropna().index)\n",
      "/tmp/ipykernel_54851/1030994316.py:59: FutureWarning: Series.fillna with 'method' is deprecated and will raise in a future version. Use obj.ffill() or obj.bfill() instead.\n",
      "  start_date = min(srs.fillna(method='ffill').dropna().index)\n",
      "/tmp/ipykernel_54851/1030994316.py:60: FutureWarning: Series.fillna with 'method' is deprecated and will raise in a future version. Use obj.ffill() or obj.bfill() instead.\n",
      "  end_date = max(srs.fillna(method='bfill').dropna().index)\n",
      "/tmp/ipykernel_54851/1030994316.py:59: FutureWarning: Series.fillna with 'method' is deprecated and will raise in a future version. Use obj.ffill() or obj.bfill() instead.\n",
      "  start_date = min(srs.fillna(method='ffill').dropna().index)\n",
      "/tmp/ipykernel_54851/1030994316.py:60: FutureWarning: Series.fillna with 'method' is deprecated and will raise in a future version. Use obj.ffill() or obj.bfill() instead.\n",
      "  end_date = max(srs.fillna(method='bfill').dropna().index)\n"
     ]
    },
    {
     "name": "stdout",
     "output_type": "stream",
     "text": [
      "Processing MT_216\n",
      "Processing MT_217\n",
      "Processing MT_218\n"
     ]
    },
    {
     "name": "stderr",
     "output_type": "stream",
     "text": [
      "/tmp/ipykernel_54851/1030994316.py:59: FutureWarning: Series.fillna with 'method' is deprecated and will raise in a future version. Use obj.ffill() or obj.bfill() instead.\n",
      "  start_date = min(srs.fillna(method='ffill').dropna().index)\n",
      "/tmp/ipykernel_54851/1030994316.py:60: FutureWarning: Series.fillna with 'method' is deprecated and will raise in a future version. Use obj.ffill() or obj.bfill() instead.\n",
      "  end_date = max(srs.fillna(method='bfill').dropna().index)\n",
      "/tmp/ipykernel_54851/1030994316.py:59: FutureWarning: Series.fillna with 'method' is deprecated and will raise in a future version. Use obj.ffill() or obj.bfill() instead.\n",
      "  start_date = min(srs.fillna(method='ffill').dropna().index)\n",
      "/tmp/ipykernel_54851/1030994316.py:60: FutureWarning: Series.fillna with 'method' is deprecated and will raise in a future version. Use obj.ffill() or obj.bfill() instead.\n",
      "  end_date = max(srs.fillna(method='bfill').dropna().index)\n",
      "/tmp/ipykernel_54851/1030994316.py:59: FutureWarning: Series.fillna with 'method' is deprecated and will raise in a future version. Use obj.ffill() or obj.bfill() instead.\n",
      "  start_date = min(srs.fillna(method='ffill').dropna().index)\n",
      "/tmp/ipykernel_54851/1030994316.py:60: FutureWarning: Series.fillna with 'method' is deprecated and will raise in a future version. Use obj.ffill() or obj.bfill() instead.\n",
      "  end_date = max(srs.fillna(method='bfill').dropna().index)\n"
     ]
    },
    {
     "name": "stdout",
     "output_type": "stream",
     "text": [
      "Processing MT_219\n",
      "Processing MT_220\n",
      "Processing MT_221\n"
     ]
    },
    {
     "name": "stderr",
     "output_type": "stream",
     "text": [
      "/tmp/ipykernel_54851/1030994316.py:59: FutureWarning: Series.fillna with 'method' is deprecated and will raise in a future version. Use obj.ffill() or obj.bfill() instead.\n",
      "  start_date = min(srs.fillna(method='ffill').dropna().index)\n",
      "/tmp/ipykernel_54851/1030994316.py:60: FutureWarning: Series.fillna with 'method' is deprecated and will raise in a future version. Use obj.ffill() or obj.bfill() instead.\n",
      "  end_date = max(srs.fillna(method='bfill').dropna().index)\n",
      "/tmp/ipykernel_54851/1030994316.py:59: FutureWarning: Series.fillna with 'method' is deprecated and will raise in a future version. Use obj.ffill() or obj.bfill() instead.\n",
      "  start_date = min(srs.fillna(method='ffill').dropna().index)\n",
      "/tmp/ipykernel_54851/1030994316.py:60: FutureWarning: Series.fillna with 'method' is deprecated and will raise in a future version. Use obj.ffill() or obj.bfill() instead.\n",
      "  end_date = max(srs.fillna(method='bfill').dropna().index)\n",
      "/tmp/ipykernel_54851/1030994316.py:59: FutureWarning: Series.fillna with 'method' is deprecated and will raise in a future version. Use obj.ffill() or obj.bfill() instead.\n",
      "  start_date = min(srs.fillna(method='ffill').dropna().index)\n",
      "/tmp/ipykernel_54851/1030994316.py:60: FutureWarning: Series.fillna with 'method' is deprecated and will raise in a future version. Use obj.ffill() or obj.bfill() instead.\n",
      "  end_date = max(srs.fillna(method='bfill').dropna().index)\n"
     ]
    },
    {
     "name": "stdout",
     "output_type": "stream",
     "text": [
      "Processing MT_222\n",
      "Processing MT_223\n",
      "Processing MT_224\n",
      "Processing MT_225\n"
     ]
    },
    {
     "name": "stderr",
     "output_type": "stream",
     "text": [
      "/tmp/ipykernel_54851/1030994316.py:59: FutureWarning: Series.fillna with 'method' is deprecated and will raise in a future version. Use obj.ffill() or obj.bfill() instead.\n",
      "  start_date = min(srs.fillna(method='ffill').dropna().index)\n",
      "/tmp/ipykernel_54851/1030994316.py:60: FutureWarning: Series.fillna with 'method' is deprecated and will raise in a future version. Use obj.ffill() or obj.bfill() instead.\n",
      "  end_date = max(srs.fillna(method='bfill').dropna().index)\n",
      "/tmp/ipykernel_54851/1030994316.py:59: FutureWarning: Series.fillna with 'method' is deprecated and will raise in a future version. Use obj.ffill() or obj.bfill() instead.\n",
      "  start_date = min(srs.fillna(method='ffill').dropna().index)\n",
      "/tmp/ipykernel_54851/1030994316.py:60: FutureWarning: Series.fillna with 'method' is deprecated and will raise in a future version. Use obj.ffill() or obj.bfill() instead.\n",
      "  end_date = max(srs.fillna(method='bfill').dropna().index)\n",
      "/tmp/ipykernel_54851/1030994316.py:59: FutureWarning: Series.fillna with 'method' is deprecated and will raise in a future version. Use obj.ffill() or obj.bfill() instead.\n",
      "  start_date = min(srs.fillna(method='ffill').dropna().index)\n",
      "/tmp/ipykernel_54851/1030994316.py:60: FutureWarning: Series.fillna with 'method' is deprecated and will raise in a future version. Use obj.ffill() or obj.bfill() instead.\n",
      "  end_date = max(srs.fillna(method='bfill').dropna().index)\n"
     ]
    },
    {
     "name": "stdout",
     "output_type": "stream",
     "text": [
      "Processing MT_226\n",
      "Processing MT_227\n",
      "Processing MT_228\n"
     ]
    },
    {
     "name": "stderr",
     "output_type": "stream",
     "text": [
      "/tmp/ipykernel_54851/1030994316.py:59: FutureWarning: Series.fillna with 'method' is deprecated and will raise in a future version. Use obj.ffill() or obj.bfill() instead.\n",
      "  start_date = min(srs.fillna(method='ffill').dropna().index)\n",
      "/tmp/ipykernel_54851/1030994316.py:60: FutureWarning: Series.fillna with 'method' is deprecated and will raise in a future version. Use obj.ffill() or obj.bfill() instead.\n",
      "  end_date = max(srs.fillna(method='bfill').dropna().index)\n",
      "/tmp/ipykernel_54851/1030994316.py:59: FutureWarning: Series.fillna with 'method' is deprecated and will raise in a future version. Use obj.ffill() or obj.bfill() instead.\n",
      "  start_date = min(srs.fillna(method='ffill').dropna().index)\n",
      "/tmp/ipykernel_54851/1030994316.py:60: FutureWarning: Series.fillna with 'method' is deprecated and will raise in a future version. Use obj.ffill() or obj.bfill() instead.\n",
      "  end_date = max(srs.fillna(method='bfill').dropna().index)\n",
      "/tmp/ipykernel_54851/1030994316.py:59: FutureWarning: Series.fillna with 'method' is deprecated and will raise in a future version. Use obj.ffill() or obj.bfill() instead.\n",
      "  start_date = min(srs.fillna(method='ffill').dropna().index)\n",
      "/tmp/ipykernel_54851/1030994316.py:60: FutureWarning: Series.fillna with 'method' is deprecated and will raise in a future version. Use obj.ffill() or obj.bfill() instead.\n",
      "  end_date = max(srs.fillna(method='bfill').dropna().index)\n"
     ]
    },
    {
     "name": "stdout",
     "output_type": "stream",
     "text": [
      "Processing MT_229\n",
      "Processing MT_230\n",
      "Processing MT_231\n"
     ]
    },
    {
     "name": "stderr",
     "output_type": "stream",
     "text": [
      "/tmp/ipykernel_54851/1030994316.py:59: FutureWarning: Series.fillna with 'method' is deprecated and will raise in a future version. Use obj.ffill() or obj.bfill() instead.\n",
      "  start_date = min(srs.fillna(method='ffill').dropna().index)\n",
      "/tmp/ipykernel_54851/1030994316.py:60: FutureWarning: Series.fillna with 'method' is deprecated and will raise in a future version. Use obj.ffill() or obj.bfill() instead.\n",
      "  end_date = max(srs.fillna(method='bfill').dropna().index)\n",
      "/tmp/ipykernel_54851/1030994316.py:59: FutureWarning: Series.fillna with 'method' is deprecated and will raise in a future version. Use obj.ffill() or obj.bfill() instead.\n",
      "  start_date = min(srs.fillna(method='ffill').dropna().index)\n",
      "/tmp/ipykernel_54851/1030994316.py:60: FutureWarning: Series.fillna with 'method' is deprecated and will raise in a future version. Use obj.ffill() or obj.bfill() instead.\n",
      "  end_date = max(srs.fillna(method='bfill').dropna().index)\n",
      "/tmp/ipykernel_54851/1030994316.py:59: FutureWarning: Series.fillna with 'method' is deprecated and will raise in a future version. Use obj.ffill() or obj.bfill() instead.\n",
      "  start_date = min(srs.fillna(method='ffill').dropna().index)\n",
      "/tmp/ipykernel_54851/1030994316.py:60: FutureWarning: Series.fillna with 'method' is deprecated and will raise in a future version. Use obj.ffill() or obj.bfill() instead.\n",
      "  end_date = max(srs.fillna(method='bfill').dropna().index)\n"
     ]
    },
    {
     "name": "stdout",
     "output_type": "stream",
     "text": [
      "Processing MT_232\n",
      "Processing MT_233\n",
      "Processing MT_234\n"
     ]
    },
    {
     "name": "stderr",
     "output_type": "stream",
     "text": [
      "/tmp/ipykernel_54851/1030994316.py:59: FutureWarning: Series.fillna with 'method' is deprecated and will raise in a future version. Use obj.ffill() or obj.bfill() instead.\n",
      "  start_date = min(srs.fillna(method='ffill').dropna().index)\n",
      "/tmp/ipykernel_54851/1030994316.py:60: FutureWarning: Series.fillna with 'method' is deprecated and will raise in a future version. Use obj.ffill() or obj.bfill() instead.\n",
      "  end_date = max(srs.fillna(method='bfill').dropna().index)\n",
      "/tmp/ipykernel_54851/1030994316.py:59: FutureWarning: Series.fillna with 'method' is deprecated and will raise in a future version. Use obj.ffill() or obj.bfill() instead.\n",
      "  start_date = min(srs.fillna(method='ffill').dropna().index)\n",
      "/tmp/ipykernel_54851/1030994316.py:60: FutureWarning: Series.fillna with 'method' is deprecated and will raise in a future version. Use obj.ffill() or obj.bfill() instead.\n",
      "  end_date = max(srs.fillna(method='bfill').dropna().index)\n",
      "/tmp/ipykernel_54851/1030994316.py:59: FutureWarning: Series.fillna with 'method' is deprecated and will raise in a future version. Use obj.ffill() or obj.bfill() instead.\n",
      "  start_date = min(srs.fillna(method='ffill').dropna().index)\n",
      "/tmp/ipykernel_54851/1030994316.py:60: FutureWarning: Series.fillna with 'method' is deprecated and will raise in a future version. Use obj.ffill() or obj.bfill() instead.\n",
      "  end_date = max(srs.fillna(method='bfill').dropna().index)\n"
     ]
    },
    {
     "name": "stdout",
     "output_type": "stream",
     "text": [
      "Processing MT_235\n",
      "Processing MT_236\n",
      "Processing MT_237\n"
     ]
    },
    {
     "name": "stderr",
     "output_type": "stream",
     "text": [
      "/tmp/ipykernel_54851/1030994316.py:59: FutureWarning: Series.fillna with 'method' is deprecated and will raise in a future version. Use obj.ffill() or obj.bfill() instead.\n",
      "  start_date = min(srs.fillna(method='ffill').dropna().index)\n",
      "/tmp/ipykernel_54851/1030994316.py:60: FutureWarning: Series.fillna with 'method' is deprecated and will raise in a future version. Use obj.ffill() or obj.bfill() instead.\n",
      "  end_date = max(srs.fillna(method='bfill').dropna().index)\n",
      "/tmp/ipykernel_54851/1030994316.py:59: FutureWarning: Series.fillna with 'method' is deprecated and will raise in a future version. Use obj.ffill() or obj.bfill() instead.\n",
      "  start_date = min(srs.fillna(method='ffill').dropna().index)\n",
      "/tmp/ipykernel_54851/1030994316.py:60: FutureWarning: Series.fillna with 'method' is deprecated and will raise in a future version. Use obj.ffill() or obj.bfill() instead.\n",
      "  end_date = max(srs.fillna(method='bfill').dropna().index)\n",
      "/tmp/ipykernel_54851/1030994316.py:59: FutureWarning: Series.fillna with 'method' is deprecated and will raise in a future version. Use obj.ffill() or obj.bfill() instead.\n",
      "  start_date = min(srs.fillna(method='ffill').dropna().index)\n",
      "/tmp/ipykernel_54851/1030994316.py:60: FutureWarning: Series.fillna with 'method' is deprecated and will raise in a future version. Use obj.ffill() or obj.bfill() instead.\n",
      "  end_date = max(srs.fillna(method='bfill').dropna().index)\n"
     ]
    },
    {
     "name": "stdout",
     "output_type": "stream",
     "text": [
      "Processing MT_238\n",
      "Processing MT_239\n",
      "Processing MT_240\n"
     ]
    },
    {
     "name": "stderr",
     "output_type": "stream",
     "text": [
      "/tmp/ipykernel_54851/1030994316.py:59: FutureWarning: Series.fillna with 'method' is deprecated and will raise in a future version. Use obj.ffill() or obj.bfill() instead.\n",
      "  start_date = min(srs.fillna(method='ffill').dropna().index)\n",
      "/tmp/ipykernel_54851/1030994316.py:60: FutureWarning: Series.fillna with 'method' is deprecated and will raise in a future version. Use obj.ffill() or obj.bfill() instead.\n",
      "  end_date = max(srs.fillna(method='bfill').dropna().index)\n",
      "/tmp/ipykernel_54851/1030994316.py:59: FutureWarning: Series.fillna with 'method' is deprecated and will raise in a future version. Use obj.ffill() or obj.bfill() instead.\n",
      "  start_date = min(srs.fillna(method='ffill').dropna().index)\n",
      "/tmp/ipykernel_54851/1030994316.py:60: FutureWarning: Series.fillna with 'method' is deprecated and will raise in a future version. Use obj.ffill() or obj.bfill() instead.\n",
      "  end_date = max(srs.fillna(method='bfill').dropna().index)\n",
      "/tmp/ipykernel_54851/1030994316.py:59: FutureWarning: Series.fillna with 'method' is deprecated and will raise in a future version. Use obj.ffill() or obj.bfill() instead.\n",
      "  start_date = min(srs.fillna(method='ffill').dropna().index)\n",
      "/tmp/ipykernel_54851/1030994316.py:60: FutureWarning: Series.fillna with 'method' is deprecated and will raise in a future version. Use obj.ffill() or obj.bfill() instead.\n",
      "  end_date = max(srs.fillna(method='bfill').dropna().index)\n",
      "/tmp/ipykernel_54851/1030994316.py:59: FutureWarning: Series.fillna with 'method' is deprecated and will raise in a future version. Use obj.ffill() or obj.bfill() instead.\n",
      "  start_date = min(srs.fillna(method='ffill').dropna().index)\n",
      "/tmp/ipykernel_54851/1030994316.py:60: FutureWarning: Series.fillna with 'method' is deprecated and will raise in a future version. Use obj.ffill() or obj.bfill() instead.\n",
      "  end_date = max(srs.fillna(method='bfill').dropna().index)\n",
      "/tmp/ipykernel_54851/1030994316.py:59: FutureWarning: Series.fillna with 'method' is deprecated and will raise in a future version. Use obj.ffill() or obj.bfill() instead.\n",
      "  start_date = min(srs.fillna(method='ffill').dropna().index)\n",
      "/tmp/ipykernel_54851/1030994316.py:60: FutureWarning: Series.fillna with 'method' is deprecated and will raise in a future version. Use obj.ffill() or obj.bfill() instead.\n",
      "  end_date = max(srs.fillna(method='bfill').dropna().index)\n"
     ]
    },
    {
     "name": "stdout",
     "output_type": "stream",
     "text": [
      "Processing MT_241\n",
      "Processing MT_242\n",
      "Processing MT_243\n"
     ]
    },
    {
     "name": "stderr",
     "output_type": "stream",
     "text": [
      "/tmp/ipykernel_54851/1030994316.py:59: FutureWarning: Series.fillna with 'method' is deprecated and will raise in a future version. Use obj.ffill() or obj.bfill() instead.\n",
      "  start_date = min(srs.fillna(method='ffill').dropna().index)\n",
      "/tmp/ipykernel_54851/1030994316.py:60: FutureWarning: Series.fillna with 'method' is deprecated and will raise in a future version. Use obj.ffill() or obj.bfill() instead.\n",
      "  end_date = max(srs.fillna(method='bfill').dropna().index)\n",
      "/tmp/ipykernel_54851/1030994316.py:59: FutureWarning: Series.fillna with 'method' is deprecated and will raise in a future version. Use obj.ffill() or obj.bfill() instead.\n",
      "  start_date = min(srs.fillna(method='ffill').dropna().index)\n",
      "/tmp/ipykernel_54851/1030994316.py:60: FutureWarning: Series.fillna with 'method' is deprecated and will raise in a future version. Use obj.ffill() or obj.bfill() instead.\n",
      "  end_date = max(srs.fillna(method='bfill').dropna().index)\n",
      "/tmp/ipykernel_54851/1030994316.py:59: FutureWarning: Series.fillna with 'method' is deprecated and will raise in a future version. Use obj.ffill() or obj.bfill() instead.\n",
      "  start_date = min(srs.fillna(method='ffill').dropna().index)\n"
     ]
    },
    {
     "name": "stdout",
     "output_type": "stream",
     "text": [
      "Processing MT_244\n",
      "Processing MT_245\n",
      "Processing MT_246\n"
     ]
    },
    {
     "name": "stderr",
     "output_type": "stream",
     "text": [
      "/tmp/ipykernel_54851/1030994316.py:60: FutureWarning: Series.fillna with 'method' is deprecated and will raise in a future version. Use obj.ffill() or obj.bfill() instead.\n",
      "  end_date = max(srs.fillna(method='bfill').dropna().index)\n",
      "/tmp/ipykernel_54851/1030994316.py:59: FutureWarning: Series.fillna with 'method' is deprecated and will raise in a future version. Use obj.ffill() or obj.bfill() instead.\n",
      "  start_date = min(srs.fillna(method='ffill').dropna().index)\n",
      "/tmp/ipykernel_54851/1030994316.py:60: FutureWarning: Series.fillna with 'method' is deprecated and will raise in a future version. Use obj.ffill() or obj.bfill() instead.\n",
      "  end_date = max(srs.fillna(method='bfill').dropna().index)\n",
      "/tmp/ipykernel_54851/1030994316.py:59: FutureWarning: Series.fillna with 'method' is deprecated and will raise in a future version. Use obj.ffill() or obj.bfill() instead.\n",
      "  start_date = min(srs.fillna(method='ffill').dropna().index)\n",
      "/tmp/ipykernel_54851/1030994316.py:60: FutureWarning: Series.fillna with 'method' is deprecated and will raise in a future version. Use obj.ffill() or obj.bfill() instead.\n",
      "  end_date = max(srs.fillna(method='bfill').dropna().index)\n",
      "/tmp/ipykernel_54851/1030994316.py:59: FutureWarning: Series.fillna with 'method' is deprecated and will raise in a future version. Use obj.ffill() or obj.bfill() instead.\n",
      "  start_date = min(srs.fillna(method='ffill').dropna().index)\n"
     ]
    },
    {
     "name": "stdout",
     "output_type": "stream",
     "text": [
      "Processing MT_247\n",
      "Processing MT_248\n",
      "Processing MT_249\n"
     ]
    },
    {
     "name": "stderr",
     "output_type": "stream",
     "text": [
      "/tmp/ipykernel_54851/1030994316.py:60: FutureWarning: Series.fillna with 'method' is deprecated and will raise in a future version. Use obj.ffill() or obj.bfill() instead.\n",
      "  end_date = max(srs.fillna(method='bfill').dropna().index)\n",
      "/tmp/ipykernel_54851/1030994316.py:59: FutureWarning: Series.fillna with 'method' is deprecated and will raise in a future version. Use obj.ffill() or obj.bfill() instead.\n",
      "  start_date = min(srs.fillna(method='ffill').dropna().index)\n",
      "/tmp/ipykernel_54851/1030994316.py:60: FutureWarning: Series.fillna with 'method' is deprecated and will raise in a future version. Use obj.ffill() or obj.bfill() instead.\n",
      "  end_date = max(srs.fillna(method='bfill').dropna().index)\n",
      "/tmp/ipykernel_54851/1030994316.py:59: FutureWarning: Series.fillna with 'method' is deprecated and will raise in a future version. Use obj.ffill() or obj.bfill() instead.\n",
      "  start_date = min(srs.fillna(method='ffill').dropna().index)\n",
      "/tmp/ipykernel_54851/1030994316.py:60: FutureWarning: Series.fillna with 'method' is deprecated and will raise in a future version. Use obj.ffill() or obj.bfill() instead.\n",
      "  end_date = max(srs.fillna(method='bfill').dropna().index)\n"
     ]
    },
    {
     "name": "stdout",
     "output_type": "stream",
     "text": [
      "Processing MT_250\n",
      "Processing MT_251\n",
      "Processing MT_252\n"
     ]
    },
    {
     "name": "stderr",
     "output_type": "stream",
     "text": [
      "/tmp/ipykernel_54851/1030994316.py:59: FutureWarning: Series.fillna with 'method' is deprecated and will raise in a future version. Use obj.ffill() or obj.bfill() instead.\n",
      "  start_date = min(srs.fillna(method='ffill').dropna().index)\n",
      "/tmp/ipykernel_54851/1030994316.py:60: FutureWarning: Series.fillna with 'method' is deprecated and will raise in a future version. Use obj.ffill() or obj.bfill() instead.\n",
      "  end_date = max(srs.fillna(method='bfill').dropna().index)\n",
      "/tmp/ipykernel_54851/1030994316.py:59: FutureWarning: Series.fillna with 'method' is deprecated and will raise in a future version. Use obj.ffill() or obj.bfill() instead.\n",
      "  start_date = min(srs.fillna(method='ffill').dropna().index)\n",
      "/tmp/ipykernel_54851/1030994316.py:60: FutureWarning: Series.fillna with 'method' is deprecated and will raise in a future version. Use obj.ffill() or obj.bfill() instead.\n",
      "  end_date = max(srs.fillna(method='bfill').dropna().index)\n",
      "/tmp/ipykernel_54851/1030994316.py:59: FutureWarning: Series.fillna with 'method' is deprecated and will raise in a future version. Use obj.ffill() or obj.bfill() instead.\n",
      "  start_date = min(srs.fillna(method='ffill').dropna().index)\n",
      "/tmp/ipykernel_54851/1030994316.py:60: FutureWarning: Series.fillna with 'method' is deprecated and will raise in a future version. Use obj.ffill() or obj.bfill() instead.\n",
      "  end_date = max(srs.fillna(method='bfill').dropna().index)\n"
     ]
    },
    {
     "name": "stdout",
     "output_type": "stream",
     "text": [
      "Processing MT_253\n",
      "Processing MT_254\n",
      "Processing MT_255\n"
     ]
    },
    {
     "name": "stderr",
     "output_type": "stream",
     "text": [
      "/tmp/ipykernel_54851/1030994316.py:59: FutureWarning: Series.fillna with 'method' is deprecated and will raise in a future version. Use obj.ffill() or obj.bfill() instead.\n",
      "  start_date = min(srs.fillna(method='ffill').dropna().index)\n",
      "/tmp/ipykernel_54851/1030994316.py:60: FutureWarning: Series.fillna with 'method' is deprecated and will raise in a future version. Use obj.ffill() or obj.bfill() instead.\n",
      "  end_date = max(srs.fillna(method='bfill').dropna().index)\n",
      "/tmp/ipykernel_54851/1030994316.py:59: FutureWarning: Series.fillna with 'method' is deprecated and will raise in a future version. Use obj.ffill() or obj.bfill() instead.\n",
      "  start_date = min(srs.fillna(method='ffill').dropna().index)\n",
      "/tmp/ipykernel_54851/1030994316.py:60: FutureWarning: Series.fillna with 'method' is deprecated and will raise in a future version. Use obj.ffill() or obj.bfill() instead.\n",
      "  end_date = max(srs.fillna(method='bfill').dropna().index)\n",
      "/tmp/ipykernel_54851/1030994316.py:59: FutureWarning: Series.fillna with 'method' is deprecated and will raise in a future version. Use obj.ffill() or obj.bfill() instead.\n",
      "  start_date = min(srs.fillna(method='ffill').dropna().index)\n",
      "/tmp/ipykernel_54851/1030994316.py:60: FutureWarning: Series.fillna with 'method' is deprecated and will raise in a future version. Use obj.ffill() or obj.bfill() instead.\n",
      "  end_date = max(srs.fillna(method='bfill').dropna().index)\n"
     ]
    },
    {
     "name": "stdout",
     "output_type": "stream",
     "text": [
      "Processing MT_256\n",
      "Processing MT_257\n",
      "Processing MT_258\n"
     ]
    },
    {
     "name": "stderr",
     "output_type": "stream",
     "text": [
      "/tmp/ipykernel_54851/1030994316.py:59: FutureWarning: Series.fillna with 'method' is deprecated and will raise in a future version. Use obj.ffill() or obj.bfill() instead.\n",
      "  start_date = min(srs.fillna(method='ffill').dropna().index)\n",
      "/tmp/ipykernel_54851/1030994316.py:60: FutureWarning: Series.fillna with 'method' is deprecated and will raise in a future version. Use obj.ffill() or obj.bfill() instead.\n",
      "  end_date = max(srs.fillna(method='bfill').dropna().index)\n",
      "/tmp/ipykernel_54851/1030994316.py:59: FutureWarning: Series.fillna with 'method' is deprecated and will raise in a future version. Use obj.ffill() or obj.bfill() instead.\n",
      "  start_date = min(srs.fillna(method='ffill').dropna().index)\n",
      "/tmp/ipykernel_54851/1030994316.py:60: FutureWarning: Series.fillna with 'method' is deprecated and will raise in a future version. Use obj.ffill() or obj.bfill() instead.\n",
      "  end_date = max(srs.fillna(method='bfill').dropna().index)\n",
      "/tmp/ipykernel_54851/1030994316.py:59: FutureWarning: Series.fillna with 'method' is deprecated and will raise in a future version. Use obj.ffill() or obj.bfill() instead.\n",
      "  start_date = min(srs.fillna(method='ffill').dropna().index)\n"
     ]
    },
    {
     "name": "stdout",
     "output_type": "stream",
     "text": [
      "Processing MT_259\n",
      "Processing MT_260\n",
      "Processing MT_261\n"
     ]
    },
    {
     "name": "stderr",
     "output_type": "stream",
     "text": [
      "/tmp/ipykernel_54851/1030994316.py:60: FutureWarning: Series.fillna with 'method' is deprecated and will raise in a future version. Use obj.ffill() or obj.bfill() instead.\n",
      "  end_date = max(srs.fillna(method='bfill').dropna().index)\n",
      "/tmp/ipykernel_54851/1030994316.py:59: FutureWarning: Series.fillna with 'method' is deprecated and will raise in a future version. Use obj.ffill() or obj.bfill() instead.\n",
      "  start_date = min(srs.fillna(method='ffill').dropna().index)\n",
      "/tmp/ipykernel_54851/1030994316.py:60: FutureWarning: Series.fillna with 'method' is deprecated and will raise in a future version. Use obj.ffill() or obj.bfill() instead.\n",
      "  end_date = max(srs.fillna(method='bfill').dropna().index)\n",
      "/tmp/ipykernel_54851/1030994316.py:59: FutureWarning: Series.fillna with 'method' is deprecated and will raise in a future version. Use obj.ffill() or obj.bfill() instead.\n",
      "  start_date = min(srs.fillna(method='ffill').dropna().index)\n",
      "/tmp/ipykernel_54851/1030994316.py:60: FutureWarning: Series.fillna with 'method' is deprecated and will raise in a future version. Use obj.ffill() or obj.bfill() instead.\n",
      "  end_date = max(srs.fillna(method='bfill').dropna().index)\n"
     ]
    },
    {
     "name": "stdout",
     "output_type": "stream",
     "text": [
      "Processing MT_262\n",
      "Processing MT_263\n",
      "Processing MT_264\n"
     ]
    },
    {
     "name": "stderr",
     "output_type": "stream",
     "text": [
      "/tmp/ipykernel_54851/1030994316.py:59: FutureWarning: Series.fillna with 'method' is deprecated and will raise in a future version. Use obj.ffill() or obj.bfill() instead.\n",
      "  start_date = min(srs.fillna(method='ffill').dropna().index)\n",
      "/tmp/ipykernel_54851/1030994316.py:60: FutureWarning: Series.fillna with 'method' is deprecated and will raise in a future version. Use obj.ffill() or obj.bfill() instead.\n",
      "  end_date = max(srs.fillna(method='bfill').dropna().index)\n",
      "/tmp/ipykernel_54851/1030994316.py:59: FutureWarning: Series.fillna with 'method' is deprecated and will raise in a future version. Use obj.ffill() or obj.bfill() instead.\n",
      "  start_date = min(srs.fillna(method='ffill').dropna().index)\n",
      "/tmp/ipykernel_54851/1030994316.py:60: FutureWarning: Series.fillna with 'method' is deprecated and will raise in a future version. Use obj.ffill() or obj.bfill() instead.\n",
      "  end_date = max(srs.fillna(method='bfill').dropna().index)\n",
      "/tmp/ipykernel_54851/1030994316.py:59: FutureWarning: Series.fillna with 'method' is deprecated and will raise in a future version. Use obj.ffill() or obj.bfill() instead.\n",
      "  start_date = min(srs.fillna(method='ffill').dropna().index)\n",
      "/tmp/ipykernel_54851/1030994316.py:60: FutureWarning: Series.fillna with 'method' is deprecated and will raise in a future version. Use obj.ffill() or obj.bfill() instead.\n",
      "  end_date = max(srs.fillna(method='bfill').dropna().index)\n"
     ]
    },
    {
     "name": "stdout",
     "output_type": "stream",
     "text": [
      "Processing MT_265\n",
      "Processing MT_266\n",
      "Processing MT_267\n"
     ]
    },
    {
     "name": "stderr",
     "output_type": "stream",
     "text": [
      "/tmp/ipykernel_54851/1030994316.py:59: FutureWarning: Series.fillna with 'method' is deprecated and will raise in a future version. Use obj.ffill() or obj.bfill() instead.\n",
      "  start_date = min(srs.fillna(method='ffill').dropna().index)\n",
      "/tmp/ipykernel_54851/1030994316.py:60: FutureWarning: Series.fillna with 'method' is deprecated and will raise in a future version. Use obj.ffill() or obj.bfill() instead.\n",
      "  end_date = max(srs.fillna(method='bfill').dropna().index)\n",
      "/tmp/ipykernel_54851/1030994316.py:59: FutureWarning: Series.fillna with 'method' is deprecated and will raise in a future version. Use obj.ffill() or obj.bfill() instead.\n",
      "  start_date = min(srs.fillna(method='ffill').dropna().index)\n",
      "/tmp/ipykernel_54851/1030994316.py:60: FutureWarning: Series.fillna with 'method' is deprecated and will raise in a future version. Use obj.ffill() or obj.bfill() instead.\n",
      "  end_date = max(srs.fillna(method='bfill').dropna().index)\n",
      "/tmp/ipykernel_54851/1030994316.py:59: FutureWarning: Series.fillna with 'method' is deprecated and will raise in a future version. Use obj.ffill() or obj.bfill() instead.\n",
      "  start_date = min(srs.fillna(method='ffill').dropna().index)\n",
      "/tmp/ipykernel_54851/1030994316.py:60: FutureWarning: Series.fillna with 'method' is deprecated and will raise in a future version. Use obj.ffill() or obj.bfill() instead.\n",
      "  end_date = max(srs.fillna(method='bfill').dropna().index)\n"
     ]
    },
    {
     "name": "stdout",
     "output_type": "stream",
     "text": [
      "Processing MT_268\n",
      "Processing MT_269\n",
      "Processing MT_270\n"
     ]
    },
    {
     "name": "stderr",
     "output_type": "stream",
     "text": [
      "/tmp/ipykernel_54851/1030994316.py:59: FutureWarning: Series.fillna with 'method' is deprecated and will raise in a future version. Use obj.ffill() or obj.bfill() instead.\n",
      "  start_date = min(srs.fillna(method='ffill').dropna().index)\n",
      "/tmp/ipykernel_54851/1030994316.py:60: FutureWarning: Series.fillna with 'method' is deprecated and will raise in a future version. Use obj.ffill() or obj.bfill() instead.\n",
      "  end_date = max(srs.fillna(method='bfill').dropna().index)\n",
      "/tmp/ipykernel_54851/1030994316.py:59: FutureWarning: Series.fillna with 'method' is deprecated and will raise in a future version. Use obj.ffill() or obj.bfill() instead.\n",
      "  start_date = min(srs.fillna(method='ffill').dropna().index)\n",
      "/tmp/ipykernel_54851/1030994316.py:60: FutureWarning: Series.fillna with 'method' is deprecated and will raise in a future version. Use obj.ffill() or obj.bfill() instead.\n",
      "  end_date = max(srs.fillna(method='bfill').dropna().index)\n",
      "/tmp/ipykernel_54851/1030994316.py:59: FutureWarning: Series.fillna with 'method' is deprecated and will raise in a future version. Use obj.ffill() or obj.bfill() instead.\n",
      "  start_date = min(srs.fillna(method='ffill').dropna().index)\n",
      "/tmp/ipykernel_54851/1030994316.py:60: FutureWarning: Series.fillna with 'method' is deprecated and will raise in a future version. Use obj.ffill() or obj.bfill() instead.\n",
      "  end_date = max(srs.fillna(method='bfill').dropna().index)\n"
     ]
    },
    {
     "name": "stdout",
     "output_type": "stream",
     "text": [
      "Processing MT_271\n",
      "Processing MT_272\n",
      "Processing MT_273\n"
     ]
    },
    {
     "name": "stderr",
     "output_type": "stream",
     "text": [
      "/tmp/ipykernel_54851/1030994316.py:59: FutureWarning: Series.fillna with 'method' is deprecated and will raise in a future version. Use obj.ffill() or obj.bfill() instead.\n",
      "  start_date = min(srs.fillna(method='ffill').dropna().index)\n",
      "/tmp/ipykernel_54851/1030994316.py:60: FutureWarning: Series.fillna with 'method' is deprecated and will raise in a future version. Use obj.ffill() or obj.bfill() instead.\n",
      "  end_date = max(srs.fillna(method='bfill').dropna().index)\n",
      "/tmp/ipykernel_54851/1030994316.py:59: FutureWarning: Series.fillna with 'method' is deprecated and will raise in a future version. Use obj.ffill() or obj.bfill() instead.\n",
      "  start_date = min(srs.fillna(method='ffill').dropna().index)\n",
      "/tmp/ipykernel_54851/1030994316.py:60: FutureWarning: Series.fillna with 'method' is deprecated and will raise in a future version. Use obj.ffill() or obj.bfill() instead.\n",
      "  end_date = max(srs.fillna(method='bfill').dropna().index)\n",
      "/tmp/ipykernel_54851/1030994316.py:59: FutureWarning: Series.fillna with 'method' is deprecated and will raise in a future version. Use obj.ffill() or obj.bfill() instead.\n",
      "  start_date = min(srs.fillna(method='ffill').dropna().index)\n",
      "/tmp/ipykernel_54851/1030994316.py:60: FutureWarning: Series.fillna with 'method' is deprecated and will raise in a future version. Use obj.ffill() or obj.bfill() instead.\n",
      "  end_date = max(srs.fillna(method='bfill').dropna().index)\n",
      "/tmp/ipykernel_54851/1030994316.py:59: FutureWarning: Series.fillna with 'method' is deprecated and will raise in a future version. Use obj.ffill() or obj.bfill() instead.\n",
      "  start_date = min(srs.fillna(method='ffill').dropna().index)\n",
      "/tmp/ipykernel_54851/1030994316.py:60: FutureWarning: Series.fillna with 'method' is deprecated and will raise in a future version. Use obj.ffill() or obj.bfill() instead.\n",
      "  end_date = max(srs.fillna(method='bfill').dropna().index)\n",
      "/tmp/ipykernel_54851/1030994316.py:59: FutureWarning: Series.fillna with 'method' is deprecated and will raise in a future version. Use obj.ffill() or obj.bfill() instead.\n",
      "  start_date = min(srs.fillna(method='ffill').dropna().index)\n",
      "/tmp/ipykernel_54851/1030994316.py:60: FutureWarning: Series.fillna with 'method' is deprecated and will raise in a future version. Use obj.ffill() or obj.bfill() instead.\n",
      "  end_date = max(srs.fillna(method='bfill').dropna().index)\n"
     ]
    },
    {
     "name": "stdout",
     "output_type": "stream",
     "text": [
      "Processing MT_274\n",
      "Processing MT_275\n",
      "Processing MT_276\n"
     ]
    },
    {
     "name": "stderr",
     "output_type": "stream",
     "text": [
      "/tmp/ipykernel_54851/1030994316.py:59: FutureWarning: Series.fillna with 'method' is deprecated and will raise in a future version. Use obj.ffill() or obj.bfill() instead.\n",
      "  start_date = min(srs.fillna(method='ffill').dropna().index)\n",
      "/tmp/ipykernel_54851/1030994316.py:60: FutureWarning: Series.fillna with 'method' is deprecated and will raise in a future version. Use obj.ffill() or obj.bfill() instead.\n",
      "  end_date = max(srs.fillna(method='bfill').dropna().index)\n",
      "/tmp/ipykernel_54851/1030994316.py:59: FutureWarning: Series.fillna with 'method' is deprecated and will raise in a future version. Use obj.ffill() or obj.bfill() instead.\n",
      "  start_date = min(srs.fillna(method='ffill').dropna().index)\n",
      "/tmp/ipykernel_54851/1030994316.py:60: FutureWarning: Series.fillna with 'method' is deprecated and will raise in a future version. Use obj.ffill() or obj.bfill() instead.\n",
      "  end_date = max(srs.fillna(method='bfill').dropna().index)\n",
      "/tmp/ipykernel_54851/1030994316.py:59: FutureWarning: Series.fillna with 'method' is deprecated and will raise in a future version. Use obj.ffill() or obj.bfill() instead.\n",
      "  start_date = min(srs.fillna(method='ffill').dropna().index)\n"
     ]
    },
    {
     "name": "stdout",
     "output_type": "stream",
     "text": [
      "Processing MT_277\n",
      "Processing MT_278\n",
      "Processing MT_279\n"
     ]
    },
    {
     "name": "stderr",
     "output_type": "stream",
     "text": [
      "/tmp/ipykernel_54851/1030994316.py:60: FutureWarning: Series.fillna with 'method' is deprecated and will raise in a future version. Use obj.ffill() or obj.bfill() instead.\n",
      "  end_date = max(srs.fillna(method='bfill').dropna().index)\n",
      "/tmp/ipykernel_54851/1030994316.py:59: FutureWarning: Series.fillna with 'method' is deprecated and will raise in a future version. Use obj.ffill() or obj.bfill() instead.\n",
      "  start_date = min(srs.fillna(method='ffill').dropna().index)\n",
      "/tmp/ipykernel_54851/1030994316.py:60: FutureWarning: Series.fillna with 'method' is deprecated and will raise in a future version. Use obj.ffill() or obj.bfill() instead.\n",
      "  end_date = max(srs.fillna(method='bfill').dropna().index)\n",
      "/tmp/ipykernel_54851/1030994316.py:59: FutureWarning: Series.fillna with 'method' is deprecated and will raise in a future version. Use obj.ffill() or obj.bfill() instead.\n",
      "  start_date = min(srs.fillna(method='ffill').dropna().index)\n",
      "/tmp/ipykernel_54851/1030994316.py:60: FutureWarning: Series.fillna with 'method' is deprecated and will raise in a future version. Use obj.ffill() or obj.bfill() instead.\n",
      "  end_date = max(srs.fillna(method='bfill').dropna().index)\n"
     ]
    },
    {
     "name": "stdout",
     "output_type": "stream",
     "text": [
      "Processing MT_280\n",
      "Processing MT_281\n",
      "Processing MT_282\n"
     ]
    },
    {
     "name": "stderr",
     "output_type": "stream",
     "text": [
      "/tmp/ipykernel_54851/1030994316.py:59: FutureWarning: Series.fillna with 'method' is deprecated and will raise in a future version. Use obj.ffill() or obj.bfill() instead.\n",
      "  start_date = min(srs.fillna(method='ffill').dropna().index)\n",
      "/tmp/ipykernel_54851/1030994316.py:60: FutureWarning: Series.fillna with 'method' is deprecated and will raise in a future version. Use obj.ffill() or obj.bfill() instead.\n",
      "  end_date = max(srs.fillna(method='bfill').dropna().index)\n",
      "/tmp/ipykernel_54851/1030994316.py:59: FutureWarning: Series.fillna with 'method' is deprecated and will raise in a future version. Use obj.ffill() or obj.bfill() instead.\n",
      "  start_date = min(srs.fillna(method='ffill').dropna().index)\n",
      "/tmp/ipykernel_54851/1030994316.py:60: FutureWarning: Series.fillna with 'method' is deprecated and will raise in a future version. Use obj.ffill() or obj.bfill() instead.\n",
      "  end_date = max(srs.fillna(method='bfill').dropna().index)\n",
      "/tmp/ipykernel_54851/1030994316.py:59: FutureWarning: Series.fillna with 'method' is deprecated and will raise in a future version. Use obj.ffill() or obj.bfill() instead.\n",
      "  start_date = min(srs.fillna(method='ffill').dropna().index)\n",
      "/tmp/ipykernel_54851/1030994316.py:60: FutureWarning: Series.fillna with 'method' is deprecated and will raise in a future version. Use obj.ffill() or obj.bfill() instead.\n",
      "  end_date = max(srs.fillna(method='bfill').dropna().index)\n"
     ]
    },
    {
     "name": "stdout",
     "output_type": "stream",
     "text": [
      "Processing MT_283\n",
      "Processing MT_284\n",
      "Processing MT_285\n"
     ]
    },
    {
     "name": "stderr",
     "output_type": "stream",
     "text": [
      "/tmp/ipykernel_54851/1030994316.py:59: FutureWarning: Series.fillna with 'method' is deprecated and will raise in a future version. Use obj.ffill() or obj.bfill() instead.\n",
      "  start_date = min(srs.fillna(method='ffill').dropna().index)\n",
      "/tmp/ipykernel_54851/1030994316.py:60: FutureWarning: Series.fillna with 'method' is deprecated and will raise in a future version. Use obj.ffill() or obj.bfill() instead.\n",
      "  end_date = max(srs.fillna(method='bfill').dropna().index)\n",
      "/tmp/ipykernel_54851/1030994316.py:59: FutureWarning: Series.fillna with 'method' is deprecated and will raise in a future version. Use obj.ffill() or obj.bfill() instead.\n",
      "  start_date = min(srs.fillna(method='ffill').dropna().index)\n",
      "/tmp/ipykernel_54851/1030994316.py:60: FutureWarning: Series.fillna with 'method' is deprecated and will raise in a future version. Use obj.ffill() or obj.bfill() instead.\n",
      "  end_date = max(srs.fillna(method='bfill').dropna().index)\n",
      "/tmp/ipykernel_54851/1030994316.py:59: FutureWarning: Series.fillna with 'method' is deprecated and will raise in a future version. Use obj.ffill() or obj.bfill() instead.\n",
      "  start_date = min(srs.fillna(method='ffill').dropna().index)\n"
     ]
    },
    {
     "name": "stdout",
     "output_type": "stream",
     "text": [
      "Processing MT_286\n",
      "Processing MT_287\n",
      "Processing MT_288\n"
     ]
    },
    {
     "name": "stderr",
     "output_type": "stream",
     "text": [
      "/tmp/ipykernel_54851/1030994316.py:60: FutureWarning: Series.fillna with 'method' is deprecated and will raise in a future version. Use obj.ffill() or obj.bfill() instead.\n",
      "  end_date = max(srs.fillna(method='bfill').dropna().index)\n",
      "/tmp/ipykernel_54851/1030994316.py:59: FutureWarning: Series.fillna with 'method' is deprecated and will raise in a future version. Use obj.ffill() or obj.bfill() instead.\n",
      "  start_date = min(srs.fillna(method='ffill').dropna().index)\n",
      "/tmp/ipykernel_54851/1030994316.py:60: FutureWarning: Series.fillna with 'method' is deprecated and will raise in a future version. Use obj.ffill() or obj.bfill() instead.\n",
      "  end_date = max(srs.fillna(method='bfill').dropna().index)\n",
      "/tmp/ipykernel_54851/1030994316.py:59: FutureWarning: Series.fillna with 'method' is deprecated and will raise in a future version. Use obj.ffill() or obj.bfill() instead.\n",
      "  start_date = min(srs.fillna(method='ffill').dropna().index)\n",
      "/tmp/ipykernel_54851/1030994316.py:60: FutureWarning: Series.fillna with 'method' is deprecated and will raise in a future version. Use obj.ffill() or obj.bfill() instead.\n",
      "  end_date = max(srs.fillna(method='bfill').dropna().index)\n",
      "/tmp/ipykernel_54851/1030994316.py:59: FutureWarning: Series.fillna with 'method' is deprecated and will raise in a future version. Use obj.ffill() or obj.bfill() instead.\n",
      "  start_date = min(srs.fillna(method='ffill').dropna().index)\n",
      "/tmp/ipykernel_54851/1030994316.py:60: FutureWarning: Series.fillna with 'method' is deprecated and will raise in a future version. Use obj.ffill() or obj.bfill() instead.\n",
      "  end_date = max(srs.fillna(method='bfill').dropna().index)\n"
     ]
    },
    {
     "name": "stdout",
     "output_type": "stream",
     "text": [
      "Processing MT_289\n",
      "Processing MT_290\n",
      "Processing MT_291\n"
     ]
    },
    {
     "name": "stderr",
     "output_type": "stream",
     "text": [
      "/tmp/ipykernel_54851/1030994316.py:59: FutureWarning: Series.fillna with 'method' is deprecated and will raise in a future version. Use obj.ffill() or obj.bfill() instead.\n",
      "  start_date = min(srs.fillna(method='ffill').dropna().index)\n",
      "/tmp/ipykernel_54851/1030994316.py:60: FutureWarning: Series.fillna with 'method' is deprecated and will raise in a future version. Use obj.ffill() or obj.bfill() instead.\n",
      "  end_date = max(srs.fillna(method='bfill').dropna().index)\n",
      "/tmp/ipykernel_54851/1030994316.py:59: FutureWarning: Series.fillna with 'method' is deprecated and will raise in a future version. Use obj.ffill() or obj.bfill() instead.\n",
      "  start_date = min(srs.fillna(method='ffill').dropna().index)\n",
      "/tmp/ipykernel_54851/1030994316.py:60: FutureWarning: Series.fillna with 'method' is deprecated and will raise in a future version. Use obj.ffill() or obj.bfill() instead.\n",
      "  end_date = max(srs.fillna(method='bfill').dropna().index)\n",
      "/tmp/ipykernel_54851/1030994316.py:59: FutureWarning: Series.fillna with 'method' is deprecated and will raise in a future version. Use obj.ffill() or obj.bfill() instead.\n",
      "  start_date = min(srs.fillna(method='ffill').dropna().index)\n"
     ]
    },
    {
     "name": "stdout",
     "output_type": "stream",
     "text": [
      "Processing MT_292\n",
      "Processing MT_293\n",
      "Processing MT_294\n"
     ]
    },
    {
     "name": "stderr",
     "output_type": "stream",
     "text": [
      "/tmp/ipykernel_54851/1030994316.py:60: FutureWarning: Series.fillna with 'method' is deprecated and will raise in a future version. Use obj.ffill() or obj.bfill() instead.\n",
      "  end_date = max(srs.fillna(method='bfill').dropna().index)\n",
      "/tmp/ipykernel_54851/1030994316.py:59: FutureWarning: Series.fillna with 'method' is deprecated and will raise in a future version. Use obj.ffill() or obj.bfill() instead.\n",
      "  start_date = min(srs.fillna(method='ffill').dropna().index)\n",
      "/tmp/ipykernel_54851/1030994316.py:60: FutureWarning: Series.fillna with 'method' is deprecated and will raise in a future version. Use obj.ffill() or obj.bfill() instead.\n",
      "  end_date = max(srs.fillna(method='bfill').dropna().index)\n",
      "/tmp/ipykernel_54851/1030994316.py:59: FutureWarning: Series.fillna with 'method' is deprecated and will raise in a future version. Use obj.ffill() or obj.bfill() instead.\n",
      "  start_date = min(srs.fillna(method='ffill').dropna().index)\n",
      "/tmp/ipykernel_54851/1030994316.py:60: FutureWarning: Series.fillna with 'method' is deprecated and will raise in a future version. Use obj.ffill() or obj.bfill() instead.\n",
      "  end_date = max(srs.fillna(method='bfill').dropna().index)\n"
     ]
    },
    {
     "name": "stdout",
     "output_type": "stream",
     "text": [
      "Processing MT_295\n",
      "Processing MT_296\n",
      "Processing MT_297\n"
     ]
    },
    {
     "name": "stderr",
     "output_type": "stream",
     "text": [
      "/tmp/ipykernel_54851/1030994316.py:59: FutureWarning: Series.fillna with 'method' is deprecated and will raise in a future version. Use obj.ffill() or obj.bfill() instead.\n",
      "  start_date = min(srs.fillna(method='ffill').dropna().index)\n",
      "/tmp/ipykernel_54851/1030994316.py:60: FutureWarning: Series.fillna with 'method' is deprecated and will raise in a future version. Use obj.ffill() or obj.bfill() instead.\n",
      "  end_date = max(srs.fillna(method='bfill').dropna().index)\n",
      "/tmp/ipykernel_54851/1030994316.py:59: FutureWarning: Series.fillna with 'method' is deprecated and will raise in a future version. Use obj.ffill() or obj.bfill() instead.\n",
      "  start_date = min(srs.fillna(method='ffill').dropna().index)\n",
      "/tmp/ipykernel_54851/1030994316.py:60: FutureWarning: Series.fillna with 'method' is deprecated and will raise in a future version. Use obj.ffill() or obj.bfill() instead.\n",
      "  end_date = max(srs.fillna(method='bfill').dropna().index)\n",
      "/tmp/ipykernel_54851/1030994316.py:59: FutureWarning: Series.fillna with 'method' is deprecated and will raise in a future version. Use obj.ffill() or obj.bfill() instead.\n",
      "  start_date = min(srs.fillna(method='ffill').dropna().index)\n",
      "/tmp/ipykernel_54851/1030994316.py:60: FutureWarning: Series.fillna with 'method' is deprecated and will raise in a future version. Use obj.ffill() or obj.bfill() instead.\n",
      "  end_date = max(srs.fillna(method='bfill').dropna().index)\n"
     ]
    },
    {
     "name": "stdout",
     "output_type": "stream",
     "text": [
      "Processing MT_298\n",
      "Processing MT_299\n",
      "Processing MT_300\n"
     ]
    },
    {
     "name": "stderr",
     "output_type": "stream",
     "text": [
      "/tmp/ipykernel_54851/1030994316.py:59: FutureWarning: Series.fillna with 'method' is deprecated and will raise in a future version. Use obj.ffill() or obj.bfill() instead.\n",
      "  start_date = min(srs.fillna(method='ffill').dropna().index)\n",
      "/tmp/ipykernel_54851/1030994316.py:60: FutureWarning: Series.fillna with 'method' is deprecated and will raise in a future version. Use obj.ffill() or obj.bfill() instead.\n",
      "  end_date = max(srs.fillna(method='bfill').dropna().index)\n",
      "/tmp/ipykernel_54851/1030994316.py:59: FutureWarning: Series.fillna with 'method' is deprecated and will raise in a future version. Use obj.ffill() or obj.bfill() instead.\n",
      "  start_date = min(srs.fillna(method='ffill').dropna().index)\n",
      "/tmp/ipykernel_54851/1030994316.py:60: FutureWarning: Series.fillna with 'method' is deprecated and will raise in a future version. Use obj.ffill() or obj.bfill() instead.\n",
      "  end_date = max(srs.fillna(method='bfill').dropna().index)\n",
      "/tmp/ipykernel_54851/1030994316.py:59: FutureWarning: Series.fillna with 'method' is deprecated and will raise in a future version. Use obj.ffill() or obj.bfill() instead.\n",
      "  start_date = min(srs.fillna(method='ffill').dropna().index)\n",
      "/tmp/ipykernel_54851/1030994316.py:60: FutureWarning: Series.fillna with 'method' is deprecated and will raise in a future version. Use obj.ffill() or obj.bfill() instead.\n",
      "  end_date = max(srs.fillna(method='bfill').dropna().index)\n"
     ]
    },
    {
     "name": "stdout",
     "output_type": "stream",
     "text": [
      "Processing MT_301\n",
      "Processing MT_302\n",
      "Processing MT_303\n"
     ]
    },
    {
     "name": "stderr",
     "output_type": "stream",
     "text": [
      "/tmp/ipykernel_54851/1030994316.py:59: FutureWarning: Series.fillna with 'method' is deprecated and will raise in a future version. Use obj.ffill() or obj.bfill() instead.\n",
      "  start_date = min(srs.fillna(method='ffill').dropna().index)\n",
      "/tmp/ipykernel_54851/1030994316.py:60: FutureWarning: Series.fillna with 'method' is deprecated and will raise in a future version. Use obj.ffill() or obj.bfill() instead.\n",
      "  end_date = max(srs.fillna(method='bfill').dropna().index)\n",
      "/tmp/ipykernel_54851/1030994316.py:59: FutureWarning: Series.fillna with 'method' is deprecated and will raise in a future version. Use obj.ffill() or obj.bfill() instead.\n",
      "  start_date = min(srs.fillna(method='ffill').dropna().index)\n",
      "/tmp/ipykernel_54851/1030994316.py:60: FutureWarning: Series.fillna with 'method' is deprecated and will raise in a future version. Use obj.ffill() or obj.bfill() instead.\n",
      "  end_date = max(srs.fillna(method='bfill').dropna().index)\n",
      "/tmp/ipykernel_54851/1030994316.py:59: FutureWarning: Series.fillna with 'method' is deprecated and will raise in a future version. Use obj.ffill() or obj.bfill() instead.\n",
      "  start_date = min(srs.fillna(method='ffill').dropna().index)\n",
      "/tmp/ipykernel_54851/1030994316.py:60: FutureWarning: Series.fillna with 'method' is deprecated and will raise in a future version. Use obj.ffill() or obj.bfill() instead.\n",
      "  end_date = max(srs.fillna(method='bfill').dropna().index)\n",
      "/tmp/ipykernel_54851/1030994316.py:59: FutureWarning: Series.fillna with 'method' is deprecated and will raise in a future version. Use obj.ffill() or obj.bfill() instead.\n",
      "  start_date = min(srs.fillna(method='ffill').dropna().index)\n",
      "/tmp/ipykernel_54851/1030994316.py:60: FutureWarning: Series.fillna with 'method' is deprecated and will raise in a future version. Use obj.ffill() or obj.bfill() instead.\n",
      "  end_date = max(srs.fillna(method='bfill').dropna().index)\n",
      "/tmp/ipykernel_54851/1030994316.py:59: FutureWarning: Series.fillna with 'method' is deprecated and will raise in a future version. Use obj.ffill() or obj.bfill() instead.\n",
      "  start_date = min(srs.fillna(method='ffill').dropna().index)\n",
      "/tmp/ipykernel_54851/1030994316.py:60: FutureWarning: Series.fillna with 'method' is deprecated and will raise in a future version. Use obj.ffill() or obj.bfill() instead.\n",
      "  end_date = max(srs.fillna(method='bfill').dropna().index)\n",
      "/tmp/ipykernel_54851/1030994316.py:59: FutureWarning: Series.fillna with 'method' is deprecated and will raise in a future version. Use obj.ffill() or obj.bfill() instead.\n",
      "  start_date = min(srs.fillna(method='ffill').dropna().index)\n"
     ]
    },
    {
     "name": "stdout",
     "output_type": "stream",
     "text": [
      "Processing MT_304\n",
      "Processing MT_305\n",
      "Processing MT_306\n"
     ]
    },
    {
     "name": "stderr",
     "output_type": "stream",
     "text": [
      "/tmp/ipykernel_54851/1030994316.py:60: FutureWarning: Series.fillna with 'method' is deprecated and will raise in a future version. Use obj.ffill() or obj.bfill() instead.\n",
      "  end_date = max(srs.fillna(method='bfill').dropna().index)\n",
      "/tmp/ipykernel_54851/1030994316.py:59: FutureWarning: Series.fillna with 'method' is deprecated and will raise in a future version. Use obj.ffill() or obj.bfill() instead.\n",
      "  start_date = min(srs.fillna(method='ffill').dropna().index)\n",
      "/tmp/ipykernel_54851/1030994316.py:60: FutureWarning: Series.fillna with 'method' is deprecated and will raise in a future version. Use obj.ffill() or obj.bfill() instead.\n",
      "  end_date = max(srs.fillna(method='bfill').dropna().index)\n",
      "/tmp/ipykernel_54851/1030994316.py:59: FutureWarning: Series.fillna with 'method' is deprecated and will raise in a future version. Use obj.ffill() or obj.bfill() instead.\n",
      "  start_date = min(srs.fillna(method='ffill').dropna().index)\n",
      "/tmp/ipykernel_54851/1030994316.py:60: FutureWarning: Series.fillna with 'method' is deprecated and will raise in a future version. Use obj.ffill() or obj.bfill() instead.\n",
      "  end_date = max(srs.fillna(method='bfill').dropna().index)\n",
      "/tmp/ipykernel_54851/1030994316.py:59: FutureWarning: Series.fillna with 'method' is deprecated and will raise in a future version. Use obj.ffill() or obj.bfill() instead.\n",
      "  start_date = min(srs.fillna(method='ffill').dropna().index)\n"
     ]
    },
    {
     "name": "stdout",
     "output_type": "stream",
     "text": [
      "Processing MT_307\n",
      "Processing MT_308\n",
      "Processing MT_309\n"
     ]
    },
    {
     "name": "stderr",
     "output_type": "stream",
     "text": [
      "/tmp/ipykernel_54851/1030994316.py:60: FutureWarning: Series.fillna with 'method' is deprecated and will raise in a future version. Use obj.ffill() or obj.bfill() instead.\n",
      "  end_date = max(srs.fillna(method='bfill').dropna().index)\n",
      "/tmp/ipykernel_54851/1030994316.py:59: FutureWarning: Series.fillna with 'method' is deprecated and will raise in a future version. Use obj.ffill() or obj.bfill() instead.\n",
      "  start_date = min(srs.fillna(method='ffill').dropna().index)\n",
      "/tmp/ipykernel_54851/1030994316.py:60: FutureWarning: Series.fillna with 'method' is deprecated and will raise in a future version. Use obj.ffill() or obj.bfill() instead.\n",
      "  end_date = max(srs.fillna(method='bfill').dropna().index)\n",
      "/tmp/ipykernel_54851/1030994316.py:59: FutureWarning: Series.fillna with 'method' is deprecated and will raise in a future version. Use obj.ffill() or obj.bfill() instead.\n",
      "  start_date = min(srs.fillna(method='ffill').dropna().index)\n",
      "/tmp/ipykernel_54851/1030994316.py:60: FutureWarning: Series.fillna with 'method' is deprecated and will raise in a future version. Use obj.ffill() or obj.bfill() instead.\n",
      "  end_date = max(srs.fillna(method='bfill').dropna().index)\n"
     ]
    },
    {
     "name": "stdout",
     "output_type": "stream",
     "text": [
      "Processing MT_310\n",
      "Processing MT_311\n",
      "Processing MT_312\n"
     ]
    },
    {
     "name": "stderr",
     "output_type": "stream",
     "text": [
      "/tmp/ipykernel_54851/1030994316.py:59: FutureWarning: Series.fillna with 'method' is deprecated and will raise in a future version. Use obj.ffill() or obj.bfill() instead.\n",
      "  start_date = min(srs.fillna(method='ffill').dropna().index)\n",
      "/tmp/ipykernel_54851/1030994316.py:60: FutureWarning: Series.fillna with 'method' is deprecated and will raise in a future version. Use obj.ffill() or obj.bfill() instead.\n",
      "  end_date = max(srs.fillna(method='bfill').dropna().index)\n",
      "/tmp/ipykernel_54851/1030994316.py:59: FutureWarning: Series.fillna with 'method' is deprecated and will raise in a future version. Use obj.ffill() or obj.bfill() instead.\n",
      "  start_date = min(srs.fillna(method='ffill').dropna().index)\n",
      "/tmp/ipykernel_54851/1030994316.py:60: FutureWarning: Series.fillna with 'method' is deprecated and will raise in a future version. Use obj.ffill() or obj.bfill() instead.\n",
      "  end_date = max(srs.fillna(method='bfill').dropna().index)\n",
      "/tmp/ipykernel_54851/1030994316.py:59: FutureWarning: Series.fillna with 'method' is deprecated and will raise in a future version. Use obj.ffill() or obj.bfill() instead.\n",
      "  start_date = min(srs.fillna(method='ffill').dropna().index)\n",
      "/tmp/ipykernel_54851/1030994316.py:60: FutureWarning: Series.fillna with 'method' is deprecated and will raise in a future version. Use obj.ffill() or obj.bfill() instead.\n",
      "  end_date = max(srs.fillna(method='bfill').dropna().index)\n"
     ]
    },
    {
     "name": "stdout",
     "output_type": "stream",
     "text": [
      "Processing MT_313\n",
      "Processing MT_314\n",
      "Processing MT_315\n"
     ]
    },
    {
     "name": "stderr",
     "output_type": "stream",
     "text": [
      "/tmp/ipykernel_54851/1030994316.py:59: FutureWarning: Series.fillna with 'method' is deprecated and will raise in a future version. Use obj.ffill() or obj.bfill() instead.\n",
      "  start_date = min(srs.fillna(method='ffill').dropna().index)\n",
      "/tmp/ipykernel_54851/1030994316.py:60: FutureWarning: Series.fillna with 'method' is deprecated and will raise in a future version. Use obj.ffill() or obj.bfill() instead.\n",
      "  end_date = max(srs.fillna(method='bfill').dropna().index)\n",
      "/tmp/ipykernel_54851/1030994316.py:59: FutureWarning: Series.fillna with 'method' is deprecated and will raise in a future version. Use obj.ffill() or obj.bfill() instead.\n",
      "  start_date = min(srs.fillna(method='ffill').dropna().index)\n",
      "/tmp/ipykernel_54851/1030994316.py:60: FutureWarning: Series.fillna with 'method' is deprecated and will raise in a future version. Use obj.ffill() or obj.bfill() instead.\n",
      "  end_date = max(srs.fillna(method='bfill').dropna().index)\n",
      "/tmp/ipykernel_54851/1030994316.py:59: FutureWarning: Series.fillna with 'method' is deprecated and will raise in a future version. Use obj.ffill() or obj.bfill() instead.\n",
      "  start_date = min(srs.fillna(method='ffill').dropna().index)\n"
     ]
    },
    {
     "name": "stdout",
     "output_type": "stream",
     "text": [
      "Processing MT_316\n",
      "Processing MT_317\n",
      "Processing MT_318\n"
     ]
    },
    {
     "name": "stderr",
     "output_type": "stream",
     "text": [
      "/tmp/ipykernel_54851/1030994316.py:60: FutureWarning: Series.fillna with 'method' is deprecated and will raise in a future version. Use obj.ffill() or obj.bfill() instead.\n",
      "  end_date = max(srs.fillna(method='bfill').dropna().index)\n",
      "/tmp/ipykernel_54851/1030994316.py:59: FutureWarning: Series.fillna with 'method' is deprecated and will raise in a future version. Use obj.ffill() or obj.bfill() instead.\n",
      "  start_date = min(srs.fillna(method='ffill').dropna().index)\n",
      "/tmp/ipykernel_54851/1030994316.py:60: FutureWarning: Series.fillna with 'method' is deprecated and will raise in a future version. Use obj.ffill() or obj.bfill() instead.\n",
      "  end_date = max(srs.fillna(method='bfill').dropna().index)\n",
      "/tmp/ipykernel_54851/1030994316.py:59: FutureWarning: Series.fillna with 'method' is deprecated and will raise in a future version. Use obj.ffill() or obj.bfill() instead.\n",
      "  start_date = min(srs.fillna(method='ffill').dropna().index)\n",
      "/tmp/ipykernel_54851/1030994316.py:60: FutureWarning: Series.fillna with 'method' is deprecated and will raise in a future version. Use obj.ffill() or obj.bfill() instead.\n",
      "  end_date = max(srs.fillna(method='bfill').dropna().index)\n"
     ]
    },
    {
     "name": "stdout",
     "output_type": "stream",
     "text": [
      "Processing MT_319\n",
      "Processing MT_320\n",
      "Processing MT_321\n"
     ]
    },
    {
     "name": "stderr",
     "output_type": "stream",
     "text": [
      "/tmp/ipykernel_54851/1030994316.py:59: FutureWarning: Series.fillna with 'method' is deprecated and will raise in a future version. Use obj.ffill() or obj.bfill() instead.\n",
      "  start_date = min(srs.fillna(method='ffill').dropna().index)\n",
      "/tmp/ipykernel_54851/1030994316.py:60: FutureWarning: Series.fillna with 'method' is deprecated and will raise in a future version. Use obj.ffill() or obj.bfill() instead.\n",
      "  end_date = max(srs.fillna(method='bfill').dropna().index)\n",
      "/tmp/ipykernel_54851/1030994316.py:59: FutureWarning: Series.fillna with 'method' is deprecated and will raise in a future version. Use obj.ffill() or obj.bfill() instead.\n",
      "  start_date = min(srs.fillna(method='ffill').dropna().index)\n",
      "/tmp/ipykernel_54851/1030994316.py:60: FutureWarning: Series.fillna with 'method' is deprecated and will raise in a future version. Use obj.ffill() or obj.bfill() instead.\n",
      "  end_date = max(srs.fillna(method='bfill').dropna().index)\n",
      "/tmp/ipykernel_54851/1030994316.py:59: FutureWarning: Series.fillna with 'method' is deprecated and will raise in a future version. Use obj.ffill() or obj.bfill() instead.\n",
      "  start_date = min(srs.fillna(method='ffill').dropna().index)\n",
      "/tmp/ipykernel_54851/1030994316.py:60: FutureWarning: Series.fillna with 'method' is deprecated and will raise in a future version. Use obj.ffill() or obj.bfill() instead.\n",
      "  end_date = max(srs.fillna(method='bfill').dropna().index)\n"
     ]
    },
    {
     "name": "stdout",
     "output_type": "stream",
     "text": [
      "Processing MT_322\n",
      "Processing MT_323\n",
      "Processing MT_324\n"
     ]
    },
    {
     "name": "stderr",
     "output_type": "stream",
     "text": [
      "/tmp/ipykernel_54851/1030994316.py:59: FutureWarning: Series.fillna with 'method' is deprecated and will raise in a future version. Use obj.ffill() or obj.bfill() instead.\n",
      "  start_date = min(srs.fillna(method='ffill').dropna().index)\n",
      "/tmp/ipykernel_54851/1030994316.py:60: FutureWarning: Series.fillna with 'method' is deprecated and will raise in a future version. Use obj.ffill() or obj.bfill() instead.\n",
      "  end_date = max(srs.fillna(method='bfill').dropna().index)\n",
      "/tmp/ipykernel_54851/1030994316.py:59: FutureWarning: Series.fillna with 'method' is deprecated and will raise in a future version. Use obj.ffill() or obj.bfill() instead.\n",
      "  start_date = min(srs.fillna(method='ffill').dropna().index)\n",
      "/tmp/ipykernel_54851/1030994316.py:60: FutureWarning: Series.fillna with 'method' is deprecated and will raise in a future version. Use obj.ffill() or obj.bfill() instead.\n",
      "  end_date = max(srs.fillna(method='bfill').dropna().index)\n",
      "/tmp/ipykernel_54851/1030994316.py:59: FutureWarning: Series.fillna with 'method' is deprecated and will raise in a future version. Use obj.ffill() or obj.bfill() instead.\n",
      "  start_date = min(srs.fillna(method='ffill').dropna().index)\n",
      "/tmp/ipykernel_54851/1030994316.py:60: FutureWarning: Series.fillna with 'method' is deprecated and will raise in a future version. Use obj.ffill() or obj.bfill() instead.\n",
      "  end_date = max(srs.fillna(method='bfill').dropna().index)\n"
     ]
    },
    {
     "name": "stdout",
     "output_type": "stream",
     "text": [
      "Processing MT_325\n",
      "Processing MT_326\n",
      "Processing MT_327\n"
     ]
    },
    {
     "name": "stderr",
     "output_type": "stream",
     "text": [
      "/tmp/ipykernel_54851/1030994316.py:59: FutureWarning: Series.fillna with 'method' is deprecated and will raise in a future version. Use obj.ffill() or obj.bfill() instead.\n",
      "  start_date = min(srs.fillna(method='ffill').dropna().index)\n",
      "/tmp/ipykernel_54851/1030994316.py:60: FutureWarning: Series.fillna with 'method' is deprecated and will raise in a future version. Use obj.ffill() or obj.bfill() instead.\n",
      "  end_date = max(srs.fillna(method='bfill').dropna().index)\n",
      "/tmp/ipykernel_54851/1030994316.py:59: FutureWarning: Series.fillna with 'method' is deprecated and will raise in a future version. Use obj.ffill() or obj.bfill() instead.\n",
      "  start_date = min(srs.fillna(method='ffill').dropna().index)\n",
      "/tmp/ipykernel_54851/1030994316.py:60: FutureWarning: Series.fillna with 'method' is deprecated and will raise in a future version. Use obj.ffill() or obj.bfill() instead.\n",
      "  end_date = max(srs.fillna(method='bfill').dropna().index)\n",
      "/tmp/ipykernel_54851/1030994316.py:59: FutureWarning: Series.fillna with 'method' is deprecated and will raise in a future version. Use obj.ffill() or obj.bfill() instead.\n",
      "  start_date = min(srs.fillna(method='ffill').dropna().index)\n"
     ]
    },
    {
     "name": "stdout",
     "output_type": "stream",
     "text": [
      "Processing MT_328\n",
      "Processing MT_329\n",
      "Processing MT_330\n"
     ]
    },
    {
     "name": "stderr",
     "output_type": "stream",
     "text": [
      "/tmp/ipykernel_54851/1030994316.py:60: FutureWarning: Series.fillna with 'method' is deprecated and will raise in a future version. Use obj.ffill() or obj.bfill() instead.\n",
      "  end_date = max(srs.fillna(method='bfill').dropna().index)\n",
      "/tmp/ipykernel_54851/1030994316.py:59: FutureWarning: Series.fillna with 'method' is deprecated and will raise in a future version. Use obj.ffill() or obj.bfill() instead.\n",
      "  start_date = min(srs.fillna(method='ffill').dropna().index)\n",
      "/tmp/ipykernel_54851/1030994316.py:60: FutureWarning: Series.fillna with 'method' is deprecated and will raise in a future version. Use obj.ffill() or obj.bfill() instead.\n",
      "  end_date = max(srs.fillna(method='bfill').dropna().index)\n",
      "/tmp/ipykernel_54851/1030994316.py:59: FutureWarning: Series.fillna with 'method' is deprecated and will raise in a future version. Use obj.ffill() or obj.bfill() instead.\n",
      "  start_date = min(srs.fillna(method='ffill').dropna().index)\n",
      "/tmp/ipykernel_54851/1030994316.py:60: FutureWarning: Series.fillna with 'method' is deprecated and will raise in a future version. Use obj.ffill() or obj.bfill() instead.\n",
      "  end_date = max(srs.fillna(method='bfill').dropna().index)\n",
      "/tmp/ipykernel_54851/1030994316.py:59: FutureWarning: Series.fillna with 'method' is deprecated and will raise in a future version. Use obj.ffill() or obj.bfill() instead.\n",
      "  start_date = min(srs.fillna(method='ffill').dropna().index)\n"
     ]
    },
    {
     "name": "stdout",
     "output_type": "stream",
     "text": [
      "Processing MT_331\n",
      "Processing MT_332\n",
      "Processing MT_333\n"
     ]
    },
    {
     "name": "stderr",
     "output_type": "stream",
     "text": [
      "/tmp/ipykernel_54851/1030994316.py:60: FutureWarning: Series.fillna with 'method' is deprecated and will raise in a future version. Use obj.ffill() or obj.bfill() instead.\n",
      "  end_date = max(srs.fillna(method='bfill').dropna().index)\n",
      "/tmp/ipykernel_54851/1030994316.py:59: FutureWarning: Series.fillna with 'method' is deprecated and will raise in a future version. Use obj.ffill() or obj.bfill() instead.\n",
      "  start_date = min(srs.fillna(method='ffill').dropna().index)\n",
      "/tmp/ipykernel_54851/1030994316.py:60: FutureWarning: Series.fillna with 'method' is deprecated and will raise in a future version. Use obj.ffill() or obj.bfill() instead.\n",
      "  end_date = max(srs.fillna(method='bfill').dropna().index)\n",
      "/tmp/ipykernel_54851/1030994316.py:59: FutureWarning: Series.fillna with 'method' is deprecated and will raise in a future version. Use obj.ffill() or obj.bfill() instead.\n",
      "  start_date = min(srs.fillna(method='ffill').dropna().index)\n",
      "/tmp/ipykernel_54851/1030994316.py:60: FutureWarning: Series.fillna with 'method' is deprecated and will raise in a future version. Use obj.ffill() or obj.bfill() instead.\n",
      "  end_date = max(srs.fillna(method='bfill').dropna().index)\n",
      "/tmp/ipykernel_54851/1030994316.py:59: FutureWarning: Series.fillna with 'method' is deprecated and will raise in a future version. Use obj.ffill() or obj.bfill() instead.\n",
      "  start_date = min(srs.fillna(method='ffill').dropna().index)\n"
     ]
    },
    {
     "name": "stdout",
     "output_type": "stream",
     "text": [
      "Processing MT_334\n",
      "Processing MT_335\n",
      "Processing MT_336\n"
     ]
    },
    {
     "name": "stderr",
     "output_type": "stream",
     "text": [
      "/tmp/ipykernel_54851/1030994316.py:60: FutureWarning: Series.fillna with 'method' is deprecated and will raise in a future version. Use obj.ffill() or obj.bfill() instead.\n",
      "  end_date = max(srs.fillna(method='bfill').dropna().index)\n",
      "/tmp/ipykernel_54851/1030994316.py:59: FutureWarning: Series.fillna with 'method' is deprecated and will raise in a future version. Use obj.ffill() or obj.bfill() instead.\n",
      "  start_date = min(srs.fillna(method='ffill').dropna().index)\n",
      "/tmp/ipykernel_54851/1030994316.py:60: FutureWarning: Series.fillna with 'method' is deprecated and will raise in a future version. Use obj.ffill() or obj.bfill() instead.\n",
      "  end_date = max(srs.fillna(method='bfill').dropna().index)\n",
      "/tmp/ipykernel_54851/1030994316.py:59: FutureWarning: Series.fillna with 'method' is deprecated and will raise in a future version. Use obj.ffill() or obj.bfill() instead.\n",
      "  start_date = min(srs.fillna(method='ffill').dropna().index)\n",
      "/tmp/ipykernel_54851/1030994316.py:60: FutureWarning: Series.fillna with 'method' is deprecated and will raise in a future version. Use obj.ffill() or obj.bfill() instead.\n",
      "  end_date = max(srs.fillna(method='bfill').dropna().index)\n",
      "/tmp/ipykernel_54851/1030994316.py:59: FutureWarning: Series.fillna with 'method' is deprecated and will raise in a future version. Use obj.ffill() or obj.bfill() instead.\n",
      "  start_date = min(srs.fillna(method='ffill').dropna().index)\n",
      "/tmp/ipykernel_54851/1030994316.py:60: FutureWarning: Series.fillna with 'method' is deprecated and will raise in a future version. Use obj.ffill() or obj.bfill() instead.\n",
      "  end_date = max(srs.fillna(method='bfill').dropna().index)\n"
     ]
    },
    {
     "name": "stdout",
     "output_type": "stream",
     "text": [
      "Processing MT_337\n",
      "Processing MT_338\n",
      "Processing MT_339\n"
     ]
    },
    {
     "name": "stderr",
     "output_type": "stream",
     "text": [
      "/tmp/ipykernel_54851/1030994316.py:59: FutureWarning: Series.fillna with 'method' is deprecated and will raise in a future version. Use obj.ffill() or obj.bfill() instead.\n",
      "  start_date = min(srs.fillna(method='ffill').dropna().index)\n",
      "/tmp/ipykernel_54851/1030994316.py:60: FutureWarning: Series.fillna with 'method' is deprecated and will raise in a future version. Use obj.ffill() or obj.bfill() instead.\n",
      "  end_date = max(srs.fillna(method='bfill').dropna().index)\n",
      "/tmp/ipykernel_54851/1030994316.py:59: FutureWarning: Series.fillna with 'method' is deprecated and will raise in a future version. Use obj.ffill() or obj.bfill() instead.\n",
      "  start_date = min(srs.fillna(method='ffill').dropna().index)\n",
      "/tmp/ipykernel_54851/1030994316.py:60: FutureWarning: Series.fillna with 'method' is deprecated and will raise in a future version. Use obj.ffill() or obj.bfill() instead.\n",
      "  end_date = max(srs.fillna(method='bfill').dropna().index)\n",
      "/tmp/ipykernel_54851/1030994316.py:59: FutureWarning: Series.fillna with 'method' is deprecated and will raise in a future version. Use obj.ffill() or obj.bfill() instead.\n",
      "  start_date = min(srs.fillna(method='ffill').dropna().index)\n",
      "/tmp/ipykernel_54851/1030994316.py:60: FutureWarning: Series.fillna with 'method' is deprecated and will raise in a future version. Use obj.ffill() or obj.bfill() instead.\n",
      "  end_date = max(srs.fillna(method='bfill').dropna().index)\n"
     ]
    },
    {
     "name": "stdout",
     "output_type": "stream",
     "text": [
      "Processing MT_340\n",
      "Processing MT_341\n",
      "Processing MT_342\n"
     ]
    },
    {
     "name": "stderr",
     "output_type": "stream",
     "text": [
      "/tmp/ipykernel_54851/1030994316.py:59: FutureWarning: Series.fillna with 'method' is deprecated and will raise in a future version. Use obj.ffill() or obj.bfill() instead.\n",
      "  start_date = min(srs.fillna(method='ffill').dropna().index)\n",
      "/tmp/ipykernel_54851/1030994316.py:60: FutureWarning: Series.fillna with 'method' is deprecated and will raise in a future version. Use obj.ffill() or obj.bfill() instead.\n",
      "  end_date = max(srs.fillna(method='bfill').dropna().index)\n",
      "/tmp/ipykernel_54851/1030994316.py:59: FutureWarning: Series.fillna with 'method' is deprecated and will raise in a future version. Use obj.ffill() or obj.bfill() instead.\n",
      "  start_date = min(srs.fillna(method='ffill').dropna().index)\n",
      "/tmp/ipykernel_54851/1030994316.py:60: FutureWarning: Series.fillna with 'method' is deprecated and will raise in a future version. Use obj.ffill() or obj.bfill() instead.\n",
      "  end_date = max(srs.fillna(method='bfill').dropna().index)\n",
      "/tmp/ipykernel_54851/1030994316.py:59: FutureWarning: Series.fillna with 'method' is deprecated and will raise in a future version. Use obj.ffill() or obj.bfill() instead.\n",
      "  start_date = min(srs.fillna(method='ffill').dropna().index)\n",
      "/tmp/ipykernel_54851/1030994316.py:60: FutureWarning: Series.fillna with 'method' is deprecated and will raise in a future version. Use obj.ffill() or obj.bfill() instead.\n",
      "  end_date = max(srs.fillna(method='bfill').dropna().index)\n"
     ]
    },
    {
     "name": "stdout",
     "output_type": "stream",
     "text": [
      "Processing MT_343\n",
      "Processing MT_344\n",
      "Processing MT_345\n"
     ]
    },
    {
     "name": "stderr",
     "output_type": "stream",
     "text": [
      "/tmp/ipykernel_54851/1030994316.py:59: FutureWarning: Series.fillna with 'method' is deprecated and will raise in a future version. Use obj.ffill() or obj.bfill() instead.\n",
      "  start_date = min(srs.fillna(method='ffill').dropna().index)\n",
      "/tmp/ipykernel_54851/1030994316.py:60: FutureWarning: Series.fillna with 'method' is deprecated and will raise in a future version. Use obj.ffill() or obj.bfill() instead.\n",
      "  end_date = max(srs.fillna(method='bfill').dropna().index)\n",
      "/tmp/ipykernel_54851/1030994316.py:59: FutureWarning: Series.fillna with 'method' is deprecated and will raise in a future version. Use obj.ffill() or obj.bfill() instead.\n",
      "  start_date = min(srs.fillna(method='ffill').dropna().index)\n",
      "/tmp/ipykernel_54851/1030994316.py:60: FutureWarning: Series.fillna with 'method' is deprecated and will raise in a future version. Use obj.ffill() or obj.bfill() instead.\n",
      "  end_date = max(srs.fillna(method='bfill').dropna().index)\n",
      "/tmp/ipykernel_54851/1030994316.py:59: FutureWarning: Series.fillna with 'method' is deprecated and will raise in a future version. Use obj.ffill() or obj.bfill() instead.\n",
      "  start_date = min(srs.fillna(method='ffill').dropna().index)\n",
      "/tmp/ipykernel_54851/1030994316.py:60: FutureWarning: Series.fillna with 'method' is deprecated and will raise in a future version. Use obj.ffill() or obj.bfill() instead.\n",
      "  end_date = max(srs.fillna(method='bfill').dropna().index)\n",
      "/tmp/ipykernel_54851/1030994316.py:59: FutureWarning: Series.fillna with 'method' is deprecated and will raise in a future version. Use obj.ffill() or obj.bfill() instead.\n",
      "  start_date = min(srs.fillna(method='ffill').dropna().index)\n"
     ]
    },
    {
     "name": "stdout",
     "output_type": "stream",
     "text": [
      "Processing MT_346\n",
      "Processing MT_347\n",
      "Processing MT_348\n"
     ]
    },
    {
     "name": "stderr",
     "output_type": "stream",
     "text": [
      "/tmp/ipykernel_54851/1030994316.py:60: FutureWarning: Series.fillna with 'method' is deprecated and will raise in a future version. Use obj.ffill() or obj.bfill() instead.\n",
      "  end_date = max(srs.fillna(method='bfill').dropna().index)\n",
      "/tmp/ipykernel_54851/1030994316.py:59: FutureWarning: Series.fillna with 'method' is deprecated and will raise in a future version. Use obj.ffill() or obj.bfill() instead.\n",
      "  start_date = min(srs.fillna(method='ffill').dropna().index)\n",
      "/tmp/ipykernel_54851/1030994316.py:60: FutureWarning: Series.fillna with 'method' is deprecated and will raise in a future version. Use obj.ffill() or obj.bfill() instead.\n",
      "  end_date = max(srs.fillna(method='bfill').dropna().index)\n",
      "/tmp/ipykernel_54851/1030994316.py:59: FutureWarning: Series.fillna with 'method' is deprecated and will raise in a future version. Use obj.ffill() or obj.bfill() instead.\n",
      "  start_date = min(srs.fillna(method='ffill').dropna().index)\n",
      "/tmp/ipykernel_54851/1030994316.py:60: FutureWarning: Series.fillna with 'method' is deprecated and will raise in a future version. Use obj.ffill() or obj.bfill() instead.\n",
      "  end_date = max(srs.fillna(method='bfill').dropna().index)\n",
      "/tmp/ipykernel_54851/1030994316.py:59: FutureWarning: Series.fillna with 'method' is deprecated and will raise in a future version. Use obj.ffill() or obj.bfill() instead.\n",
      "  start_date = min(srs.fillna(method='ffill').dropna().index)\n"
     ]
    },
    {
     "name": "stdout",
     "output_type": "stream",
     "text": [
      "Processing MT_349\n",
      "Processing MT_350\n",
      "Processing MT_351\n"
     ]
    },
    {
     "name": "stderr",
     "output_type": "stream",
     "text": [
      "/tmp/ipykernel_54851/1030994316.py:60: FutureWarning: Series.fillna with 'method' is deprecated and will raise in a future version. Use obj.ffill() or obj.bfill() instead.\n",
      "  end_date = max(srs.fillna(method='bfill').dropna().index)\n",
      "/tmp/ipykernel_54851/1030994316.py:59: FutureWarning: Series.fillna with 'method' is deprecated and will raise in a future version. Use obj.ffill() or obj.bfill() instead.\n",
      "  start_date = min(srs.fillna(method='ffill').dropna().index)\n",
      "/tmp/ipykernel_54851/1030994316.py:60: FutureWarning: Series.fillna with 'method' is deprecated and will raise in a future version. Use obj.ffill() or obj.bfill() instead.\n",
      "  end_date = max(srs.fillna(method='bfill').dropna().index)\n",
      "/tmp/ipykernel_54851/1030994316.py:59: FutureWarning: Series.fillna with 'method' is deprecated and will raise in a future version. Use obj.ffill() or obj.bfill() instead.\n",
      "  start_date = min(srs.fillna(method='ffill').dropna().index)\n",
      "/tmp/ipykernel_54851/1030994316.py:60: FutureWarning: Series.fillna with 'method' is deprecated and will raise in a future version. Use obj.ffill() or obj.bfill() instead.\n",
      "  end_date = max(srs.fillna(method='bfill').dropna().index)\n",
      "/tmp/ipykernel_54851/1030994316.py:59: FutureWarning: Series.fillna with 'method' is deprecated and will raise in a future version. Use obj.ffill() or obj.bfill() instead.\n",
      "  start_date = min(srs.fillna(method='ffill').dropna().index)\n"
     ]
    },
    {
     "name": "stdout",
     "output_type": "stream",
     "text": [
      "Processing MT_352\n",
      "Processing MT_353\n",
      "Processing MT_354\n"
     ]
    },
    {
     "name": "stderr",
     "output_type": "stream",
     "text": [
      "/tmp/ipykernel_54851/1030994316.py:60: FutureWarning: Series.fillna with 'method' is deprecated and will raise in a future version. Use obj.ffill() or obj.bfill() instead.\n",
      "  end_date = max(srs.fillna(method='bfill').dropna().index)\n",
      "/tmp/ipykernel_54851/1030994316.py:59: FutureWarning: Series.fillna with 'method' is deprecated and will raise in a future version. Use obj.ffill() or obj.bfill() instead.\n",
      "  start_date = min(srs.fillna(method='ffill').dropna().index)\n",
      "/tmp/ipykernel_54851/1030994316.py:60: FutureWarning: Series.fillna with 'method' is deprecated and will raise in a future version. Use obj.ffill() or obj.bfill() instead.\n",
      "  end_date = max(srs.fillna(method='bfill').dropna().index)\n",
      "/tmp/ipykernel_54851/1030994316.py:59: FutureWarning: Series.fillna with 'method' is deprecated and will raise in a future version. Use obj.ffill() or obj.bfill() instead.\n",
      "  start_date = min(srs.fillna(method='ffill').dropna().index)\n",
      "/tmp/ipykernel_54851/1030994316.py:60: FutureWarning: Series.fillna with 'method' is deprecated and will raise in a future version. Use obj.ffill() or obj.bfill() instead.\n",
      "  end_date = max(srs.fillna(method='bfill').dropna().index)\n",
      "/tmp/ipykernel_54851/1030994316.py:59: FutureWarning: Series.fillna with 'method' is deprecated and will raise in a future version. Use obj.ffill() or obj.bfill() instead.\n",
      "  start_date = min(srs.fillna(method='ffill').dropna().index)\n"
     ]
    },
    {
     "name": "stdout",
     "output_type": "stream",
     "text": [
      "Processing MT_355\n",
      "Processing MT_356\n",
      "Processing MT_357\n"
     ]
    },
    {
     "name": "stderr",
     "output_type": "stream",
     "text": [
      "/tmp/ipykernel_54851/1030994316.py:60: FutureWarning: Series.fillna with 'method' is deprecated and will raise in a future version. Use obj.ffill() or obj.bfill() instead.\n",
      "  end_date = max(srs.fillna(method='bfill').dropna().index)\n",
      "/tmp/ipykernel_54851/1030994316.py:59: FutureWarning: Series.fillna with 'method' is deprecated and will raise in a future version. Use obj.ffill() or obj.bfill() instead.\n",
      "  start_date = min(srs.fillna(method='ffill').dropna().index)\n",
      "/tmp/ipykernel_54851/1030994316.py:60: FutureWarning: Series.fillna with 'method' is deprecated and will raise in a future version. Use obj.ffill() or obj.bfill() instead.\n",
      "  end_date = max(srs.fillna(method='bfill').dropna().index)\n",
      "/tmp/ipykernel_54851/1030994316.py:59: FutureWarning: Series.fillna with 'method' is deprecated and will raise in a future version. Use obj.ffill() or obj.bfill() instead.\n",
      "  start_date = min(srs.fillna(method='ffill').dropna().index)\n",
      "/tmp/ipykernel_54851/1030994316.py:60: FutureWarning: Series.fillna with 'method' is deprecated and will raise in a future version. Use obj.ffill() or obj.bfill() instead.\n",
      "  end_date = max(srs.fillna(method='bfill').dropna().index)\n",
      "/tmp/ipykernel_54851/1030994316.py:59: FutureWarning: Series.fillna with 'method' is deprecated and will raise in a future version. Use obj.ffill() or obj.bfill() instead.\n",
      "  start_date = min(srs.fillna(method='ffill').dropna().index)\n",
      "/tmp/ipykernel_54851/1030994316.py:60: FutureWarning: Series.fillna with 'method' is deprecated and will raise in a future version. Use obj.ffill() or obj.bfill() instead.\n",
      "  end_date = max(srs.fillna(method='bfill').dropna().index)\n"
     ]
    },
    {
     "name": "stdout",
     "output_type": "stream",
     "text": [
      "Processing MT_358\n",
      "Processing MT_359\n",
      "Processing MT_360\n",
      "Processing MT_361\n"
     ]
    },
    {
     "name": "stderr",
     "output_type": "stream",
     "text": [
      "/tmp/ipykernel_54851/1030994316.py:59: FutureWarning: Series.fillna with 'method' is deprecated and will raise in a future version. Use obj.ffill() or obj.bfill() instead.\n",
      "  start_date = min(srs.fillna(method='ffill').dropna().index)\n",
      "/tmp/ipykernel_54851/1030994316.py:60: FutureWarning: Series.fillna with 'method' is deprecated and will raise in a future version. Use obj.ffill() or obj.bfill() instead.\n",
      "  end_date = max(srs.fillna(method='bfill').dropna().index)\n",
      "/tmp/ipykernel_54851/1030994316.py:59: FutureWarning: Series.fillna with 'method' is deprecated and will raise in a future version. Use obj.ffill() or obj.bfill() instead.\n",
      "  start_date = min(srs.fillna(method='ffill').dropna().index)\n",
      "/tmp/ipykernel_54851/1030994316.py:60: FutureWarning: Series.fillna with 'method' is deprecated and will raise in a future version. Use obj.ffill() or obj.bfill() instead.\n",
      "  end_date = max(srs.fillna(method='bfill').dropna().index)\n",
      "/tmp/ipykernel_54851/1030994316.py:59: FutureWarning: Series.fillna with 'method' is deprecated and will raise in a future version. Use obj.ffill() or obj.bfill() instead.\n",
      "  start_date = min(srs.fillna(method='ffill').dropna().index)\n",
      "/tmp/ipykernel_54851/1030994316.py:60: FutureWarning: Series.fillna with 'method' is deprecated and will raise in a future version. Use obj.ffill() or obj.bfill() instead.\n",
      "  end_date = max(srs.fillna(method='bfill').dropna().index)\n"
     ]
    },
    {
     "name": "stdout",
     "output_type": "stream",
     "text": [
      "Processing MT_362\n",
      "Processing MT_363\n",
      "Processing MT_364\n"
     ]
    },
    {
     "name": "stderr",
     "output_type": "stream",
     "text": [
      "/tmp/ipykernel_54851/1030994316.py:59: FutureWarning: Series.fillna with 'method' is deprecated and will raise in a future version. Use obj.ffill() or obj.bfill() instead.\n",
      "  start_date = min(srs.fillna(method='ffill').dropna().index)\n",
      "/tmp/ipykernel_54851/1030994316.py:60: FutureWarning: Series.fillna with 'method' is deprecated and will raise in a future version. Use obj.ffill() or obj.bfill() instead.\n",
      "  end_date = max(srs.fillna(method='bfill').dropna().index)\n",
      "/tmp/ipykernel_54851/1030994316.py:59: FutureWarning: Series.fillna with 'method' is deprecated and will raise in a future version. Use obj.ffill() or obj.bfill() instead.\n",
      "  start_date = min(srs.fillna(method='ffill').dropna().index)\n",
      "/tmp/ipykernel_54851/1030994316.py:60: FutureWarning: Series.fillna with 'method' is deprecated and will raise in a future version. Use obj.ffill() or obj.bfill() instead.\n",
      "  end_date = max(srs.fillna(method='bfill').dropna().index)\n",
      "/tmp/ipykernel_54851/1030994316.py:59: FutureWarning: Series.fillna with 'method' is deprecated and will raise in a future version. Use obj.ffill() or obj.bfill() instead.\n",
      "  start_date = min(srs.fillna(method='ffill').dropna().index)\n",
      "/tmp/ipykernel_54851/1030994316.py:60: FutureWarning: Series.fillna with 'method' is deprecated and will raise in a future version. Use obj.ffill() or obj.bfill() instead.\n",
      "  end_date = max(srs.fillna(method='bfill').dropna().index)\n"
     ]
    },
    {
     "name": "stdout",
     "output_type": "stream",
     "text": [
      "Processing MT_365\n",
      "Processing MT_366\n",
      "Processing MT_367\n"
     ]
    },
    {
     "name": "stderr",
     "output_type": "stream",
     "text": [
      "/tmp/ipykernel_54851/1030994316.py:59: FutureWarning: Series.fillna with 'method' is deprecated and will raise in a future version. Use obj.ffill() or obj.bfill() instead.\n",
      "  start_date = min(srs.fillna(method='ffill').dropna().index)\n",
      "/tmp/ipykernel_54851/1030994316.py:60: FutureWarning: Series.fillna with 'method' is deprecated and will raise in a future version. Use obj.ffill() or obj.bfill() instead.\n",
      "  end_date = max(srs.fillna(method='bfill').dropna().index)\n",
      "/tmp/ipykernel_54851/1030994316.py:59: FutureWarning: Series.fillna with 'method' is deprecated and will raise in a future version. Use obj.ffill() or obj.bfill() instead.\n",
      "  start_date = min(srs.fillna(method='ffill').dropna().index)\n",
      "/tmp/ipykernel_54851/1030994316.py:60: FutureWarning: Series.fillna with 'method' is deprecated and will raise in a future version. Use obj.ffill() or obj.bfill() instead.\n",
      "  end_date = max(srs.fillna(method='bfill').dropna().index)\n",
      "/tmp/ipykernel_54851/1030994316.py:59: FutureWarning: Series.fillna with 'method' is deprecated and will raise in a future version. Use obj.ffill() or obj.bfill() instead.\n",
      "  start_date = min(srs.fillna(method='ffill').dropna().index)\n",
      "/tmp/ipykernel_54851/1030994316.py:60: FutureWarning: Series.fillna with 'method' is deprecated and will raise in a future version. Use obj.ffill() or obj.bfill() instead.\n",
      "  end_date = max(srs.fillna(method='bfill').dropna().index)\n"
     ]
    },
    {
     "name": "stdout",
     "output_type": "stream",
     "text": [
      "Processing MT_368\n",
      "Processing MT_369\n",
      "Processing MT_370\n"
     ]
    },
    {
     "name": "stderr",
     "output_type": "stream",
     "text": [
      "/tmp/ipykernel_54851/1030994316.py:59: FutureWarning: Series.fillna with 'method' is deprecated and will raise in a future version. Use obj.ffill() or obj.bfill() instead.\n",
      "  start_date = min(srs.fillna(method='ffill').dropna().index)\n",
      "/tmp/ipykernel_54851/1030994316.py:60: FutureWarning: Series.fillna with 'method' is deprecated and will raise in a future version. Use obj.ffill() or obj.bfill() instead.\n",
      "  end_date = max(srs.fillna(method='bfill').dropna().index)\n",
      "/tmp/ipykernel_54851/1030994316.py:59: FutureWarning: Series.fillna with 'method' is deprecated and will raise in a future version. Use obj.ffill() or obj.bfill() instead.\n",
      "  start_date = min(srs.fillna(method='ffill').dropna().index)\n",
      "/tmp/ipykernel_54851/1030994316.py:60: FutureWarning: Series.fillna with 'method' is deprecated and will raise in a future version. Use obj.ffill() or obj.bfill() instead.\n",
      "  end_date = max(srs.fillna(method='bfill').dropna().index)\n"
     ]
    },
    {
     "name": "stdout",
     "output_type": "stream",
     "text": [
      "Processed data saved to ./data/processed_electricity_data.csv\n",
      "Done.\n"
     ]
    }
   ],
   "source": [
    "# Run the function\n",
    "if __name__ == '__main__':\n",
    "    download_electricity()\n"
   ]
  },
  {
   "cell_type": "code",
   "execution_count": null,
   "metadata": {},
   "outputs": [],
   "source": []
  }
 ],
 "metadata": {
  "kernelspec": {
   "display_name": "myenv",
   "language": "python",
   "name": "python3"
  },
  "language_info": {
   "codemirror_mode": {
    "name": "ipython",
    "version": 3
   },
   "file_extension": ".py",
   "mimetype": "text/x-python",
   "name": "python",
   "nbconvert_exporter": "python",
   "pygments_lexer": "ipython3",
   "version": "3.11.5"
  }
 },
 "nbformat": 4,
 "nbformat_minor": 2
}
